{
 "cells": [
  {
   "cell_type": "code",
   "execution_count": null,
   "metadata": {},
   "outputs": [],
   "source": []
  },
  {
   "cell_type": "code",
   "execution_count": 6,
   "metadata": {},
   "outputs": [
    {
     "name": "stdout",
     "output_type": "stream",
     "text": [
      "Collecting scipy\n",
      "  Downloading scipy-1.7.0-cp38-cp38-win_amd64.whl (33.7 MB)\n",
      "Requirement already satisfied: numpy<1.23.0,>=1.16.5 in d:\\ana\\lib\\site-packages (from scipy) (1.21.0)\n",
      "Installing collected packages: scipy\n",
      "Successfully installed scipy-1.7.0\n"
     ]
    }
   ],
   "source": [
    "!pip install scipy\r\n"
   ]
  },
  {
   "cell_type": "code",
   "execution_count": 49,
   "metadata": {},
   "outputs": [],
   "source": [
    "import numpy as np\r\n",
    "from scipy.spatial.transform import Rotation as R\r\n",
    "from scipy.ndimage.filters import laplace\r\n",
    "from CMD import mrc_obj\r\n"
   ]
  },
  {
   "cell_type": "code",
   "execution_count": 3,
   "metadata": {},
   "outputs": [],
   "source": [
    "class TBL:\r\n",
    "    def __init__(self):\r\n",
    "        self.t = np.array([0,0,0])\r\n",
    "        self.r = np.array([0,0,0],dtype=float)\r\n",
    "        self.code=0\r\n",
    "        self.sco=0"
   ]
  },
  {
   "cell_type": "code",
   "execution_count": 44,
   "metadata": {},
   "outputs": [],
   "source": [
    "def Euler2mtx(a1,b1,c1,axis=\"zyx\"):\r\n",
    "    r = R.from_euler(axis,[a1,b1,c1],degrees=True)\r\n",
    "    return r.as_matrix()\r\n",
    "\r\n",
    "def mtxmtx(a,b):\r\n",
    "    return np.matmul(a,b)\r\n",
    "def rot_cd(inp,m):\r\n",
    "    return np.dot(m,inp)\r\n",
    "def inverse_mtx(a):\r\n",
    "    return np.linalg.inv(a)\r\n",
    "\r\n",
    "def RotMRC(i,o,rx,ry,rz):\r\n",
    "    \r\n"
   ]
  },
  {
   "cell_type": "code",
   "execution_count": 23,
   "metadata": {},
   "outputs": [
    {
     "name": "stdout",
     "output_type": "stream",
     "text": [
      "M is  [[ 0.  0.  1.]\n",
      " [ 0.  1.  0.]\n",
      " [-1.  0.  0.]]\n",
      "N is [[ 0.  0.  1.]\n",
      " [ 0. -1.  0.]\n",
      " [ 1.  0.  0.]]\n",
      "[[ 1.  0.  0.]\n",
      " [ 0. -1.  0.]\n",
      " [ 0.  0. -1.]]\n"
     ]
    }
   ],
   "source": [
    "m = Euler2mtx(90,90,90,\"xyz\")\r\n",
    "n = Euler2mtx(90,90,90,\"zyx\")\r\n",
    "print(\"M is \",m)\r\n",
    "print(\"N is\",n)\r\n",
    "print(mtxmtx(m,n))"
   ]
  },
  {
   "cell_type": "code",
   "execution_count": 43,
   "metadata": {},
   "outputs": [
    {
     "name": "stdout",
     "output_type": "stream",
     "text": [
      "[-1.  2.  5.]\n",
      "[ 1.  2. -5.]\n"
     ]
    }
   ],
   "source": [
    "a = np.array([5,2,1])\r\n",
    "print(np.dot(m,a))\r\n"
   ]
  },
  {
   "cell_type": "code",
   "execution_count": 48,
   "metadata": {},
   "outputs": [],
   "source": [
    "def GetScore(m1,m2,T):\r\n",
    "    px,py,pz=0\r\n",
    "    t= [0,0,0]\r\n",
    "    xdim = m1.xdim\r\n",
    "    xydim=m1.xdim*m1.ydim\r\n",
    "    xyzdim = xydim * m1.zdim\r\n",
    "    ind1,ind2,tot,Nm,s,sco,cc_sum,pcc_sum,std1,std2,d1,d2,pstd1,pstd2,pd1,pd2,Ncc = 0\r\n",
    "    std1 = m1.std\r\n",
    "    std2=m2.std\r\n",
    "    pstd1 = m1.std_norm_ave\r\n",
    "    pstd2 = m1.std_norm_ave\r\n",
    "    t = T\r\n",
    "    for i in range(3):\r\n",
    "        if(t[i]> 0.*xdim):\r\n",
    "            t[i]-=xdim\r\n",
    "    for x in range(xdim):\r\n",
    "        px = x+t[0]\r\n",
    "        for y in range(xdim):\r\n",
    "            py = y+t[1]\r\n",
    "            for z in range(xdim):\r\n",
    "                pz = z + t[2]\r\n",
    "\r\n",
    "                ind1 = xydim*z + xdim*y + x\r\n",
    "                if(m1.dens[ind1]>0):\r\n",
    "                    tot+=1\r\n",
    "                \r\n",
    "                if( px < 0 or px >= xdim):\r\n",
    "                    continue\r\n",
    "                if( py < 0 or py >= xdim):\r\n",
    "                    continue\r\n",
    "                if( pz < 0 or pz >= xdim):\r\n",
    "                    continue\r\n",
    "\r\n",
    "                ind2 = xydim * pz + xdim * py + px\r\n",
    "\r\n",
    "                if(m1.dens[ind1] > 0 ):\r\n",
    "                    d1 = m1.dens[ind1]\r\n",
    "                    pd1 = m1.dens[ind1]-m1.ave\r\n",
    "                else:\r\n",
    "                    d1 = pd1 = 0\r\n",
    "                \r\n",
    "                if (m2.dens[ind2]>0):\r\n",
    "                    d2 = m2.dens[ind2]\r\n",
    "                    pd2 = m2.dens[ind2]-m2.ave\r\n",
    "                else:\r\n",
    "                    d2 = pd2 = 0\r\n",
    "\r\n",
    "                cc_sum += d1*d2\r\n",
    "                pcc_sum += pd1 * pd2\r\n",
    "\r\n",
    "                if(m2.dens[ind2]==0):\r\n",
    "                    continue\r\n",
    "\r\n",
    "                if(m1.dens[ind1]==0 and m2.dens[ind2]):\r\n",
    "                    tot+=1\r\n",
    "                    continue\r\n",
    "                \r\n",
    "                s = np.dot(m1.vec[ind1],m2.vec[ind2])\r\n",
    "                m2.sco[ind2] = s\r\n",
    "                sco +=s\r\n",
    "                Nm+=1\r\n",
    "\r\n",
    "    print(\"Sco = \",sco)\r\n",
    "    return sco\r\n",
    "\r\n",
    "\r\n",
    "\r\n",
    "\r\n",
    "\r\n",
    "\r\n"
   ]
  },
  {
   "cell_type": "code",
   "execution_count": null,
   "metadata": {},
   "outputs": [],
   "source": [
    "def GetScore2(m1,m2,T,results):\r\n",
    "    px,py,pz=0\r\n",
    "    t= [0,0,0]\r\n",
    "    xdim = m1.xdim\r\n",
    "    xydim=m1.xdim*m1.ydim\r\n",
    "    xyzdim = xydim * m1.zdim\r\n",
    "    lap_sum = 0\r\n",
    "    lap1,lap2 = 0\r\n",
    "    ind1,ind2,tot,Nm,s,sco,cc_sum,pcc_sum,std1,std2,d1,d2,pstd1,pstd2,pd1,pd2,Ncc = 0\r\n",
    "    std1 = m1.std\r\n",
    "    std2=m2.std\r\n",
    "    pstd1 = m1.std_norm_ave\r\n",
    "    pstd2 = m1.std_norm_ave\r\n",
    "    t = T\r\n",
    "    for i in range(3):\r\n",
    "        if(t[i]> 0.*xdim):\r\n",
    "            t[i]-=xdim\r\n",
    "\r\n",
    "\r\n",
    "    for x in range(xdim):\r\n",
    "        px = x+t[0]\r\n",
    "        for y in range(xdim):\r\n",
    "            py = y+t[1]\r\n",
    "            for z in range(xdim):\r\n",
    "                pz = z + t[2]\r\n",
    "\r\n",
    "                ind1 = xydim*z + xdim*y + x\r\n",
    "                if(m1.dens[ind1]>0):\r\n",
    "                    tot+=1\r\n",
    "                \r\n",
    "                if( px < 0 or px >= xdim):\r\n",
    "                    continue\r\n",
    "                if( py < 0 or py >= xdim):\r\n",
    "                    continue\r\n",
    "                if( pz < 0 or pz >= xdim):\r\n",
    "                    continue\r\n",
    "\r\n",
    "                ind2 = xydim * pz + xdim * py + px\r\n",
    "\r\n",
    "                if(m1.dens[ind1] > 0 ):\r\n",
    "                    d1 = m1.dens[ind1]\r\n",
    "                    pd1 = m1.dens[ind1]-m1.ave\r\n",
    "                else:\r\n",
    "                    d1 = pd1 = 0\r\n",
    "                \r\n",
    "                if (m2.dens[ind2]>0):\r\n",
    "                    d2 = m2.dens[ind2]\r\n",
    "                    pd2 = m2.dens[ind2]-m2.ave\r\n",
    "                else:\r\n",
    "                    d2 = pd2 = 0\r\n",
    "\r\n",
    "                cc_sum += d1*d2\r\n",
    "                pcc_sum += pd1 * pd2\r\n",
    "                # laplace filter\r\n",
    "                if(d1>0 and d2>0):\r\n",
    "                    lap1 = -6 * d1\r\n",
    "                    lap2 = -6 * d2\r\n",
    "\r\n",
    "                    if(x+1<xdim):\r\n",
    "                        lap1 += m1.dens[ind1+1]\r\n",
    "                    if(px+1<xdim):\r\n",
    "                        lap2+= m1.dens[ind2+1]\r\n",
    "\r\n",
    "                    if(x-1<xdim):\r\n",
    "                        lap1 += m1.dens[ind1-1]\r\n",
    "                    if(px-1<xdim):\r\n",
    "                        lap2+= m1.dens[ind2-1]\r\n",
    "\r\n",
    "                    if(y+1<xdim):\r\n",
    "                        lap1 += m1.dens[ind1+xdim]\r\n",
    "                    if(py+1<xdim):\r\n",
    "                        lap2+= m1.dens[ind2+xdim]\r\n",
    "\r\n",
    "                    if(y-1<xdim):\r\n",
    "                        lap1 += m1.dens[ind1-xdim]\r\n",
    "                    if(py-1<xdim):\r\n",
    "                        lap2+= m1.dens[ind2-xdim]\r\n",
    "\r\n",
    "                    if(z+1<xdim):\r\n",
    "                        lap1 += m1.dens[ind1+xydim]\r\n",
    "                    if(pz+1<xdim):\r\n",
    "                        lap2+= m1.dens[ind2+xydim]\r\n",
    "\r\n",
    "                    if(z-1<xdim):\r\n",
    "                        lap1 += m1.dens[ind1-xydim]\r\n",
    "                    if(pz-1<xdim):\r\n",
    "                        lap2+= m1.dens[ind2-xydim]\r\n",
    "\r\n",
    "                    lap_sum += lap1*lap2\r\n",
    "\r\n",
    "                #filter end\r\n",
    "                if(m2.dens[ind2]==0):\r\n",
    "                    continue\r\n",
    "\r\n",
    "                if(m1.dens[ind1]==0 and m2.dens[ind2]):\r\n",
    "                    tot+=1\r\n",
    "                    continue\r\n",
    "                \r\n",
    "                s = np.dot(m1.vec[ind1],m2.vec[ind2])\r\n",
    "                m2.sco[ind2] = s\r\n",
    "                sco +=s\r\n",
    "                Nm+=1\r\n",
    "\r\n",
    "    results = [sco,Nm,cc_sum/(std1*std2),pcc_sum/(pstd1*pstd2),lap_sum]\r\n",
    "    return sco"
   ]
  },
  {
   "cell_type": "code",
   "execution_count": 58,
   "metadata": {},
   "outputs": [
    {
     "data": {
      "text/plain": [
       "array([[-2.,  0.,  0.],\n",
       "       [ 0.,  4., -2.],\n",
       "       [ 0., -2.,  2.]])"
      ]
     },
     "execution_count": 58,
     "metadata": {},
     "output_type": "execute_result"
    }
   ],
   "source": [
    "\r\n",
    "\r\n",
    "\r\n",
    "laplace(mtxmtx(m,n))"
   ]
  }
 ],
 "metadata": {
  "interpreter": {
   "hash": "02963059bcfe9ec13866d8bbde8ec3e30f8393cff7234988bdd62b85a7bebcd1"
  },
  "kernelspec": {
   "display_name": "Python 3.8.5 64-bit ('base': conda)",
   "name": "python3"
  },
  "language_info": {
   "codemirror_mode": {
    "name": "ipython",
    "version": 3
   },
   "file_extension": ".py",
   "mimetype": "text/x-python",
   "name": "python",
   "nbconvert_exporter": "python",
   "pygments_lexer": "ipython3",
   "version": "3.8.5"
  },
  "orig_nbformat": 4
 },
 "nbformat": 4,
 "nbformat_minor": 2
}