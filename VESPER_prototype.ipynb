{
<<<<<<< HEAD
  "cells": [
    {
      "cell_type": "code",
      "execution_count": 1,
      "metadata": {
        "colab": {
          "base_uri": "https://localhost:8080/"
        },
        "id": "XsxryZSBFcnE",
        "outputId": "5e7054fc-7d3b-498b-d290-8a43bb063a88"
      },
      "outputs": [
        {
          "name": "stdout",
          "output_type": "stream",
          "text": [
            "^C\n"
          ]
        }
      ],
      "source": [
        "!conda uninstall llvmlite\r\n"
      ]
    },
    {
      "cell_type": "code",
      "execution_count": 4,
      "metadata": {
        "colab": {
          "base_uri": "https://localhost:8080/",
          "height": 435
        },
        "id": "47f18c60-838e-47cb-a123-ba6426f20245",
        "outputId": "0a249f64-b685-43b1-8eba-f2525708a5c3"
      },
      "outputs": [
        {
          "ename": "OSError",
          "evalue": "Could not load shared object file: llvmlite.dll",
          "output_type": "error",
          "traceback": [
            "\u001b[1;31m---------------------------------------------------------------------------\u001b[0m",
            "\u001b[1;31mOSError\u001b[0m                                   Traceback (most recent call last)",
            "\u001b[1;32m<ipython-input-4-4595760dafbf>\u001b[0m in \u001b[0;36m<module>\u001b[1;34m\u001b[0m\n\u001b[0;32m      3\u001b[0m \u001b[1;33m\u001b[0m\u001b[0m\n\u001b[0;32m      4\u001b[0m \u001b[1;32mimport\u001b[0m \u001b[0mmrcfile\u001b[0m\u001b[1;33m\u001b[0m\u001b[1;33m\u001b[0m\u001b[0m\n\u001b[1;32m----> 5\u001b[1;33m \u001b[1;32mimport\u001b[0m \u001b[0mnumba\u001b[0m\u001b[1;33m\u001b[0m\u001b[1;33m\u001b[0m\u001b[0m\n\u001b[0m\u001b[0;32m      6\u001b[0m \u001b[1;32mimport\u001b[0m \u001b[0mnumpy\u001b[0m \u001b[1;32mas\u001b[0m \u001b[0mnp\u001b[0m\u001b[1;33m\u001b[0m\u001b[1;33m\u001b[0m\u001b[0m\n\u001b[0;32m      7\u001b[0m \u001b[1;32mfrom\u001b[0m \u001b[0mnumba\u001b[0m\u001b[1;33m.\u001b[0m\u001b[0mtyped\u001b[0m \u001b[1;32mimport\u001b[0m \u001b[0mList\u001b[0m\u001b[1;33m\u001b[0m\u001b[1;33m\u001b[0m\u001b[0m\n",
            "\u001b[1;32mD:\\ana\\lib\\site-packages\\numba\\__init__.py\u001b[0m in \u001b[0;36m<module>\u001b[1;34m\u001b[0m\n\u001b[0;32m     12\u001b[0m \u001b[1;32mdel\u001b[0m \u001b[0mget_versions\u001b[0m\u001b[1;33m\u001b[0m\u001b[1;33m\u001b[0m\u001b[0m\n\u001b[0;32m     13\u001b[0m \u001b[1;33m\u001b[0m\u001b[0m\n\u001b[1;32m---> 14\u001b[1;33m \u001b[1;32mfrom\u001b[0m \u001b[0mnumba\u001b[0m\u001b[1;33m.\u001b[0m\u001b[0mcore\u001b[0m \u001b[1;32mimport\u001b[0m \u001b[0mconfig\u001b[0m\u001b[1;33m\u001b[0m\u001b[1;33m\u001b[0m\u001b[0m\n\u001b[0m\u001b[0;32m     15\u001b[0m \u001b[1;32mfrom\u001b[0m \u001b[0mnumba\u001b[0m\u001b[1;33m.\u001b[0m\u001b[0mtesting\u001b[0m \u001b[1;32mimport\u001b[0m \u001b[0m_runtests\u001b[0m \u001b[1;32mas\u001b[0m \u001b[0mruntests\u001b[0m\u001b[1;33m\u001b[0m\u001b[1;33m\u001b[0m\u001b[0m\n\u001b[0;32m     16\u001b[0m \u001b[1;32mfrom\u001b[0m \u001b[0mnumba\u001b[0m\u001b[1;33m.\u001b[0m\u001b[0mcore\u001b[0m \u001b[1;32mimport\u001b[0m \u001b[0mtypes\u001b[0m\u001b[1;33m,\u001b[0m \u001b[0merrors\u001b[0m\u001b[1;33m\u001b[0m\u001b[1;33m\u001b[0m\u001b[0m\n",
            "\u001b[1;32mD:\\ana\\lib\\site-packages\\numba\\core\\config.py\u001b[0m in \u001b[0;36m<module>\u001b[1;34m\u001b[0m\n\u001b[0;32m     14\u001b[0m \u001b[1;33m\u001b[0m\u001b[0m\n\u001b[0;32m     15\u001b[0m \u001b[1;33m\u001b[0m\u001b[0m\n\u001b[1;32m---> 16\u001b[1;33m \u001b[1;32mimport\u001b[0m \u001b[0mllvmlite\u001b[0m\u001b[1;33m.\u001b[0m\u001b[0mbinding\u001b[0m \u001b[1;32mas\u001b[0m \u001b[0mll\u001b[0m\u001b[1;33m\u001b[0m\u001b[1;33m\u001b[0m\u001b[0m\n\u001b[0m\u001b[0;32m     17\u001b[0m \u001b[1;33m\u001b[0m\u001b[0m\n\u001b[0;32m     18\u001b[0m \u001b[0mIS_WIN32\u001b[0m \u001b[1;33m=\u001b[0m \u001b[0msys\u001b[0m\u001b[1;33m.\u001b[0m\u001b[0mplatform\u001b[0m\u001b[1;33m.\u001b[0m\u001b[0mstartswith\u001b[0m\u001b[1;33m(\u001b[0m\u001b[1;34m'win32'\u001b[0m\u001b[1;33m)\u001b[0m\u001b[1;33m\u001b[0m\u001b[1;33m\u001b[0m\u001b[0m\n",
            "\u001b[1;32mD:\\ana\\lib\\site-packages\\llvmlite\\binding\\__init__.py\u001b[0m in \u001b[0;36m<module>\u001b[1;34m\u001b[0m\n\u001b[0;32m      2\u001b[0m \u001b[0mThings\u001b[0m \u001b[0mthat\u001b[0m \u001b[0mrely\u001b[0m \u001b[0mon\u001b[0m \u001b[0mthe\u001b[0m \u001b[0mLLVM\u001b[0m \u001b[0mlibrary\u001b[0m\u001b[1;33m\u001b[0m\u001b[1;33m\u001b[0m\u001b[0m\n\u001b[0;32m      3\u001b[0m \"\"\"\n\u001b[1;32m----> 4\u001b[1;33m \u001b[1;32mfrom\u001b[0m \u001b[1;33m.\u001b[0m\u001b[0mdylib\u001b[0m \u001b[1;32mimport\u001b[0m \u001b[1;33m*\u001b[0m\u001b[1;33m\u001b[0m\u001b[1;33m\u001b[0m\u001b[0m\n\u001b[0m\u001b[0;32m      5\u001b[0m \u001b[1;32mfrom\u001b[0m \u001b[1;33m.\u001b[0m\u001b[0mexecutionengine\u001b[0m \u001b[1;32mimport\u001b[0m \u001b[1;33m*\u001b[0m\u001b[1;33m\u001b[0m\u001b[1;33m\u001b[0m\u001b[0m\n\u001b[0;32m      6\u001b[0m \u001b[1;32mfrom\u001b[0m \u001b[1;33m.\u001b[0m\u001b[0minitfini\u001b[0m \u001b[1;32mimport\u001b[0m \u001b[1;33m*\u001b[0m\u001b[1;33m\u001b[0m\u001b[1;33m\u001b[0m\u001b[0m\n",
            "\u001b[1;32mD:\\ana\\lib\\site-packages\\llvmlite\\binding\\dylib.py\u001b[0m in \u001b[0;36m<module>\u001b[1;34m\u001b[0m\n\u001b[0;32m      1\u001b[0m \u001b[1;32mfrom\u001b[0m \u001b[0mctypes\u001b[0m \u001b[1;32mimport\u001b[0m \u001b[0mc_void_p\u001b[0m\u001b[1;33m,\u001b[0m \u001b[0mc_char_p\u001b[0m\u001b[1;33m,\u001b[0m \u001b[0mc_bool\u001b[0m\u001b[1;33m,\u001b[0m \u001b[0mPOINTER\u001b[0m\u001b[1;33m\u001b[0m\u001b[1;33m\u001b[0m\u001b[0m\n\u001b[0;32m      2\u001b[0m \u001b[1;33m\u001b[0m\u001b[0m\n\u001b[1;32m----> 3\u001b[1;33m \u001b[1;32mfrom\u001b[0m \u001b[0mllvmlite\u001b[0m\u001b[1;33m.\u001b[0m\u001b[0mbinding\u001b[0m \u001b[1;32mimport\u001b[0m \u001b[0mffi\u001b[0m\u001b[1;33m\u001b[0m\u001b[1;33m\u001b[0m\u001b[0m\n\u001b[0m\u001b[0;32m      4\u001b[0m \u001b[1;32mfrom\u001b[0m \u001b[0mllvmlite\u001b[0m\u001b[1;33m.\u001b[0m\u001b[0mbinding\u001b[0m\u001b[1;33m.\u001b[0m\u001b[0mcommon\u001b[0m \u001b[1;32mimport\u001b[0m \u001b[0m_encode_string\u001b[0m\u001b[1;33m\u001b[0m\u001b[1;33m\u001b[0m\u001b[0m\n\u001b[0;32m      5\u001b[0m \u001b[1;33m\u001b[0m\u001b[0m\n",
            "\u001b[1;32mD:\\ana\\lib\\site-packages\\llvmlite\\binding\\ffi.py\u001b[0m in \u001b[0;36m<module>\u001b[1;34m\u001b[0m\n\u001b[0;32m    151\u001b[0m         \u001b[1;32mbreak\u001b[0m\u001b[1;33m\u001b[0m\u001b[1;33m\u001b[0m\u001b[0m\n\u001b[0;32m    152\u001b[0m \u001b[1;32melse\u001b[0m\u001b[1;33m:\u001b[0m\u001b[1;33m\u001b[0m\u001b[1;33m\u001b[0m\u001b[0m\n\u001b[1;32m--> 153\u001b[1;33m     \u001b[1;32mraise\u001b[0m \u001b[0mOSError\u001b[0m\u001b[1;33m(\u001b[0m\u001b[1;34m\"Could not load shared object file: {}\"\u001b[0m\u001b[1;33m.\u001b[0m\u001b[0mformat\u001b[0m\u001b[1;33m(\u001b[0m\u001b[0m_lib_name\u001b[0m\u001b[1;33m)\u001b[0m\u001b[1;33m)\u001b[0m\u001b[1;33m\u001b[0m\u001b[1;33m\u001b[0m\u001b[0m\n\u001b[0m\u001b[0;32m    154\u001b[0m \u001b[1;33m\u001b[0m\u001b[0m\n\u001b[0;32m    155\u001b[0m \u001b[1;33m\u001b[0m\u001b[0m\n",
            "\u001b[1;31mOSError\u001b[0m: Could not load shared object file: llvmlite.dll"
          ]
        }
      ],
      "source": [
        "import copy\r\n",
        "import math\r\n",
        "\r\n",
        "import mrcfile\r\n",
        "import numba\r\n",
        "import numpy as np\r\n",
        "from numba.typed import List\r\n",
        "from tqdm.notebook import tqdm\r\n",
        "import command\r\n",
        "from CMD import CMD\r\n",
        "# from Bio.PDB import *\r\n",
        "# import numba as nb"
      ]
    },
=======
 "cells": [
  {
   "cell_type": "code",
   "execution_count": 1,
   "id": "47f18c60-838e-47cb-a123-ba6426f20245",
   "metadata": {},
   "outputs": [],
   "source": [
    "import copy\n",
    "import math\n",
    "\n",
    "import mrcfile\n",
    "import numba\n",
    "import numpy as np\n",
    "import pyfftw\n",
    "from numba.typed import List\n",
    "from tqdm.notebook import tqdm\n",
    "\n",
    "# from Bio.PDB import *\n",
    "# import numba as nb"
   ]
  },
  {
   "cell_type": "code",
   "execution_count": 3,
   "id": "929a601e-950b-4028-a2d9-d0d106ae9be1",
   "metadata": {},
   "outputs": [],
   "source": [
    "class mrc_obj:\n",
    "    def __init__(self, path):\n",
    "        mrc = mrcfile.open(path)\n",
    "        data = mrc.data\n",
    "        header = mrc.header\n",
    "        self.xdim = int(header.nx)\n",
    "        self.ydim = int(header.ny)\n",
    "        self.zdim = int(header.nz)\n",
    "        self.xwidth = mrc.voxel_size.x\n",
    "        self.ywidth = mrc.voxel_size.y\n",
    "        self.zwidth = mrc.voxel_size.z\n",
    "        self.cent = [\n",
    "            self.xdim * 0.5,\n",
    "            self.ydim * 0.5,\n",
    "            self.zdim * 0.5,\n",
    "        ]\n",
    "        self.orig = {\"x\": header.origin.x, \"y\": header.origin.y, \"z\": header.origin.z}\n",
    "        self.data = copy.deepcopy(data)\n",
    "        self.dens = data.flatten()\n",
    "        self.vec = np.zeros((self.xdim, self.ydim, self.zdim, 3), dtype=\"float32\")\n",
    "        self.dsum = None\n",
    "        self.Nact = None\n",
    "        self.ave = None\n",
    "        self.std_norm_ave = None\n",
    "        self.std = None"
   ]
  },
  {
   "cell_type": "code",
   "execution_count": 4,
   "id": "d27803c7-c458-4994-88e7-900f8bcfc3be",
   "metadata": {},
   "outputs": [],
   "source": [
    "def mrc_set_vox_size(mrc, th=0.01, voxel_size=7.0):\n",
    "\n",
    "    # set shape and size\n",
    "    size = mrc.xdim * mrc.ydim * mrc.zdim\n",
    "    shape = (mrc.xdim, mrc.ydim, mrc.zdim)\n",
    "\n",
    "    # if th < 0 add th to all value\n",
    "    if th < 0:\n",
    "        mrc.dens = mrc.dens - th\n",
    "        th = 0.0\n",
    "\n",
    "    # Trim all the values less than threshold\n",
    "    mrc.dens[mrc.dens < th] = 0.0\n",
    "    mrc.data[mrc.data < th] = 0.0\n",
    "\n",
    "    # calculate dmax distance for non-zero entries\n",
    "    non_zero_index_list = np.array(np.nonzero(mrc.data)).T\n",
    "    non_zero_index_list[:, [2, 0]] = non_zero_index_list[:, [0, 2]]\n",
    "    cent_arr = np.array(mrc.cent)\n",
    "    d2_list = np.linalg.norm(non_zero_index_list - cent_arr, axis=1)\n",
    "    dmax = max(d2_list)\n",
    "\n",
    "    # dmax = math.sqrt(mrc.cent[0] ** 2 + mrc.cent[1] ** 2 + mrc.cent[2] ** 2)\n",
    "\n",
    "    print(\"#dmax=\" + str(dmax / mrc.xwidth))\n",
    "    dmax = dmax * mrc.xwidth\n",
    "\n",
    "    # set new center\n",
    "    new_cent = [\n",
    "        mrc.cent[0] * mrc.xwidth + mrc.orig[\"x\"],\n",
    "        mrc.cent[1] * mrc.xwidth + mrc.orig[\"y\"],\n",
    "        mrc.cent[2] * mrc.xwidth + mrc.orig[\"z\"],\n",
    "    ]\n",
    "\n",
    "    tmp_size = 2 * dmax / voxel_size\n",
    "\n",
    "    # find the minimum size of the map\n",
    "    b = y = 2 ** math.ceil(math.log2(tmp_size))\n",
    "    while 1:\n",
    "        while y < tmp_size:\n",
    "            y = y * 3\n",
    "            continue\n",
    "        if y < b:\n",
    "            b = y\n",
    "        if y % 2 != 0:\n",
    "            break\n",
    "        y = y / 2\n",
    "\n",
    "    new_xdim = int(b)\n",
    "\n",
    "    # set new origins\n",
    "    new_orig = {\n",
    "        \"x\": new_cent[0] - 0.5 * new_xdim * voxel_size,\n",
    "        \"y\": new_cent[1] - 0.5 * new_xdim * voxel_size,\n",
    "        \"z\": new_cent[2] - 0.5 * new_xdim * voxel_size,\n",
    "    }\n",
    "\n",
    "    # create new mrc object\n",
    "    mrc_set = copy.deepcopy(mrc)\n",
    "    mrc_set.orig = new_orig\n",
    "    mrc_set.xdim = mrc_set.ydim = mrc_set.zdim = new_xdim\n",
    "    mrc_set.cent = new_cent\n",
    "    mrc_set.xwidth = mrc_set.ywidth = mrc_set.zwidth = voxel_size\n",
    "    mrc_set.dens = np.zeros((mrc_set.xdim ** 3, 1))\n",
    "    mrc_set.vec = np.zeros((new_xdim, new_xdim, new_xdim, 3), dtype=\"float32\")\n",
    "\n",
    "    print(\n",
    "        \"Nvox= \"\n",
    "        + str(mrc_set.xdim)\n",
    "        + \", \"\n",
    "        + str(mrc_set.ydim)\n",
    "        + \", \"\n",
    "        + str(mrc_set.zdim)\n",
    "    )\n",
    "    print(\n",
    "        \"cent= \" + str(new_cent[0]) + \", \" + str(new_cent[1]) + \", \" + str(new_cent[2])\n",
    "    )\n",
    "    print(\n",
    "        \"ori= \"\n",
    "        + str(new_orig[\"x\"])\n",
    "        + \", \"\n",
    "        + str(new_orig[\"y\"])\n",
    "        + \", \"\n",
    "        + str(new_orig[\"z\"])\n",
    "    )\n",
    "\n",
    "    return mrc, mrc_set"
   ]
  },
  {
   "cell_type": "code",
   "execution_count": 5,
   "id": "f325ef4b-205d-496f-afa6-3bcd4cb21ba3",
   "metadata": {},
   "outputs": [],
   "source": [
    "@numba.jit(nopython=True)\n",
    "def calc(stp, endp, pos, mrc1_data, fsiv):\n",
    "    dtotal = 0\n",
    "    pos2 = [0.0] * 3\n",
    "\n",
    "    for xp in range(stp[0], endp[0]):\n",
    "        rx = float(xp) - pos[0]\n",
    "        rx = rx ** 2\n",
    "        for yp in range(stp[1], endp[1]):\n",
    "            ry = float(yp) - pos[1]\n",
    "            ry = ry ** 2\n",
    "            for zp in range(stp[2], endp[2]):\n",
    "                rz = float(zp) - pos[2]\n",
    "                rz = rz ** 2\n",
    "                d2 = rx + ry + rz\n",
    "                v = mrc1_data[zp][yp][xp] * math.exp(-1.5 * d2 * fsiv)\n",
    "                dtotal += v\n",
    "                pos2[0] += v * float(xp)\n",
    "                pos2[1] += v * float(yp)\n",
    "                pos2[2] += v * float(zp)\n",
    "    return dtotal, pos2"
   ]
  },
  {
   "cell_type": "code",
   "execution_count": 6,
   "id": "3325deb8-978a-46d6-ad61-42fa6dd750af",
   "metadata": {
    "tags": []
   },
   "outputs": [],
   "source": [
    "def fastVEC(mrc1, mrc2, dreso=16.0):\n",
    "\n",
    "    xydim = mrc1.xdim * mrc1.ydim\n",
    "    Ndata = mrc2.xdim * mrc2.ydim * mrc2.zdim\n",
    "\n",
    "    print(len(mrc2.dens))\n",
    "\n",
    "    print(\"#Start VEC\")\n",
    "    gstep = mrc1.xwidth\n",
    "    fs = (dreso / gstep) * 0.5\n",
    "    fs = fs ** 2\n",
    "    fsiv = 1.0 / fs\n",
    "    fmaxd = (dreso / gstep) * 2.0\n",
    "    print(\"#maxd= {fmaxd}\".format(fmaxd=fmaxd))\n",
    "    print(\"#fsiv= \" + str(fsiv))\n",
    "\n",
    "    dsum = 0.0\n",
    "    Nact = 0\n",
    "\n",
    "    list_d = []\n",
    "\n",
    "    for x in tqdm(range(mrc2.xdim)):\n",
    "        for y in range(mrc2.ydim):\n",
    "            for z in range(mrc2.zdim):\n",
    "                stp = [0] * 3\n",
    "                endp = [0] * 3\n",
    "                ind2 = 0\n",
    "                ind = 0\n",
    "\n",
    "                pos = [0.0] * 3\n",
    "                pos2 = [0.0] * 3\n",
    "                ori = [0.0] * 3\n",
    "\n",
    "                tmpcd = [0.0] * 3\n",
    "\n",
    "                v, dtotal, rd = 0.0, 0.0, 0.0\n",
    "\n",
    "                pos[0] = (\n",
    "                    x * mrc2.xwidth + mrc2.orig[\"x\"] - mrc1.orig[\"x\"]\n",
    "                ) / mrc1.xwidth\n",
    "                pos[1] = (\n",
    "                    y * mrc2.xwidth + mrc2.orig[\"y\"] - mrc1.orig[\"y\"]\n",
    "                ) / mrc1.xwidth\n",
    "                pos[2] = (\n",
    "                    z * mrc2.xwidth + mrc2.orig[\"z\"] - mrc1.orig[\"z\"]\n",
    "                ) / mrc1.xwidth\n",
    "\n",
    "                ind = mrc2.xdim * mrc2.ydim * z + mrc2.xdim * y + x\n",
    "\n",
    "                # check density\n",
    "\n",
    "                if (\n",
    "                    pos[0] < 0\n",
    "                    or pos[1] < 0\n",
    "                    or pos[2] < 0\n",
    "                    or pos[0] >= mrc1.xdim\n",
    "                    or pos[1] >= mrc1.ydim\n",
    "                    or pos[2] >= mrc1.zdim\n",
    "                ):\n",
    "                    mrc2.dens[ind] = 0.0\n",
    "                    mrc2.vec[x][y][z][0] = 0.0\n",
    "                    mrc2.vec[x][y][z][1] = 0.0\n",
    "                    mrc2.vec[x][y][z][2] = 0.0\n",
    "                    continue\n",
    "\n",
    "                if mrc1.data[int(pos[2])][int(pos[1])][int(pos[0])] == 0:\n",
    "                    mrc2.dens[ind] = 0.0\n",
    "                    mrc2.vec[x][y][z][0] = 0.0\n",
    "                    mrc2.vec[x][y][z][1] = 0.0\n",
    "                    mrc2.vec[x][y][z][2] = 0.0\n",
    "                    continue\n",
    "\n",
    "                ori[0] = pos[0]\n",
    "                ori[1] = pos[1]\n",
    "                ori[2] = pos[2]\n",
    "\n",
    "                # Start Point\n",
    "                stp[0] = int(pos[0] - fmaxd)\n",
    "                stp[1] = int(pos[1] - fmaxd)\n",
    "                stp[2] = int(pos[2] - fmaxd)\n",
    "\n",
    "                # set start and end point\n",
    "                if stp[0] < 0:\n",
    "                    stp[0] = 0\n",
    "                if stp[1] < 0:\n",
    "                    stp[1] = 0\n",
    "                if stp[2] < 0:\n",
    "                    stp[2] = 0\n",
    "\n",
    "                endp[0] = int(pos[0] + fmaxd + 1)\n",
    "                endp[1] = int(pos[1] + fmaxd + 1)\n",
    "                endp[2] = int(pos[2] + fmaxd + 1)\n",
    "\n",
    "                if endp[0] >= mrc1.xdim:\n",
    "                    endp[0] = mrc1.xdim\n",
    "                if endp[1] >= mrc1.ydim:\n",
    "                    endp[1] = mrc1.ydim\n",
    "                if endp[2] >= mrc1.zdim:\n",
    "                    endp[2] = mrc1.zdim\n",
    "\n",
    "                # setup for numba acc\n",
    "                stp_t = List()\n",
    "                endp_t = List()\n",
    "                pos_t = List()\n",
    "                [stp_t.append(x) for x in stp]\n",
    "                [endp_t.append(x) for x in endp]\n",
    "                [pos_t.append(x) for x in pos]\n",
    "\n",
    "                # compute the total density\n",
    "                dtotal, pos2 = calc(stp_t, endp_t, pos_t, mrc1.data, fsiv)\n",
    "\n",
    "                # list_d.append(dtotal)\n",
    "\n",
    "                mrc2.dens[ind] = dtotal\n",
    "\n",
    "                if dtotal == 0:\n",
    "                    mrc2.vec[x][y][z][0] = 0.0\n",
    "                    mrc2.vec[x][y][z][1] = 0.0\n",
    "                    mrc2.vec[x][y][z][2] = 0.0\n",
    "                    continue\n",
    "\n",
    "                rd = 1.0 / dtotal\n",
    "\n",
    "                pos2[0] *= rd\n",
    "                pos2[1] *= rd\n",
    "                pos2[2] *= rd\n",
    "\n",
    "                tmpcd[0] = pos2[0] - pos[0]\n",
    "                tmpcd[1] = pos2[1] - pos[1]\n",
    "                tmpcd[2] = pos2[2] - pos[2]\n",
    "\n",
    "                dvec = math.sqrt(tmpcd[0] ** 2 + tmpcd[1] ** 2 + tmpcd[2] ** 2)\n",
    "\n",
    "                if dvec == 0:\n",
    "                    dvec = 1.0\n",
    "\n",
    "                rdvec = 1.0 / dvec\n",
    "\n",
    "                mrc2.vec[x][y][z][0] = tmpcd[0] * rdvec\n",
    "                mrc2.vec[x][y][z][1] = tmpcd[1] * rdvec\n",
    "                mrc2.vec[x][y][z][2] = tmpcd[2] * rdvec\n",
    "\n",
    "                dsum += dtotal\n",
    "                Nact += 1\n",
    "\n",
    "    print(\"#End LDP\")\n",
    "    print(dsum)\n",
    "    print(Nact)\n",
    "\n",
    "    mrc2.dsum = dsum\n",
    "    mrc2.Nact = Nact\n",
    "    mrc2.ave = dsum / float(Nact)\n",
    "    mrc2.std = np.linalg.norm(mrc2.dens[mrc2.dens > 0])\n",
    "    mrc2.std_norm_ave = np.linalg.norm(mrc2.dens[mrc2.dens > 0] - mrc2.ave)\n",
    "    mrc2.data = np.zeros((mrc2.zdim, mrc2.ydim, mrc2.xdim))\n",
    "\n",
    "    print(\n",
    "        \"#MAP AVE={ave} STD={std} STD_norm={std_norm}\".format(\n",
    "            ave=mrc2.ave, std=mrc2.std, std_norm=mrc2.std_norm_ave\n",
    "        )\n",
    "    )\n",
    "    # return False\n",
    "    return mrc2"
   ]
  },
  {
   "cell_type": "code",
   "execution_count": null,
   "id": "5678509f-2059-4675-b018-50c57618b398",
   "metadata": {},
   "outputs": [],
   "source": [
    "def search_map_fft(mrc1, mrc2, ang, is_eval_mode, TopN):\n",
    "\n",
    "    if is_eval_mode:\n",
    "        print(\"#For Evaluation Mode\")\n",
    "        print(\"#Please use the same coordinate system and map size for map1 and map2.\")\n",
    "        print(\"#Example:\")\n",
    "        print(\"#In Chimera command line: open map1 and map2 as #0 and #1, then type\")\n",
    "        print(\"#> open map1.mrc\")\n",
    "        print(\"#> open map2.mrc\")\n",
    "        print(\"#> vop #1 resample onGrid #0\")\n",
    "        print(\"#> volume #2 save new.mrc\")\n",
    "        print(\"#Chimera will generate the resampled map2.mrc as new.mrc\")\n",
    "        return"
   ]
  },
  {
   "cell_type": "code",
   "execution_count": 7,
   "id": "5bce2dba-1ee8-4168-8855-4a57383b24de",
   "metadata": {},
   "outputs": [
    {
     "name": "stdout",
     "output_type": "stream",
     "text": [
      "#dmax=141.34333822979175\n",
      "Nvox= 48, 48, 48\n",
      "cent= 118.23501896858215, 107.53501725196838, 102.1850163936615\n",
      "ori= -49.76498103141785, -60.464982748031616, -65.8149836063385\n",
      "#dmax=128.68973561744724\n",
      "Nvox= 48, 48, 48\n",
      "cent= 118.23501896858215, 107.53501725196838, 102.1850163936615\n",
      "ori= -49.76498103141785, -60.464982748031616, -65.8149836063385\n"
     ]
    }
   ],
   "source": [
    "mrc1 = mrc_obj(\"./data/emd_8097.mrc\")\n",
    "mrc2 = mrc_obj(\"./data/ChainA_simulated_resample.mrc\")\n",
    "\n",
    "mrc1, mrc_N1 = mrc_set_vox_size(mrc1)\n",
    "mrc2, mrc_N2 = mrc_set_vox_size(mrc2)\n",
    "\n",
    "if mrc_N1.xdim > mrc_N2.xdim:\n",
    "    mrc_N2.xdim = mrc_N2.ydim = mrc_N2.zdim = mrc_N1.xdim\n",
    "\n",
    "    mrc_N2.orig[\"x\"] = mrc_N2.cent[0] - 0.5 * 7 * mrc_N2.xdim\n",
    "    mrc_N2.orig[\"y\"] = mrc_N2.cent[1] - 0.5 * 7 * mrc_N2.xdim\n",
    "    mrc_N2.orig[\"z\"] = mrc_N2.cent[2] - 0.5 * 7 * mrc_N2.xdim\n",
    "\n",
    "else:\n",
    "    mrc_N1.xdim = mrc_N1.ydim = mrc_N1.zdim = mrc_N2.xdim\n",
    "\n",
    "    mrc_N1.orig[\"x\"] = mrc_N1.cent[0] - 0.5 * 7 * mrc_N1.xdim\n",
    "    mrc_N1.orig[\"y\"] = mrc_N1.cent[1] - 0.5 * 7 * mrc_N1.xdim\n",
    "    mrc_N1.orig[\"z\"] = mrc_N1.cent[2] - 0.5 * 7 * mrc_N1.xdim"
   ]
  },
  {
   "cell_type": "code",
   "execution_count": 8,
   "id": "7d088f09-a7b0-4e4e-8c59-7e86d6d933ce",
   "metadata": {},
   "outputs": [
>>>>>>> cf1af2b7e95cae418e7ac6feab8bd10c9d7e4993
    {
     "name": "stdout",
     "output_type": "stream",
     "text": [
      "110592\n",
      "#Start VEC\n",
      "#maxd= 29.9065372581333\n",
      "#fsiv= 0.017889068239927756\n"
     ]
    },
    {
<<<<<<< HEAD
      "cell_type": "code",
      "execution_count": 2,
      "metadata": {
        "id": "929a601e-950b-4028-a2d9-d0d106ae9be1"
=======
     "data": {
      "application/vnd.jupyter.widget-view+json": {
       "model_id": "0082c3dd7d3f44738221e15f61342e50",
       "version_major": 2,
       "version_minor": 0
>>>>>>> cf1af2b7e95cae418e7ac6feab8bd10c9d7e4993
      },
      "text/plain": [
       "  0%|          | 0/48 [00:00<?, ?it/s]"
      ]
     },
     "metadata": {},
     "output_type": "display_data"
    },
    {
<<<<<<< HEAD
      "cell_type": "code",
      "execution_count": 3,
      "metadata": {
        "id": "d27803c7-c458-4994-88e7-900f8bcfc3be"
      },
      "outputs": [],
      "source": [
        "def mrc_set_vox_size(mrc, th=0.0, voxel_size=7.0):\n",
        "\n",
        "    # set shape and size\n",
        "    size = mrc.xdim * mrc.ydim * mrc.zdim\n",
        "    shape = (mrc.xdim, mrc.ydim, mrc.zdim)\n",
        "\n",
        "    # if th < 0 add th to all value\n",
        "    dens = mrc.dens.flatten()\n",
        "    if th < 0:\n",
        "        dens = dens - th\n",
        "        th = 0.0\n",
        "\n",
        "    # Trim all the values less than threshold\n",
        "    dens[dens < th] = 0\n",
        "\n",
        "    # calculate dmax distance for non-zero entries\n",
        "    non_zero_index_list = np.nonzero(dens)\n",
        "    index_3d = np.unravel_index(non_zero_index_list, shape)\n",
        "    index_arr = np.array([index_3d[0][0], index_3d[1][0], index_3d[2][0]]).T\n",
        "    cent_arr = np.array(mrc.cent)\n",
        "    d2_list = np.linalg.norm(index_arr - cent_arr, axis=1)\n",
        "    dmax = max(d2_list)\n",
        "\n",
        "    #dmax = math.sqrt(mrc.cent[0] ** 2 + mrc.cent[1] ** 2 + mrc.cent[2] ** 2)\n",
        "    dmax = dmax * mrc.xwidth\n",
        "\n",
        "    # set new center\n",
        "    new_cent = [\n",
        "        mrc.cent[0] * mrc.xwidth + mrc.orig[\"x\"],\n",
        "        mrc.cent[1] * mrc.xwidth + mrc.orig[\"y\"],\n",
        "        mrc.cent[2] * mrc.xwidth + mrc.orig[\"z\"],\n",
        "    ]\n",
        "\n",
        "    tmp_size = 2 * dmax / voxel_size\n",
        "\n",
        "    # find the minimum size of the map\n",
        "    b = y = 2 ** math.ceil(math.log2(tmp_size))\n",
        "    while 1:\n",
        "        while y < tmp_size:\n",
        "            y = y * 3\n",
        "            continue\n",
        "        if y < b:\n",
        "            b = y\n",
        "        if y % 2 != 0:\n",
        "            break\n",
        "        y = y / 2\n",
        "\n",
        "    new_xdim = int(b)\n",
        "\n",
        "    # set new origins\n",
        "    new_orig = {\n",
        "        \"x\": new_cent[0] - 0.5 * new_xdim * voxel_size,\n",
        "        \"y\": new_cent[1] - 0.5 * new_xdim * voxel_size,\n",
        "        \"z\": new_cent[2] - 0.5 * new_xdim * voxel_size,\n",
        "    }\n",
        "\n",
        "    # create new mrc object\n",
        "    mrc_set = copy.deepcopy(mrc)\n",
        "    mrc_set.orig = new_orig\n",
        "    mrc_set.xdim = mrc_set.ydim = mrc_set.zdim = new_xdim\n",
        "    mrc_set.cent = new_cent\n",
        "\n",
        "    return mrc_set"
      ]
    },
    {
      "cell_type": "code",
      "execution_count": 4,
      "metadata": {
        "id": "d67ae3f9-663e-436b-b236-da933a7250f0"
      },
      "outputs": [],
      "source": [
        "def mrc_vec(mrc, mrc_N, dreso=16.00):\n",
        "    \n",
        "    # set up filter\n",
        "    gstep = mrc.xwidth\n",
        "    fs = (dreso / gstep) * 0.5\n",
        "    fs = fs ** 2\n",
        "    fsiv = 1.0 / fs\n",
        "    fmaxd = (dreso / gstep) * 2.0\n",
        "    dsum = 0\n",
        "    Nact = 0\n",
        "    \n",
        "    \n",
        "    \n",
        "    \n",
        "    # TODO\n",
        "    return"
      ]
    },
    {
      "cell_type": "code",
      "execution_count": 5,
      "metadata": {
        "id": "5bce2dba-1ee8-4168-8855-4a57383b24de",
        "outputId": "bf03d4e4-8d8c-4066-ef7c-652223ce7d96"
=======
     "name": "stdout",
     "output_type": "stream",
     "text": [
      "#End LDP\n",
      "32939.518123120644\n",
      "2257\n",
      "#MAP AVE=14.594381091325053 STD=773.4275314049188 STD_norm=342.72184914544823\n"
     ]
    }
   ],
   "source": [
    "mrc_N1 = fastVEC(mrc1, mrc_N1)"
   ]
  },
  {
   "cell_type": "code",
   "execution_count": 9,
   "id": "eccdcd0d-1af4-44fc-87d1-4199e754ccde",
   "metadata": {},
   "outputs": [
    {
     "name": "stdout",
     "output_type": "stream",
     "text": [
      "110592\n",
      "#Start VEC\n",
      "#maxd= 29.9065372581333\n",
      "#fsiv= 0.017889068239927756\n"
     ]
    },
    {
     "data": {
      "application/vnd.jupyter.widget-view+json": {
       "model_id": "c769889521f94f17b95a5125f16cec0a",
       "version_major": 2,
       "version_minor": 0
>>>>>>> cf1af2b7e95cae418e7ac6feab8bd10c9d7e4993
      },
      "text/plain": [
       "  0%|          | 0/48 [00:00<?, ?it/s]"
      ]
     },
     "metadata": {},
     "output_type": "display_data"
    },
    {
<<<<<<< HEAD
      "cell_type": "code",
      "execution_count": 18,
      "metadata": {
        "colab": {
          "base_uri": "https://localhost:8080/",
          "height": 231
        },
        "id": "6jEDGlj8HrzF",
        "outputId": "4960b561-9b2f-47db-f750-487aa842a698"
      },
      "outputs": [],
      "source": [
        "# create a CMD object\r\n",
        "cmd = CMD()\r\n",
        "# command.input(cmd)\r\n",
        "# command.input(cmd)\r\n",
        "def fastVEC(mrc1,mrc2):\r\n",
        "  i,j,k,ind=0,0,0,0\r\n",
        "  cnt=0\r\n",
        "  xydim=mrc1.xdim * mrc1.ydim\r\n",
        "  Ndata = mrc2.xdim * mrc2.ydim * mrc2.xdim\r\n",
        "  print(\"#Start VEC\")\r\n",
        "  dreso = cmd.dreso\r\n",
        "  gstep = mrc1.xwidth\r\n",
        "  fs = (dreso/gstep) * 0.5\r\n",
        "  fsiv = 1.000 / fs\r\n",
        "  fmaxd = (dreso / gstep) * 2.0\r\n",
        "  print(\"#maxd= {fmaxd}\\n\".format(fmaxd=fmaxd))\r\n",
        "  dsum=0\r\n",
        "  Nact=0\r\n",
        "\r\n",
        "  for x in range(mrc2.xdim):\r\n",
        "    rx,ry,rz,d2=0.0,0.0,0.0,0.0\r\n",
        "    for y in range(mrc2.ydim):\r\n",
        "      for z in range(mrc2.zdim):\r\n",
        "        stp = np.array([0]*3)\r\n",
        "        endp = np.array([0]*3)\r\n",
        "        ind2=0\r\n",
        "        ind=0\r\n",
        "\r\n",
        "        pos=np.array([0,0,0], dtype = float)\r\n",
        "        pos2=np.array([0,0,0], dtype = float)\r\n",
        "        ori=np.array([0,0,0], dtype = float)\r\n",
        "\r\n",
        "        tmpcd = np.array([0,0,0], dtype = float)\r\n",
        "\r\n",
        "        v,dtotal,rd=0.0,0.0,0.0\r\n",
        "\r\n",
        "\r\n",
        "        pos[0] = (x* mrc2.xwidth + mrc2.orig[\"x\"] - mrc1.orig[\"x\"]) / mrc1.xwidth\r\n",
        "        pos[1] = (y* mrc2.xwidth + mrc2.orig[\"y\"] - mrc1.orig[\"y\"]) / mrc1.xwidth\r\n",
        "        pos[2] = (z* mrc2.xwidth + mrc2.orig[\"z\"] - mrc1.orig[\"z\"]) / mrc1.xwidth\r\n",
        "\r\n",
        "        ind = mrc2.xdim * mrc2.ydim*z + mrc2.xdim*y + x\r\n",
        "\r\n",
        "        # check density\r\n",
        "\r\n",
        "        if pos[0] < 0 or pos[1] <0 or pos[2] < 0 or pos[0] >= mrc1.xdim or pos[1] >= mrc1.ydim or pos[2] >= mrc1.zdim:\r\n",
        "          mrc2.dens[ind] = 0\r\n",
        "          mrc2.vec[ind][0] = mrc2.vec[ind][1] = mrc2.vec[ind][2]=0.00\r\n",
        "          continue\r\n",
        "\r\n",
        "        ind0 = int(mrc1.xdim * mrc1.ydim * pos[2] + mrc1.xdim * pos[1] + pos[0])\r\n",
        "        # print(ind0)\r\n",
        "        if(mrc1.dens[ind0]==0):\r\n",
        "          mrc2.dens[ind] = 0\r\n",
        "          mrc2.vec[ind][0] = mrc2.vec[ind][1] = mrc2.vec[ind][2] = 0.00\r\n",
        "        ori = pos\r\n",
        "        #Start Point\r\n",
        "        stp = np.array(pos-fmaxd, dtype=int)\r\n",
        "\r\n",
        "        if (stp[0] < 0):\r\n",
        "          stp[0] = 0\r\n",
        "        if (stp[1] < 0):\r\n",
        "          stp[1] = 0\r\n",
        "        if (stp[2] < 0):\r\n",
        "          stp[2] = 0\r\n",
        "\r\n",
        "\r\n",
        "        endp[0] = np.array(pos + fmaxd + 1,dtype=int)\r\n",
        "\r\n",
        "        if (endp[0] >= mrc1.xdim):\r\n",
        "           endp[0] = mrc1.xdim\r\n",
        "        if (endp[1] >= mrc1.ydim):\r\n",
        "           endp[1] = mrc1.ydim\r\n",
        "        if (endp[2] >= mrc1.zdim):\r\n",
        "           endp[2] = mrc1.zdim\r\n",
        "\r\n",
        "        dtotal = 0\r\n",
        "        \r\n",
        "\r\n",
        "        for xp in range(stp[0],endp[0]):\r\n",
        "          rx = float(xp-pos[1])\r\n",
        "          rx = rx*rx\r\n",
        "          for yp in range(stp[1],endp[1]):\r\n",
        "            ry = float(yp-pos[1])\r\n",
        "            ry=ry*ry\r\n",
        "            for zp in range(stp[2],endp[2]):\r\n",
        "              rz = float(zp-pos[2])\r\n",
        "              rz=rz**2\r\n",
        "              d2=rx+ry+rz\r\n",
        "              ind2=xydim*zp+mrc1.xdim*yp+zp\r\n",
        "              v=mrc1.dens[ind2]*math.exp(-1.5*d2*fsiv)\r\n",
        "              dtotal+=v\r\n",
        "              pos2[0]+=v*float(xp)\r\n",
        "              pos2[1]+=v*float(yp)\r\n",
        "              pos2[2]+=v*float(zp)\r\n",
        "\r\n",
        "        mrc2.dens[ind] = dtotal\r\n",
        "        if(dtotal==0):\r\n",
        "          mrc2.vec[ind]=0\r\n",
        "\r\n",
        "        rd = 1/dtotal\r\n",
        "        pos2*=rd\r\n",
        "        tmpcd = pos2-pos\r\n",
        "        dvec = math.sqrt(np.sum(np.square(tmpcd)))     \r\n",
        "        if(dvec == 0):\r\n",
        "          dvec = 1\r\n",
        "        rdvec = 1/dvec\r\n",
        "        mrc2.vec[ind] = tmpcd*rdvec\r\n",
        "        dsum+=dtotal\r\n",
        "        Nact+=1    \r\n",
        "  print(\"#End LDP\")\r\n",
        "\r\n",
        "  mrc2.dsum=dsum\r\n",
        "  mrc2.Nact=Nact\r\n",
        "  mrc2.ave=dsum/float(Nact)\r\n",
        "  dsum=0\r\n",
        "  dsum2=0.0\r\n",
        "  for i in range(mrc2.xdim*mrc2.ydim*mrc2.zdim):\r\n",
        "    if(mrc2.dens[i]>0):\r\n",
        "      dsum+=mrc2.dens[i]*mrc2.dens[i]\r\n",
        "      dsum2+=(mrc2.dens[i]-mrc2.ave)*(mrc2.dens[i]-mrc2.ave)\r\n",
        "  mrc2.std_norm_ave=math.sqrt(dsum2)\r\n",
        "  mrc2.std=math.sqrt(dsum)\r\n",
        "  print(\"#MAP AVE={ave} STD={std} STD_norm={std_norm}\".format(ave=mrc2.ave,std=mrc2.std,std_norm=mrc2.std_norm_ave))\r\n",
        "  # return False\r\n",
        "  return mrc1,mrc2\r\n"
      ]
    },
    {
      "cell_type": "code",
      "execution_count": 19,
      "metadata": {
        "id": "8iNtY3lNJfBh"
      },
      "outputs": [
        {
          "name": "stdout",
          "output_type": "stream",
          "text": [
            "#Start VEC\n",
            "#maxd= 29.9065372581333\n",
            "\n"
          ]
        },
        {
          "ename": "KeyboardInterrupt",
          "evalue": "",
          "output_type": "error",
          "traceback": [
            "\u001b[1;31m---------------------------------------------------------------------------\u001b[0m",
            "\u001b[1;31mKeyboardInterrupt\u001b[0m                         Traceback (most recent call last)",
            "\u001b[1;32m<ipython-input-19-0e2e387f244e>\u001b[0m in \u001b[0;36m<module>\u001b[1;34m\u001b[0m\n\u001b[1;32m----> 1\u001b[1;33m \u001b[0mA\u001b[0m\u001b[1;33m,\u001b[0m\u001b[0mB\u001b[0m \u001b[1;33m=\u001b[0m \u001b[0mfastVEC\u001b[0m\u001b[1;33m(\u001b[0m\u001b[0mmrc_N1\u001b[0m\u001b[1;33m,\u001b[0m\u001b[0mmrc_N2\u001b[0m\u001b[1;33m)\u001b[0m\u001b[1;33m\u001b[0m\u001b[1;33m\u001b[0m\u001b[0m\n\u001b[0m\u001b[0;32m      2\u001b[0m \u001b[1;31m# print(A)\u001b[0m\u001b[1;33m\u001b[0m\u001b[1;33m\u001b[0m\u001b[1;33m\u001b[0m\u001b[0m\n",
            "\u001b[1;32m<ipython-input-18-c148e8c6d110>\u001b[0m in \u001b[0;36mfastVEC\u001b[1;34m(mrc1, mrc2)\u001b[0m\n\u001b[0;32m     91\u001b[0m             \u001b[1;32mfor\u001b[0m \u001b[0mzp\u001b[0m \u001b[1;32min\u001b[0m \u001b[0mrange\u001b[0m\u001b[1;33m(\u001b[0m\u001b[0mstp\u001b[0m\u001b[1;33m[\u001b[0m\u001b[1;36m2\u001b[0m\u001b[1;33m]\u001b[0m\u001b[1;33m,\u001b[0m\u001b[0mendp\u001b[0m\u001b[1;33m[\u001b[0m\u001b[1;36m2\u001b[0m\u001b[1;33m]\u001b[0m\u001b[1;33m)\u001b[0m\u001b[1;33m:\u001b[0m\u001b[1;33m\u001b[0m\u001b[1;33m\u001b[0m\u001b[0m\n\u001b[0;32m     92\u001b[0m               \u001b[0mrz\u001b[0m \u001b[1;33m=\u001b[0m \u001b[0mfloat\u001b[0m\u001b[1;33m(\u001b[0m\u001b[0mzp\u001b[0m\u001b[1;33m-\u001b[0m\u001b[0mpos\u001b[0m\u001b[1;33m[\u001b[0m\u001b[1;36m2\u001b[0m\u001b[1;33m]\u001b[0m\u001b[1;33m)\u001b[0m\u001b[1;33m\u001b[0m\u001b[1;33m\u001b[0m\u001b[0m\n\u001b[1;32m---> 93\u001b[1;33m               \u001b[0mrz\u001b[0m\u001b[1;33m=\u001b[0m\u001b[0mrz\u001b[0m\u001b[1;33m**\u001b[0m\u001b[1;36m2\u001b[0m\u001b[1;33m\u001b[0m\u001b[1;33m\u001b[0m\u001b[0m\n\u001b[0m\u001b[0;32m     94\u001b[0m               \u001b[0md2\u001b[0m\u001b[1;33m=\u001b[0m\u001b[0mrx\u001b[0m\u001b[1;33m+\u001b[0m\u001b[0mry\u001b[0m\u001b[1;33m+\u001b[0m\u001b[0mrz\u001b[0m\u001b[1;33m\u001b[0m\u001b[1;33m\u001b[0m\u001b[0m\n\u001b[0;32m     95\u001b[0m               \u001b[0mind2\u001b[0m\u001b[1;33m=\u001b[0m\u001b[0mxydim\u001b[0m\u001b[1;33m*\u001b[0m\u001b[0mzp\u001b[0m\u001b[1;33m+\u001b[0m\u001b[0mmrc1\u001b[0m\u001b[1;33m.\u001b[0m\u001b[0mxdim\u001b[0m\u001b[1;33m*\u001b[0m\u001b[0myp\u001b[0m\u001b[1;33m+\u001b[0m\u001b[0mzp\u001b[0m\u001b[1;33m\u001b[0m\u001b[1;33m\u001b[0m\u001b[0m\n",
            "\u001b[1;31mKeyboardInterrupt\u001b[0m: "
          ]
        }
      ],
      "source": [
        "A,B = fastVEC(mrc_N1,mrc_N2)\r\n",
        "# print(A)"
      ]
    },
    {
      "cell_type": "code",
      "execution_count": 21,
      "metadata": {},
      "outputs": [],
      "source": [
        "a = np.array([0,0,0])\r\n",
        "b = np.array([0,0,0],dtype=float)\r\n",
        "a = np.array(b-1,dtype=int) "
      ]
    },
    {
      "cell_type": "code",
      "execution_count": 24,
      "metadata": {},
      "outputs": [
        {
          "name": "stdout",
          "output_type": "stream",
          "text": [
            "[-1 -1 -1]\n"
          ]
        }
      ],
      "source": [
        "print(a)"
      ]
    }
  ],
  "metadata": {
    "colab": {
      "collapsed_sections": [],
      "name": "VESPER_prototype.ipynb",
      "provenance": []
    },
    "interpreter": {
      "hash": "02963059bcfe9ec13866d8bbde8ec3e30f8393cff7234988bdd62b85a7bebcd1"
    },
    "kernelspec": {
      "display_name": "Python 3.8.5 64-bit ('base': conda)",
      "name": "python3"
    },
    "language_info": {
      "codemirror_mode": {
        "name": "ipython",
        "version": 3
      },
      "file_extension": ".py",
      "mimetype": "text/x-python",
      "name": "python",
      "nbconvert_exporter": "python",
      "pygments_lexer": "ipython3",
      "version": "3.8.5"
=======
     "name": "stdout",
     "output_type": "stream",
     "text": [
      "#End LDP\n",
      "77063.58651876262\n",
      "557\n",
      "#MAP AVE=138.35473342686288 STD=3523.8520239494 STD_norm=1324.9230607740571\n"
     ]
    }
   ],
   "source": [
    "mrc_N2 = fastVEC(mrc2, mrc_N2)"
   ]
  },
  {
   "cell_type": "code",
   "execution_count": 13,
   "id": "43e4a7c4-c61c-4f4e-b649-c9dcc7e1ee5b",
   "metadata": {},
   "outputs": [
    {
     "data": {
      "text/plain": [
       "0.35054788"
      ]
     },
     "execution_count": 13,
     "metadata": {},
     "output_type": "execute_result"
>>>>>>> cf1af2b7e95cae418e7ac6feab8bd10c9d7e4993
    }
   ],
   "source": [
    "mrc_N1.vec[17][17][12][0]"
   ]
  }
 ],
 "metadata": {
  "kernelspec": {
   "display_name": "Python [conda env:bio]",
   "language": "python",
   "name": "conda-env-bio-py"
  },
  "language_info": {
   "codemirror_mode": {
    "name": "ipython",
    "version": 3
   },
   "file_extension": ".py",
   "mimetype": "text/x-python",
   "name": "python",
   "nbconvert_exporter": "python",
   "pygments_lexer": "ipython3",
   "version": "3.8.10"
  }
 },
 "nbformat": 4,
 "nbformat_minor": 5
}
