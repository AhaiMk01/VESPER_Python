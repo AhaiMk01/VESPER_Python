{
  "cells": [
    {
      "cell_type": "code",
      "execution_count": null,
      "metadata": {
        "colab": {
          "base_uri": "https://localhost:8080/"
        },
        "id": "XsxryZSBFcnE",
        "outputId": "5e7054fc-7d3b-498b-d290-8a43bb063a88"
      },
      "outputs": [],
      "source": [
        "!pip install mrcfile"
      ]
    },
    {
      "cell_type": "code",
      "execution_count": 1,
      "metadata": {
        "colab": {
          "base_uri": "https://localhost:8080/",
          "height": 435
        },
        "id": "47f18c60-838e-47cb-a123-ba6426f20245",
        "outputId": "0a249f64-b685-43b1-8eba-f2525708a5c3"
      },
      "outputs": [],
      "source": [
        "import copy\r\n",
        "import math\r\n",
        "\r\n",
        "import mrcfile\r\n",
        "import numpy as np\r\n",
        "import command\r\n",
        "from CMD import CMD\r\n",
        "# from Bio.PDB import *\r\n",
        "# import numba as nb"
      ]
    },
    {
      "cell_type": "code",
      "execution_count": 5,
      "metadata": {
        "id": "T3aFj_3QFwoX"
      },
      "outputs": [],
      "source": [
        "\r\n"
      ]
    },
    {
      "cell_type": "code",
      "execution_count": 2,
      "metadata": {
        "id": "929a601e-950b-4028-a2d9-d0d106ae9be1"
      },
      "outputs": [],
      "source": [
        "class mrc_obj:\r\n",
        "    def __init__(self, path):\r\n",
        "        mrc = mrcfile.open(path)\r\n",
        "        data = mrc.data\r\n",
        "        header = mrc.header\r\n",
        "        self.xdim = header.nx\r\n",
        "        self.ydim = header.ny\r\n",
        "        self.zdim = header.nz\r\n",
        "        self.xwidth = mrc.voxel_size.x\r\n",
        "        self.ywidth = mrc.voxel_size.y\r\n",
        "        self.zwidth = mrc.voxel_size.z\r\n",
        "        self.cent = [\r\n",
        "            self.xdim * 0.5,\r\n",
        "            self.ydim * 0.5,\r\n",
        "            self.zdim * 0.5,\r\n",
        "        ]\r\n",
        "        self.orig = {\"x\": header.origin.x, \"y\": header.origin.y, \"z\": header.origin.z}\r\n",
        "        self.dens = np.swapaxes(data, 0, 2)\r\n",
        "        self.vec = None\r\n",
        "        self.dsum = None\r\n",
        "        self.Nact = None\r\n",
        "        self.ave = None\r\n",
        "        self.std_norm_ave = None\r\n",
        "        self.std = None"
      ]
    },
    {
      "cell_type": "code",
      "execution_count": 3,
      "metadata": {
        "id": "d27803c7-c458-4994-88e7-900f8bcfc3be"
      },
      "outputs": [],
      "source": [
        "def mrc_set_vox_size(mrc, th=0.0, voxel_size=7.0):\n",
        "\n",
        "    # set shape and size\n",
        "    size = mrc.xdim * mrc.ydim * mrc.zdim\n",
        "    shape = (mrc.xdim, mrc.ydim, mrc.zdim)\n",
        "\n",
        "    # if th < 0 add th to all value\n",
        "    dens = mrc.dens.flatten()\n",
        "    if th < 0:\n",
        "        dens = dens - th\n",
        "        th = 0.0\n",
        "\n",
        "    # Trim all the values less than threshold\n",
        "    dens[dens < th] = 0\n",
        "\n",
        "    # calculate dmax distance for non-zero entries\n",
        "    non_zero_index_list = np.nonzero(dens)\n",
        "    index_3d = np.unravel_index(non_zero_index_list, shape)\n",
        "    index_arr = np.array([index_3d[0][0], index_3d[1][0], index_3d[2][0]]).T\n",
        "    cent_arr = np.array(mrc.cent)\n",
        "    d2_list = np.linalg.norm(index_arr - cent_arr, axis=1)\n",
        "    dmax = max(d2_list)\n",
        "\n",
        "    #dmax = math.sqrt(mrc.cent[0] ** 2 + mrc.cent[1] ** 2 + mrc.cent[2] ** 2)\n",
        "    dmax = dmax * mrc.xwidth\n",
        "\n",
        "    # set new center\n",
        "    new_cent = [\n",
        "        mrc.cent[0] * mrc.xwidth + mrc.orig[\"x\"],\n",
        "        mrc.cent[1] * mrc.xwidth + mrc.orig[\"y\"],\n",
        "        mrc.cent[2] * mrc.xwidth + mrc.orig[\"z\"],\n",
        "    ]\n",
        "\n",
        "    tmp_size = 2 * dmax / voxel_size\n",
        "\n",
        "    # find the minimum size of the map\n",
        "    b = y = 2 ** math.ceil(math.log2(tmp_size))\n",
        "    while 1:\n",
        "        while y < tmp_size:\n",
        "            y = y * 3\n",
        "            continue\n",
        "        if y < b:\n",
        "            b = y\n",
        "        if y % 2 != 0:\n",
        "            break\n",
        "        y = y / 2\n",
        "\n",
        "    new_xdim = int(b)\n",
        "\n",
        "    # set new origins\n",
        "    new_orig = {\n",
        "        \"x\": new_cent[0] - 0.5 * new_xdim * voxel_size,\n",
        "        \"y\": new_cent[1] - 0.5 * new_xdim * voxel_size,\n",
        "        \"z\": new_cent[2] - 0.5 * new_xdim * voxel_size,\n",
        "    }\n",
        "\n",
        "    # create new mrc object\n",
        "    mrc_set = copy.deepcopy(mrc)\n",
        "    mrc_set.orig = new_orig\n",
        "    mrc_set.xdim = mrc_set.ydim = mrc_set.zdim = new_xdim\n",
        "    mrc_set.cent = new_cent\n",
        "\n",
        "    return mrc_set"
      ]
    },
    {
      "cell_type": "code",
      "execution_count": 4,
      "metadata": {
        "id": "d67ae3f9-663e-436b-b236-da933a7250f0"
      },
      "outputs": [],
      "source": [
        "def mrc_vec(mrc, mrc_N, dreso=16.00):\n",
        "    \n",
        "    # set up filter\n",
        "    gstep = mrc.xwidth\n",
        "    fs = (dreso / gstep) * 0.5\n",
        "    fs = fs ** 2\n",
        "    fsiv = 1.0 / fs\n",
        "    fmaxd = (dreso / gstep) * 2.0\n",
        "    dsum = 0\n",
        "    Nact = 0\n",
        "    \n",
        "    \n",
        "    \n",
        "    \n",
        "    # TODO\n",
        "    return"
      ]
    },
    {
      "cell_type": "code",
      "execution_count": 16,
      "metadata": {
        "id": "5bce2dba-1ee8-4168-8855-4a57383b24de",
        "outputId": "bf03d4e4-8d8c-4066-ef7c-652223ce7d96"
      },
      "outputs": [],
      "source": [
        "mrc1 = mrc_obj(\"Data\\emd_8097.mrc\")\r\n",
        "mrc2 = mrc_obj(\"Data\\ChainA_simulated_resample.mrc\")\r\n",
        "\r\n",
        "mrc_N1 = mrc_set_vox_size(mrc1)\r\n",
        "mrc_N2 = mrc_set_vox_size(mrc2)\r\n",
        "\r\n",
        "if mrc_N1.xdim > mrc_N2.xdim:\r\n",
        "    mrc_N2.xdim = mrc_N2.ydim = mrc_N2.zdim = mrc_N1.xdim\r\n",
        "    mrc_N2.cent = [\r\n",
        "        mrc_N2.cent[0] - 0.5 * 7 * mrc_N2.xdim,\r\n",
        "        mrc_N2.cent[1] - 0.5 * 7 * mrc_N2.xdim,\r\n",
        "        mrc_N2.cent[2] - 0.5 * 7 * mrc_N2.xdim,\r\n",
        "    ]\r\n",
        "else:\r\n",
        "    mrc_N1.xdim = mrc_N1.ydim = mrc_N1.zdim = mrc_N2.xdim\r\n",
        "    mrc_N1.cent = [\r\n",
        "        mrc_N1.cent[0] - 0.5 * 7 * mrc_N1.xdim,\r\n",
        "        mrc_N1.cent[1] - 0.5 * 7 * mrc_N1.xdim,\r\n",
        "        mrc_N1.cent[2] - 0.5 * 7 * mrc_N1.xdim,\r\n",
        "    ]"
      ]
    },
    {
      "cell_type": "code",
      "execution_count": 26,
      "metadata": {
        "colab": {
          "base_uri": "https://localhost:8080/",
          "height": 231
        },
        "id": "6jEDGlj8HrzF",
        "outputId": "4960b561-9b2f-47db-f750-487aa842a698"
      },
      "outputs": [],
      "source": [
        "# create a CMD object\r\n",
        "cmd = CMD()\r\n",
        "# command.input(cmd)\r\n",
        "# command.input(cmd)\r\n",
        "def fastVEC(mrc1,mrc2):\r\n",
        "  i,j,k,ind=0,0,0,0\r\n",
        "  cnt=0\r\n",
        "  xydim=mrc1.xdim * mrc1.ydim\r\n",
        "  Ndata = mrc2.xdim * mrc2.ydim * mrc2.xdim\r\n",
        "  print(\"#Start VEC\")\r\n",
        "  dreso = cmd.dreso\r\n",
        "  gstep = mrc1.xwidth\r\n",
        "  fs = (dreso/gstep) * 0.5\r\n",
        "  fsiv = 1.000 / fs\r\n",
        "  fmaxd = (dreso / gstep) * 2.0\r\n",
        "  print(\"#maxd= {fmaxd}\\n\".format(fmaxd=fmaxd))\r\n",
        "  dsum=0\r\n",
        "  Nact=0\r\n",
        "\r\n",
        "  for x in range(mrc2.xdim):\r\n",
        "    rx,ry,rz,d2=0.0,0.0,0.0,0.0\r\n",
        "    for y in range(mrc2.ydim):\r\n",
        "      for z in range(mrc2.zdim):\r\n",
        "        stp=[0]*3\r\n",
        "        endp = [0]*3\r\n",
        "        ind2=0\r\n",
        "        ind=0\r\n",
        "\r\n",
        "        pos=[0]*3\r\n",
        "        pos2=[0]*3\r\n",
        "        ori=[0]*3\r\n",
        "\r\n",
        "        tmpcd = [0]*3\r\n",
        "\r\n",
        "        v,dtotal,rd=0.0,0.0,0.0\r\n",
        "\r\n",
        "        pos[0] = (x* mrc2.xwidth + mrc2.orig[\"x\"] - mrc1.orig[\"x\"]) / mrc1.xwidth\r\n",
        "        pos[1] = (y* mrc2.xwidth + mrc2.orig[\"y\"] - mrc1.orig[\"y\"]) / mrc1.xwidth\r\n",
        "        pos[2] = (z* mrc2.xwidth + mrc2.orig[\"z\"] - mrc1.orig[\"z\"]) / mrc1.xwidth\r\n",
        "\r\n",
        "        ind = mrc2.xdim * mrc2.ydim*z + mrc2.xdim*y + x\r\n",
        "\r\n",
        "        # check density\r\n",
        "\r\n",
        "        if pos[0] < 0 or pos[1] <0 or pos[2] < 0 or pos[0] >= mrc1.xdim or pos[1] >= mrc1.ydim or pos[2] >= mrc1.zdim:\r\n",
        "          mrc2.dens[ind] = 0\r\n",
        "          mrc2.vec[ind][0] = mrc2.vec[ind][1] = mrc2.vec[ind][2]=0.00\r\n",
        "          continue\r\n",
        "\r\n",
        "        ind0 = int(mrc1.xdim * mrc1.ydim * pos[2] + mrc1.xdim * pos[1] + pos[0])\r\n",
        "        print(ind0)\r\n",
        "        if(mrc1.dens[ind0]==0):\r\n",
        "          mrc2.dens[ind] = 0\r\n",
        "          mrc2.vec[ind][0] = mrc2.vec[ind][1] = mrc2.vec[ind][2] = 0.00\r\n",
        "        ori[0] = pos[0];\r\n",
        "        ori[1] = pos[1];\r\n",
        "        ori[2] = pos[2];\r\n",
        "        #Start Point\r\n",
        "        stp[0] = int(pos[0] - fmaxd);\r\n",
        "        stp[1] = int(pos[1] - fmaxd);\r\n",
        "        stp[2] = int(pos[2] - fmaxd);\r\n",
        "\r\n",
        "        if (stp[0] < 0):\r\n",
        "          stp[0] = 0\r\n",
        "        if (stp[1] < 0):\r\n",
        "          stp[1] = 0\r\n",
        "        if (stp[2] < 0):\r\n",
        "          stp[2] = 0\r\n",
        "\r\n",
        "\r\n",
        "        endp[0] = int(pos[0] + fmaxd + 1)\r\n",
        "        endp[1] = int(pos[1] + fmaxd + 1)\r\n",
        "        endp[2] = int(pos[2] + fmaxd + 1)\r\n",
        "\r\n",
        "        if (endp[0] >= mrc1.xdim):\r\n",
        "           endp[0] = mrc1.xdim\r\n",
        "        if (endp[1] >= mrc1.ydim):\r\n",
        "           endp[1] = mrc1.ydim\r\n",
        "        if (endp[2] >= mrc1.zdim):\r\n",
        "           endp[2] = mrc1.zdim\r\n",
        "\r\n",
        "        dtotal = 0\r\n",
        "        pos2[0] = pos2[1]= pos2[2] = 0\r\n",
        "\r\n",
        "        for xp in range(stp[0],endp[0]):\r\n",
        "          rx = float(yp-pos[1])\r\n",
        "          rx = rx*rx\r\n",
        "          for yp in range(stp[1],endp[1]):\r\n",
        "            ry = float(yp-pos[1])\r\n",
        "            ry=ry*ry\r\n",
        "            for zp in range(stp[2],endp[2]):\r\n",
        "              rz = float(zp-pos[2])\r\n",
        "              rz=rz**2\r\n",
        "              d2=rx+ry+rz\r\n",
        "              ind2=xydim*zp+mrc1.xdim*yp+zp\r\n",
        "              v=mrc1.dens[ind2]*math.exp(-1.5*d2*fsiv)\r\n",
        "              dtotal+=v;\r\n",
        "              pos2[0]+=v*float(xp);\r\n",
        "              pos2[1]+=v*float(yp);\r\n",
        "              pos2[2]+=v*float(zp);\r\n",
        "  print(\"#End LDP\")\r\n",
        "\r\n",
        "  mrc2.dsum=dsum\r\n",
        "  mrc2.Nact=Nact\r\n",
        "  mrc2.ave=dsum/float(Nact)\r\n",
        "  dsum=0\r\n",
        "  dsum2=0.0\r\n",
        "  for i in range(mrc2.xdim*mrc2.ydim*mrc2.zdim):\r\n",
        "    if(mrc2.dens[i]>0):\r\n",
        "      dsum+=mrc2.dens[i]*mrc2.dens[i]\r\n",
        "      dsum2+=(mrc2.dens[i]-mrc2.ave)*(mrc2.dens[i]-mrc2.ave)\r\n",
        "  mrc2.std_norm_ave=math.sqrt(dsum2)\r\n",
        "  mrc2.std=math.sqrt(dsum)\r\n",
        "  print(\"#MAP AVE={ave} STD={std} STD_norm={std_norm}\".format(ave=mrc2.ave,std=mrc2.std,std_norm=mrc2.std_norm_ave))\r\n",
        "  # return False\r\n",
        "  return mrc1,mrc2\r\n"
      ]
    },
    {
      "cell_type": "code",
      "execution_count": 27,
      "metadata": {
        "id": "8iNtY3lNJfBh"
      },
      "outputs": [
        {
          "name": "stdout",
          "output_type": "stream",
          "text": [
            "#Start VEC\n",
            "#maxd= 29.9065372581333\n",
            "\n",
            "0\n"
          ]
        },
        {
          "ename": "ValueError",
          "evalue": "The truth value of an array with more than one element is ambiguous. Use a.any() or a.all()",
          "output_type": "error",
          "traceback": [
            "\u001b[1;31m---------------------------------------------------------------------------\u001b[0m",
            "\u001b[1;31mValueError\u001b[0m                                Traceback (most recent call last)",
            "\u001b[1;32m<ipython-input-27-8ddba525c1b6>\u001b[0m in \u001b[0;36m<module>\u001b[1;34m\u001b[0m\n\u001b[1;32m----> 1\u001b[1;33m \u001b[0mA\u001b[0m\u001b[1;33m,\u001b[0m\u001b[0mB\u001b[0m \u001b[1;33m=\u001b[0m \u001b[0mfastVEC\u001b[0m\u001b[1;33m(\u001b[0m\u001b[0mmrc1\u001b[0m\u001b[1;33m,\u001b[0m\u001b[0mmrc2\u001b[0m\u001b[1;33m)\u001b[0m\u001b[1;33m\u001b[0m\u001b[1;33m\u001b[0m\u001b[0m\n\u001b[0m\u001b[0;32m      2\u001b[0m \u001b[0mprint\u001b[0m\u001b[1;33m(\u001b[0m\u001b[0mA\u001b[0m\u001b[1;33m)\u001b[0m\u001b[1;33m\u001b[0m\u001b[1;33m\u001b[0m\u001b[0m\n",
            "\u001b[1;32m<ipython-input-26-d2998676d516>\u001b[0m in \u001b[0;36mfastVEC\u001b[1;34m(mrc1, mrc2)\u001b[0m\n\u001b[0;32m     50\u001b[0m         \u001b[0mind0\u001b[0m \u001b[1;33m=\u001b[0m \u001b[0mint\u001b[0m\u001b[1;33m(\u001b[0m\u001b[0mmrc1\u001b[0m\u001b[1;33m.\u001b[0m\u001b[0mxdim\u001b[0m \u001b[1;33m*\u001b[0m \u001b[0mmrc1\u001b[0m\u001b[1;33m.\u001b[0m\u001b[0mydim\u001b[0m \u001b[1;33m*\u001b[0m \u001b[0mpos\u001b[0m\u001b[1;33m[\u001b[0m\u001b[1;36m2\u001b[0m\u001b[1;33m]\u001b[0m \u001b[1;33m+\u001b[0m \u001b[0mmrc1\u001b[0m\u001b[1;33m.\u001b[0m\u001b[0mxdim\u001b[0m \u001b[1;33m*\u001b[0m \u001b[0mpos\u001b[0m\u001b[1;33m[\u001b[0m\u001b[1;36m1\u001b[0m\u001b[1;33m]\u001b[0m \u001b[1;33m+\u001b[0m \u001b[0mpos\u001b[0m\u001b[1;33m[\u001b[0m\u001b[1;36m0\u001b[0m\u001b[1;33m]\u001b[0m\u001b[1;33m)\u001b[0m\u001b[1;33m\u001b[0m\u001b[1;33m\u001b[0m\u001b[0m\n\u001b[0;32m     51\u001b[0m         \u001b[0mprint\u001b[0m\u001b[1;33m(\u001b[0m\u001b[0mind0\u001b[0m\u001b[1;33m)\u001b[0m\u001b[1;33m\u001b[0m\u001b[1;33m\u001b[0m\u001b[0m\n\u001b[1;32m---> 52\u001b[1;33m         \u001b[1;32mif\u001b[0m\u001b[1;33m(\u001b[0m\u001b[0mmrc1\u001b[0m\u001b[1;33m.\u001b[0m\u001b[0mdens\u001b[0m\u001b[1;33m[\u001b[0m\u001b[0mind0\u001b[0m\u001b[1;33m]\u001b[0m\u001b[1;33m==\u001b[0m\u001b[1;36m0\u001b[0m\u001b[1;33m)\u001b[0m\u001b[1;33m:\u001b[0m\u001b[1;33m\u001b[0m\u001b[1;33m\u001b[0m\u001b[0m\n\u001b[0m\u001b[0;32m     53\u001b[0m           \u001b[0mmrc2\u001b[0m\u001b[1;33m.\u001b[0m\u001b[0mdens\u001b[0m\u001b[1;33m[\u001b[0m\u001b[0mind\u001b[0m\u001b[1;33m]\u001b[0m \u001b[1;33m=\u001b[0m \u001b[1;36m0\u001b[0m\u001b[1;33m\u001b[0m\u001b[1;33m\u001b[0m\u001b[0m\n\u001b[0;32m     54\u001b[0m           \u001b[0mmrc2\u001b[0m\u001b[1;33m.\u001b[0m\u001b[0mvec\u001b[0m\u001b[1;33m[\u001b[0m\u001b[0mind\u001b[0m\u001b[1;33m]\u001b[0m\u001b[1;33m[\u001b[0m\u001b[1;36m0\u001b[0m\u001b[1;33m]\u001b[0m \u001b[1;33m=\u001b[0m \u001b[0mmrc2\u001b[0m\u001b[1;33m.\u001b[0m\u001b[0mvec\u001b[0m\u001b[1;33m[\u001b[0m\u001b[0mind\u001b[0m\u001b[1;33m]\u001b[0m\u001b[1;33m[\u001b[0m\u001b[1;36m1\u001b[0m\u001b[1;33m]\u001b[0m \u001b[1;33m=\u001b[0m \u001b[0mmrc2\u001b[0m\u001b[1;33m.\u001b[0m\u001b[0mvec\u001b[0m\u001b[1;33m[\u001b[0m\u001b[0mind\u001b[0m\u001b[1;33m]\u001b[0m\u001b[1;33m[\u001b[0m\u001b[1;36m2\u001b[0m\u001b[1;33m]\u001b[0m \u001b[1;33m=\u001b[0m \u001b[1;36m0.00\u001b[0m\u001b[1;33m\u001b[0m\u001b[1;33m\u001b[0m\u001b[0m\n",
            "\u001b[1;31mValueError\u001b[0m: The truth value of an array with more than one element is ambiguous. Use a.any() or a.all()"
          ]
        }
      ],
      "source": [
        "A,B = fastVEC(mrc1,mrc2)\r\n",
        "print(A)"
      ]
    },
    {
      "cell_type": "code",
      "execution_count": null,
      "metadata": {},
      "outputs": [],
      "source": []
    }
  ],
  "metadata": {
    "colab": {
      "collapsed_sections": [],
      "name": "VESPER_prototype.ipynb",
      "provenance": []
    },
    "interpreter": {
      "hash": "02963059bcfe9ec13866d8bbde8ec3e30f8393cff7234988bdd62b85a7bebcd1"
    },
    "kernelspec": {
      "display_name": "Python 3.8.5 64-bit ('base': conda)",
      "name": "python3"
    },
    "language_info": {
      "codemirror_mode": {
        "name": "ipython",
        "version": 3
      },
      "file_extension": ".py",
      "mimetype": "text/x-python",
      "name": "python",
      "nbconvert_exporter": "python",
      "pygments_lexer": "ipython3",
      "version": "3.8.5"
    }
  },
  "nbformat": 4,
  "nbformat_minor": 5
}