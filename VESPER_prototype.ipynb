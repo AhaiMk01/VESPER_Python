{
  "nbformat": 4,
  "nbformat_minor": 5,
  "metadata": {
    "kernelspec": {
      "name": "python3",
      "display_name": "Python 3"
    },
    "colab": {
      "name": "VESPER_prototype.ipynb",
      "provenance": [],
      "collapsed_sections": []
    },
    "language_info": {
      "name": "python"
    }
  },
  "cells": [
    {
      "cell_type": "code",
      "metadata": {
        "colab": {
          "base_uri": "https://localhost:8080/"
        },
        "id": "XsxryZSBFcnE",
        "outputId": "5e7054fc-7d3b-498b-d290-8a43bb063a88"
      },
      "source": [
        "!pip3 install mrcfile"
      ],
      "id": "XsxryZSBFcnE",
      "execution_count": null,
      "outputs": [
        {
          "output_type": "stream",
          "text": [
            "Collecting mrcfile\n",
            "\u001b[?25l  Downloading https://files.pythonhosted.org/packages/7d/b3/6d35d37e5f51ebb1a6ed4c5178206705bcaf8848c853db790254a15039be/mrcfile-1.3.0-py2.py3-none-any.whl (40kB)\n",
            "\r\u001b[K     |████████                        | 10kB 14.9MB/s eta 0:00:01\r\u001b[K     |████████████████                | 20kB 21.7MB/s eta 0:00:01\r\u001b[K     |████████████████████████        | 30kB 26.4MB/s eta 0:00:01\r\u001b[K     |████████████████████████████████| 40kB 27.2MB/s eta 0:00:01\r\u001b[K     |████████████████████████████████| 51kB 6.7MB/s \n",
            "\u001b[?25hRequirement already satisfied: numpy>=1.12.0 in /usr/local/lib/python3.7/dist-packages (from mrcfile) (1.19.5)\n",
            "Installing collected packages: mrcfile\n",
            "Successfully installed mrcfile-1.3.0\n"
          ],
          "name": "stdout"
        }
      ]
    },
    {
      "cell_type": "code",
      "metadata": {
        "id": "47f18c60-838e-47cb-a123-ba6426f20245",
        "colab": {
          "base_uri": "https://localhost:8080/",
          "height": 435
        },
        "outputId": "0a249f64-b685-43b1-8eba-f2525708a5c3"
      },
      "source": [
        "import copy\n",
        "import math\n",
        "\n",
        "import mrcfile\n",
        "import numpy as np\n",
        "import command\n",
        "# from Bio.PDB import *\n",
        "# import numba as nb"
      ],
      "id": "47f18c60-838e-47cb-a123-ba6426f20245",
      "execution_count": null,
      "outputs": [
        {
          "output_type": "error",
          "ename": "ModuleNotFoundError",
          "evalue": "ignored",
          "traceback": [
            "\u001b[0;31m---------------------------------------------------------------------------\u001b[0m",
            "\u001b[0;31mModuleNotFoundError\u001b[0m                       Traceback (most recent call last)",
            "\u001b[0;32m<ipython-input-6-495778929713>\u001b[0m in \u001b[0;36m<module>\u001b[0;34m()\u001b[0m\n\u001b[1;32m      4\u001b[0m \u001b[0;32mimport\u001b[0m \u001b[0mmrcfile\u001b[0m\u001b[0;34m\u001b[0m\u001b[0;34m\u001b[0m\u001b[0m\n\u001b[1;32m      5\u001b[0m \u001b[0;32mimport\u001b[0m \u001b[0mnumpy\u001b[0m \u001b[0;32mas\u001b[0m \u001b[0mnp\u001b[0m\u001b[0;34m\u001b[0m\u001b[0;34m\u001b[0m\u001b[0m\n\u001b[0;32m----> 6\u001b[0;31m \u001b[0;32mimport\u001b[0m \u001b[0mcommand\u001b[0m\u001b[0;34m\u001b[0m\u001b[0;34m\u001b[0m\u001b[0m\n\u001b[0m\u001b[1;32m      7\u001b[0m \u001b[0;31m# from Bio.PDB import *\u001b[0m\u001b[0;34m\u001b[0m\u001b[0;34m\u001b[0m\u001b[0;34m\u001b[0m\u001b[0m\n\u001b[1;32m      8\u001b[0m \u001b[0;31m# import numba as nb\u001b[0m\u001b[0;34m\u001b[0m\u001b[0;34m\u001b[0m\u001b[0;34m\u001b[0m\u001b[0m\n",
            "\u001b[0;31mModuleNotFoundError\u001b[0m: No module named 'command'",
            "",
            "\u001b[0;31m---------------------------------------------------------------------------\u001b[0;32m\nNOTE: If your import is failing due to a missing package, you can\nmanually install dependencies using either !pip or !apt.\n\nTo view examples of installing some common dependencies, click the\n\"Open Examples\" button below.\n\u001b[0;31m---------------------------------------------------------------------------\u001b[0m\n"
          ]
        }
      ]
    },
    {
      "cell_type": "code",
      "metadata": {
        "id": "T3aFj_3QFwoX"
      },
      "source": [
        "class CMD:\n",
        "  def __init__(self):\n",
        "    self.filename = \"\"\n",
        "    self.map_t=0.00;\n",
        "    self.Nthr=2;\n",
        "    self.dreso=16.00;\n",
        "    self.MergeDist=0.50;\n",
        "    self.Filter=0.10;\n",
        "    self.Mode=0;\n",
        "    self.LocalR=10.0;\n",
        "    self.Dkeep=0.5;\n",
        "    self.Nround=5000;\n",
        "    self.Nnb=30;\n",
        "    self.Ntabu=100;\n",
        "    self.Nsim=10;\n",
        "    self.Allow=1.01;\n",
        "    self.Nbeam=20;\n",
        "    self.ssize=7.0;\n",
        "    self.ang=30.0;\n",
        "    self.TopN=10;\n",
        "    self.ShowGrid=False;\n",
        "    self.th1=0.00;\n",
        "    self.th2=0.00;\n",
        "    self.Mode=1;\n",
        "    self.Emode=False;\n",
        "    self.file1=\"\"\n",
        "    self.file2=\"\"\n"
      ],
      "id": "T3aFj_3QFwoX",
      "execution_count": null,
      "outputs": []
    },
    {
      "cell_type": "code",
      "metadata": {
        "id": "929a601e-950b-4028-a2d9-d0d106ae9be1"
      },
      "source": [
        "class mrc_obj:\n",
        "    def __init__(self, path):\n",
        "        mrc = mrcfile.open(path)\n",
        "        data = mrc.data\n",
        "        header = mrc.header\n",
        "        self.xdim = header.nx\n",
        "        self.ydim = header.ny\n",
        "        self.zdim = header.nz\n",
        "        self.xwidth = mrc.voxel_size.x\n",
        "        self.ywidth = mrc.voxel_size.y\n",
        "        self.zwidth = mrc.voxel_size.z\n",
        "        self.cent = [\n",
        "            self.xdim * 0.5,\n",
        "            self.ydim * 0.5,\n",
        "            self.zdim * 0.5,\n",
        "        ]\n",
        "        self.orig = {\"x\": header.origin.x, \"y\": header.origin.y, \"z\": header.origin.z}\n",
        "        self.dens = np.swapaxes(data, 0, 2)\n",
        "        self.vec = None\n",
        "        self.dsum = None\n",
        "        self.Nact = None\n",
        "        self.ave = None\n",
        "        self.std_norm_ave = None\n",
        "        self.std = None"
      ],
      "id": "929a601e-950b-4028-a2d9-d0d106ae9be1",
      "execution_count": null,
      "outputs": []
    },
    {
      "cell_type": "code",
      "metadata": {
        "id": "d27803c7-c458-4994-88e7-900f8bcfc3be"
      },
      "source": [
        "def mrc_set_vox_size(mrc, th=0.0, voxel_size=7.0):\n",
        "\n",
        "    # set shape and size\n",
        "    size = mrc.xdim * mrc.ydim * mrc.zdim\n",
        "    shape = (mrc.xdim, mrc.ydim, mrc.zdim)\n",
        "\n",
        "    # if th < 0 add th to all value\n",
        "    dens = mrc.dens.flatten()\n",
        "    if th < 0:\n",
        "        dens = dens - th\n",
        "        th = 0.0\n",
        "\n",
        "    # Trim all the values less than threshold\n",
        "    dens[dens < th] = 0\n",
        "\n",
        "    # calculate dmax distance for non-zero entries\n",
        "    non_zero_index_list = np.nonzero(dens)\n",
        "    index_3d = np.unravel_index(non_zero_index_list, shape)\n",
        "    index_arr = np.array([index_3d[0][0], index_3d[1][0], index_3d[2][0]]).T\n",
        "    cent_arr = np.array(mrc.cent)\n",
        "    d2_list = np.linalg.norm(index_arr - cent_arr, axis=1)\n",
        "    dmax = max(d2_list)\n",
        "\n",
        "    #dmax = math.sqrt(mrc.cent[0] ** 2 + mrc.cent[1] ** 2 + mrc.cent[2] ** 2)\n",
        "    dmax = dmax * mrc.xwidth\n",
        "\n",
        "    # set new center\n",
        "    new_cent = [\n",
        "        mrc.cent[0] * mrc.xwidth + mrc.orig[\"x\"],\n",
        "        mrc.cent[1] * mrc.xwidth + mrc.orig[\"y\"],\n",
        "        mrc.cent[2] * mrc.xwidth + mrc.orig[\"z\"],\n",
        "    ]\n",
        "\n",
        "    tmp_size = 2 * dmax / voxel_size\n",
        "\n",
        "    # find the minimum size of the map\n",
        "    b = y = 2 ** math.ceil(math.log2(tmp_size))\n",
        "    while 1:\n",
        "        while y < tmp_size:\n",
        "            y = y * 3\n",
        "            continue\n",
        "        if y < b:\n",
        "            b = y\n",
        "        if y % 2 != 0:\n",
        "            break\n",
        "        y = y / 2\n",
        "\n",
        "    new_xdim = int(b)\n",
        "\n",
        "    # set new origins\n",
        "    new_orig = {\n",
        "        \"x\": new_cent[0] - 0.5 * new_xdim * voxel_size,\n",
        "        \"y\": new_cent[1] - 0.5 * new_xdim * voxel_size,\n",
        "        \"z\": new_cent[2] - 0.5 * new_xdim * voxel_size,\n",
        "    }\n",
        "\n",
        "    # create new mrc object\n",
        "    mrc_set = copy.deepcopy(mrc)\n",
        "    mrc_set.orig = new_orig\n",
        "    mrc_set.xdim = mrc_set.ydim = mrc_set.zdim = new_xdim\n",
        "    mrc_set.cent = new_cent\n",
        "\n",
        "    return mrc_set"
      ],
      "id": "d27803c7-c458-4994-88e7-900f8bcfc3be",
      "execution_count": null,
      "outputs": []
    },
    {
      "cell_type": "code",
      "metadata": {
        "id": "d67ae3f9-663e-436b-b236-da933a7250f0"
      },
      "source": [
        "def mrc_vec(mrc, mrc_N, dreso=16.00):\n",
        "    \n",
        "    # set up filter\n",
        "    gstep = mrc.xwidth\n",
        "    fs = (dreso / gstep) * 0.5\n",
        "    fs = fs ** 2\n",
        "    fsiv = 1.0 / fs\n",
        "    fmaxd = (dreso / gstep) * 2.0\n",
        "    dsum = 0\n",
        "    Nact = 0\n",
        "    \n",
        "    \n",
        "    \n",
        "    \n",
        "    # TODO\n",
        "    return"
      ],
      "id": "d67ae3f9-663e-436b-b236-da933a7250f0",
      "execution_count": null,
      "outputs": []
    },
    {
      "cell_type": "code",
      "metadata": {
        "id": "5bce2dba-1ee8-4168-8855-4a57383b24de",
        "outputId": "bf03d4e4-8d8c-4066-ef7c-652223ce7d96"
      },
      "source": [
        "mrc1 = mrc_obj(\"emd_8097.mrc\")\n",
        "mrc2 = mrc_obj(\"ChainA_simulated_resample.mrc\")\n",
        "\n",
        "mrc_N1 = mrc_set_vox_size(mrc1)\n",
        "mrc_N2 = mrc_set_vox_size(mrc2)\n",
        "\n",
        "if mrc_N1.xdim > mrc_N2.xdim:\n",
        "    mrc_N2.xdim = mrc_N2.ydim = mrc_N2.zdim = mrc_N1.xdim\n",
        "    mrc_N2.cent = [\n",
        "        mrc_N2.cent[0] - 0.5 * 7 * mrc_N2.xdim,\n",
        "        mrc_N2.cent[1] - 0.5 * 7 * mrc_N2.xdim,\n",
        "        mrc_N2.cent[2] - 0.5 * 7 * mrc_N2.xdim,\n",
        "    ]\n",
        "else:\n",
        "    mrc_N1.xdim = mrc_N1.ydim = mrc_N1.zdim = mrc_N2.xdim\n",
        "    mrc_N1.cent = [\n",
        "        mrc_N1.cent[0] - 0.5 * 7 * mrc_N1.xdim,\n",
        "        mrc_N1.cent[1] - 0.5 * 7 * mrc_N1.xdim,\n",
        "        mrc_N1.cent[2] - 0.5 * 7 * mrc_N1.xdim,\n",
        "    ]"
      ],
      "id": "5bce2dba-1ee8-4168-8855-4a57383b24de",
      "execution_count": null,
      "outputs": [
        {
          "output_type": "stream",
          "text": [
            "54\n",
            "54\n",
            "[118.23501896858215, 107.53501725196838, 102.1850163936615]\n",
            "[-70.76498103141785, -81.46498274803162, -86.8149836063385]\n",
            "{'x': -70.76498103141785, 'y': -81.46498274803162, 'z': -86.8149836063385}\n",
            "{'x': -49.76498103141785, 'y': -60.464982748031616, 'z': -65.8149836063385}\n"
          ],
          "name": "stdout"
        }
      ]
    },
    {
      "cell_type": "code",
      "metadata": {
        "id": "6jEDGlj8HrzF",
        "colab": {
          "base_uri": "https://localhost:8080/",
          "height": 231
        },
        "outputId": "4960b561-9b2f-47db-f750-487aa842a698"
      },
      "source": [
        "# create a CMD object\n",
        "cmd = CMD()\n",
        "command.input(cmd)\n",
        "def fastVEC(mrc1,mrc2):\n",
        "  i,j,k,ind=0,0,0,0\n",
        "  cnt=0\n",
        "  xydim=mrc1.xdim * mrc1.ydim\n",
        "  Ndata = mrc2.xdim * mrc2.ydim * mrc2.xdim\n",
        "  print(\"#Start VEC\")\n",
        "  dreso = cmd.dreso\n",
        "  gstep = mrc1.widthx\n",
        "  fs = (dreso/gstep) * 0.5\n",
        "  fsiv = 1.000 / fs\n",
        "  fmaxd = (dreso / gstep) * 2.0\n",
        "  print(\"#maxd= {fmaxd}\\n\".format(fmaxd=fmaxd))\n",
        "  dsum=0\n",
        "  Nact=0\n",
        "\n",
        "  for x in range(mrc2.xdim):\n",
        "    rx,ry,rz,d2=0.0,0.0,0.0,0.0\n",
        "    for y in range(mrc2.ydim):\n",
        "      for z in range(mrc2.zdim):\n",
        "        stp=[0]*3\n",
        "        endp = [0]*3\n",
        "        ind2=0\n",
        "        ind=0\n",
        "\n",
        "        pos=[0]*3\n",
        "        pos2=[0]*3\n",
        "        ori=[0]*3\n",
        "\n",
        "        tmpcd = [0]*3\n",
        "\n",
        "        v,dtotal,rd=0.0,0.0,0.0\n",
        "\n",
        "        pos[0] = (x* mrc2.widhtx + mrc2.orgxyz[0] - mrc1.orgxyz[0]) / mrc1.widhtx\n",
        "        pos[1] = (y* mrc2.widhtx + mrc2.orgxyz[1] - mrc1.orgxyz[1]) / mrc1.widhtx\n",
        "        pos[2] = (z* mrc2.widhtx + mrc2.orgxyz[2] - mrc1.orgxyz[2]) / mrc1.widhtx\n",
        "\n",
        "        ind = mrc2.xdim * mrc2.ydim*z + mrc2.xdim*y + x\n",
        "\n",
        "        # check density\n",
        "\n",
        "        if pos[0] < 0 or pos[1] <0 or pos[2] < 0 or pos[0] >= mrc1.xdim or pos[1] >= mrc1.ydim or pos[2] >= mrc1.zdim:\n",
        "          mrc2.dens[ind] = 0\n",
        "          mrc2.vec[ind][0] = mrc2.vec[ind][1] = mrc2.vec[ind][2]=0.00\n",
        "          continue\n",
        "\n",
        "        ind0 = mrc1.xdim * mrc1.ydim * pos[2] + mrc1.xdim * pos[1] + pos[0]\n",
        "\n",
        "        if(mrc1.dens[ind0]==0):\n",
        "          mrc2.dens[ind] = 0\n",
        "          mrc2.vec[ind][0] = mrc2.vec[ind][1] = mrc2.vec[ind][2] = 0.00\n",
        "        ori[0] = pos[0];\n",
        "        ori[1] = pos[1];\n",
        "        ori[2] = pos[2];\n",
        "        #Start Point\n",
        "        stp[0] = int(pos[0] - fmaxd);\n",
        "        stp[1] = int(pos[1] - fmaxd);\n",
        "        stp[2] = int(pos[2] - fmaxd);\n",
        "\n",
        "        if (stp[0] < 0):\n",
        "          stp[0] = 0\n",
        "        if (stp[1] < 0):\n",
        "          stp[1] = 0\n",
        "        if (stp[2] < 0):\n",
        "          stp[2] = 0\n",
        "\n",
        "\n",
        "        endp[0] = int(pos[0] + fmaxd + 1)\n",
        "        endp[1] = int(pos[1] + fmaxd + 1)\n",
        "        endp[2] = int(pos[2] + fmaxd + 1)\n",
        "\n",
        "        if (endp[0] >= mrc1.xdim):\n",
        "           endp[0] = mrc1.xdim\n",
        "        if (endp[1] >= mrc1.ydim):\n",
        "           endp[1] = mrc1.ydim\n",
        "        if (endp[2] >= mrc1.zdim):\n",
        "           endp[2] = mrc1.zdim\n",
        "\n",
        "        dtotal = 0\n",
        "        pos2[0] = pos2[1]= pos2[2] = 0\n",
        "\n",
        "        for xp in range(stp[0],endp[0]):\n",
        "          rx = float(yp-pos[1])\n",
        "          rx = rx*rx\n",
        "          for yp in range(stp[1],endp[1]):\n",
        "            ry = float(yp-pos[1])\n",
        "            ry=ry*ry\n",
        "            for zp in range(stp[2],endp[2]):\n",
        "              rz = float(zp-pos[2])\n",
        "              rz=rz**2\n",
        "              d2=rx+ry+rz\n",
        "              ind2=xydim*zp+mrc1.xdim*yp+zp\n",
        "              v=mrc1.dens[ind2]*math.exp(-1.5*d2*fsiv)\n",
        "              dtotal+=v;\n",
        "              pos2[0]+=v*float(xp);\n",
        "              pos2[1]+=v*float(yp);\n",
        "              pos2[2]+=v*float(zp);\n",
        "  print(\"#End LDP\")\n",
        "\n",
        "  mrc2.dsum=dsum\n",
        "  mrc2.Nact=Nact\n",
        "  mrc2.ave=dsum/float(Nact)\n",
        "  dsum=0\n",
        "  dsum2=0.0\n",
        "  for i in range(mrc2.xdim*mrc2.ydim*mrc2.zdim):\n",
        "    if(mrc2.dens[i]>0):\n",
        "      dsum+=mrc2.dens[i]*mrc2.dens[i]\n",
        "      dsum2+=(mrc2.dens[i]-mrc2.ave)*(mrc2.dens[i]-mrc2.ave)\n",
        "  mrc2.std_norm_ave=math.sqrt(dsum2)\n",
        "  mrc2.std=math.sqrt(dsum)\n",
        "  print(\"#MAP AVE={ave} STD={std} STD_norm={std_norm}\".format(ave=mrc2.ave,std=mrc2.std,std_norm=mrc2.std_norm_ave))\n",
        "  return false\n"
      ],
      "id": "6jEDGlj8HrzF",
      "execution_count": null,
      "outputs": [
        {
          "output_type": "error",
          "ename": "NameError",
          "evalue": "ignored",
          "traceback": [
            "\u001b[0;31m---------------------------------------------------------------------------\u001b[0m",
            "\u001b[0;31mNameError\u001b[0m                                 Traceback (most recent call last)",
            "\u001b[0;32m<ipython-input-9-8876dc2ce418>\u001b[0m in \u001b[0;36m<module>\u001b[0;34m()\u001b[0m\n\u001b[1;32m      1\u001b[0m \u001b[0;31m# create a CMD object\u001b[0m\u001b[0;34m\u001b[0m\u001b[0;34m\u001b[0m\u001b[0;34m\u001b[0m\u001b[0m\n\u001b[1;32m      2\u001b[0m \u001b[0mcmd\u001b[0m \u001b[0;34m=\u001b[0m \u001b[0mCMD\u001b[0m\u001b[0;34m(\u001b[0m\u001b[0;34m)\u001b[0m\u001b[0;34m\u001b[0m\u001b[0;34m\u001b[0m\u001b[0m\n\u001b[0;32m----> 3\u001b[0;31m \u001b[0mcommand\u001b[0m\u001b[0;34m.\u001b[0m\u001b[0minput\u001b[0m\u001b[0;34m(\u001b[0m\u001b[0mcmd\u001b[0m\u001b[0;34m)\u001b[0m\u001b[0;34m\u001b[0m\u001b[0;34m\u001b[0m\u001b[0m\n\u001b[0m\u001b[1;32m      4\u001b[0m \u001b[0;32mdef\u001b[0m \u001b[0mfastVEC\u001b[0m\u001b[0;34m(\u001b[0m\u001b[0mmrc1\u001b[0m\u001b[0;34m,\u001b[0m\u001b[0mmrc2\u001b[0m\u001b[0;34m)\u001b[0m\u001b[0;34m:\u001b[0m\u001b[0;34m\u001b[0m\u001b[0;34m\u001b[0m\u001b[0m\n\u001b[1;32m      5\u001b[0m   \u001b[0mi\u001b[0m\u001b[0;34m,\u001b[0m\u001b[0mj\u001b[0m\u001b[0;34m,\u001b[0m\u001b[0mk\u001b[0m\u001b[0;34m,\u001b[0m\u001b[0mind\u001b[0m\u001b[0;34m=\u001b[0m\u001b[0;36m0\u001b[0m\u001b[0;34m,\u001b[0m\u001b[0;36m0\u001b[0m\u001b[0;34m,\u001b[0m\u001b[0;36m0\u001b[0m\u001b[0;34m,\u001b[0m\u001b[0;36m0\u001b[0m\u001b[0;34m\u001b[0m\u001b[0;34m\u001b[0m\u001b[0m\n",
            "\u001b[0;31mNameError\u001b[0m: name 'command' is not defined"
          ]
        }
      ]
    },
    {
      "cell_type": "code",
      "metadata": {
        "id": "8iNtY3lNJfBh"
      },
      "source": [
        ""
      ],
      "id": "8iNtY3lNJfBh",
      "execution_count": null,
      "outputs": []
    }
  ]
}