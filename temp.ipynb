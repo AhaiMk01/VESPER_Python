{
 "cells": [
  {
   "cell_type": "code",
   "execution_count": null,
   "source": [
    "from chimera import runCommand as rc"
   ],
   "outputs": [],
   "metadata": {}
  }
 ],
 "metadata": {
  "orig_nbformat": 4,
  "language_info": {
   "name": "python",
   "version": "3.8.8",
   "mimetype": "text/x-python",
   "codemirror_mode": {
    "name": "ipython",
    "version": 3
   },
   "pygments_lexer": "ipython3",
   "nbconvert_exporter": "python",
   "file_extension": ".py"
  },
  "kernelspec": {
   "name": "python3",
   "display_name": "Python 3.8.8 64-bit"
  },
  "interpreter": {
   "hash": "33576024ce695f9cbc7bb7d7217065d3d6df24d2b53b32b3028ff53bd7e6390b"
  }
 },
 "nbformat": 4,
 "nbformat_minor": 2
}