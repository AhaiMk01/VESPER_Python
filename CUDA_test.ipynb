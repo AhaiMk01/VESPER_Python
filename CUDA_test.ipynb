{
 "cells": [
  {
   "cell_type": "code",
   "execution_count": 1,
   "id": "3d3014dd-6204-4746-97c8-4c481205732c",
   "metadata": {},
   "outputs": [],
   "source": [
    "import cupy as cp\n",
    "import numpy as np\n",
    "from scipy.spatial.transform import Rotation as R"
   ]
  },
  {
   "cell_type": "code",
   "execution_count": 2,
   "id": "0cacca2c-e1d3-413e-8720-c6be1fc3ad21",
   "metadata": {},
   "outputs": [],
   "source": [
    "mempool = cp.get_default_memory_pool()\n",
    "pinned_mempool = cp.get_default_pinned_memory_pool()"
   ]
  },
  {
   "cell_type": "code",
   "execution_count": 3,
   "id": "5bb3e2ea-33dc-4dc9-9233-5e8aa0a2928c",
   "metadata": {},
   "outputs": [],
   "source": [
    "ang = 30\n",
    "x_angle = []\n",
    "y_angle = []\n",
    "z_angle = []\n",
    "\n",
    "i = 0\n",
    "while i < 360:\n",
    "    x_angle.append(i)\n",
    "    y_angle.append(i)\n",
    "    i += ang\n",
    "\n",
    "i = 0\n",
    "while i <= 180:\n",
    "    z_angle.append(i)\n",
    "    i += ang\n",
    "\n",
    "angle_comb = np.array(np.meshgrid(x_angle, y_angle, z_angle)).T.reshape(-1, 3)"
   ]
  },
  {
   "cell_type": "code",
   "execution_count": 4,
   "id": "6a69f01b-7689-495b-a9c4-c5bce6b6c3bd",
   "metadata": {},
   "outputs": [],
   "source": [
    "def ang_to_mtx_ZYX(angle):\n",
    "    r = R.from_euler(\"ZYX\", angle, degrees=True)\n",
    "    mtx = r.as_matrix()\n",
    "    mtx[np.isclose(mtx, 0, atol=1e-15)] = 0\n",
    "    return np.flip(mtx).T\n",
    "    return np.flip(mtx).T.astype(np.float32)"
   ]
  },
  {
   "cell_type": "code",
   "execution_count": 5,
   "id": "c8818e3d-c2ed-4c27-8e32-15a4d6d40e67",
   "metadata": {},
   "outputs": [
    {
     "name": "stdout",
     "output_type": "stream",
     "text": [
      "Wall time: 214 ms\n"
     ]
    },
    {
     "data": {
      "text/plain": [
       "(1008, 3, 3)"
      ]
     },
     "execution_count": 5,
     "metadata": {},
     "output_type": "execute_result"
    }
   ],
   "source": [
    "%%time\n",
    "rot_mtx_tensor = cp.array([ang_to_mtx_ZYX(ang) for ang in angle_comb])\n",
    "rot_mtx_tensor.shape"
   ]
  },
  {
   "cell_type": "code",
   "execution_count": 6,
   "id": "e656aee4-6e2f-4622-b72e-d50caff7fb8c",
   "metadata": {},
   "outputs": [
    {
     "name": "stdout",
     "output_type": "stream",
     "text": [
      "Wall time: 2.93 ms\n"
     ]
    }
   ],
   "source": [
    "%%time\n",
    "dim = 48\n",
    "cent = 0.5 * float(dim)\n",
    "new_pos_arr = np.array(\n",
    "    np.meshgrid(np.arange(dim), np.arange(dim), np.arange(dim),)\n",
    ").T.reshape(-1, 3)\n",
    "new_pos_arr = new_pos_arr - cent\n",
    "new_pos_arr = new_pos_arr.astype(np.float32)"
   ]
  },
  {
   "cell_type": "code",
   "execution_count": 7,
   "id": "d9ad51f5-6573-4511-bffe-5ac9fae3ea75",
   "metadata": {},
   "outputs": [],
   "source": [
    "new_pos_arr_gpu = cp.asarray(new_pos_arr)"
   ]
  },
  {
   "cell_type": "code",
   "execution_count": 8,
   "id": "8edbc3a1-084a-4013-83c5-2eb99d5204e4",
   "metadata": {},
   "outputs": [
    {
     "name": "stdout",
     "output_type": "stream",
     "text": [
      "Wall time: 125 ms\n"
     ]
    },
    {
     "data": {
      "text/plain": [
       "(1008, 110592, 3)"
      ]
     },
     "execution_count": 8,
     "metadata": {},
     "output_type": "execute_result"
    }
   ],
   "source": [
    "%%time\n",
    "new_pos_tensor = cp.repeat(\n",
    "    new_pos_arr_gpu[cp.newaxis, :, :], len(rot_mtx_tensor), axis=0\n",
    ")\n",
    "new_pos_tensor.shape"
   ]
  },
  {
   "cell_type": "code",
   "execution_count": 9,
   "id": "7372c8dc-d6f4-413b-8fe7-0d3ee5b7b934",
   "metadata": {},
   "outputs": [
    {
     "name": "stdout",
     "output_type": "stream",
     "text": [
      "Wall time: 757 ms\n"
     ]
    },
    {
     "data": {
      "text/plain": [
       "(1008, 110592, 3)"
      ]
     },
     "execution_count": 9,
     "metadata": {},
     "output_type": "execute_result"
    }
   ],
   "source": [
    "%%time\n",
    "old_pos_tensor = cp.einsum(\"ikl,ijk->ijl\", rot_mtx_tensor, new_pos_tensor, optimize=True).astype(cp.int32)\n",
    "old_pos_tensor.shape"
   ]
  },
  {
   "cell_type": "code",
   "execution_count": 10,
   "id": "49220165-d4f3-4003-b50b-5c3bad05fb71",
   "metadata": {},
   "outputs": [
    {
     "name": "stdout",
     "output_type": "stream",
     "text": [
      "2.4930028915405273\n",
      "6.230551719665527\n"
     ]
    }
   ],
   "source": [
    "print(mempool.used_bytes() / (1024**3))\n",
    "print(mempool.total_bytes() / (1024**3))"
   ]
  },
  {
   "cell_type": "code",
   "execution_count": 11,
   "id": "f18956b9-66e7-4192-bbf8-3a72223bc3ca",
   "metadata": {},
   "outputs": [
    {
     "name": "stdout",
     "output_type": "stream",
     "text": [
      "Wall time: 1.81 s\n"
     ]
    }
   ],
   "source": [
    "%%time\n",
    "combined = np.hstack((old_pos_tensor.get(), new_pos_tensor.get()))"
   ]
  },
  {
   "cell_type": "code",
   "execution_count": 12,
   "id": "86302f51-2c0b-4084-ad98-c541d10a93a3",
   "metadata": {},
   "outputs": [
    {
     "name": "stdout",
     "output_type": "stream",
     "text": [
      "Wall time: 31.3 ms\n"
     ]
    }
   ],
   "source": [
    "%%time\n",
    "bool_mask_arr = (\n",
    "    (old_pos_tensor[..., 0] >= 0)\n",
    "    & (old_pos_tensor[..., 1] >= 0)\n",
    "    & (old_pos_tensor[..., 2] >= 0)\n",
    "    & (old_pos_tensor[..., 0] < dim)\n",
    "    & (old_pos_tensor[..., 1] < dim)\n",
    "    & (old_pos_tensor[..., 2] < dim)\n",
    ")"
   ]
  },
  {
   "cell_type": "code",
   "execution_count": 13,
   "id": "e6a698bf-0c63-4f99-9126-a3b67e72cedc",
   "metadata": {},
   "outputs": [
    {
     "data": {
      "text/plain": [
       "(1008, 110592)"
      ]
     },
     "execution_count": 13,
     "metadata": {},
     "output_type": "execute_result"
    }
   ],
   "source": [
    "bool_mask_arr.shape"
   ]
  },
  {
   "cell_type": "code",
   "execution_count": 14,
   "id": "1d77a1c8-26a8-4050-a0e7-7d6e9cfcc536",
   "metadata": {},
   "outputs": [
    {
     "name": "stdout",
     "output_type": "stream",
     "text": [
      "2.5968236923217773\n",
      "6.230551719665527\n"
     ]
    }
   ],
   "source": [
    "print(mempool.used_bytes() / (1024**3))\n",
    "print(mempool.total_bytes() / (1024**3))"
   ]
  },
  {
   "cell_type": "code",
   "execution_count": 15,
   "id": "362a51cd-4ac2-4ee6-8f4d-96ea83d2b644",
   "metadata": {},
   "outputs": [],
   "source": [
    "new_pos_tensor = None\n",
    "old_pos_tensor = None\n",
    "bool_mask_arr = None\n",
    "mempool.free_all_blocks()\n",
    "pinned_mempool.free_all_blocks()"
   ]
  }
 ],
 "metadata": {
  "kernelspec": {
   "display_name": "Python [conda env:bio]",
   "language": "python",
   "name": "conda-env-bio-py"
  },
  "language_info": {
   "codemirror_mode": {
    "name": "ipython",
    "version": 3
   },
   "file_extension": ".py",
   "mimetype": "text/x-python",
   "name": "python",
   "nbconvert_exporter": "python",
   "pygments_lexer": "ipython3",
   "version": "3.9.6"
  }
 },
 "nbformat": 4,
 "nbformat_minor": 5
}
