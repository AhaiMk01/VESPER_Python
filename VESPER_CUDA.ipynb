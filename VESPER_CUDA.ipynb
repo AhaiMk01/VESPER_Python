{
  "nbformat": 4,
  "nbformat_minor": 5,
  "metadata": {
    "kernelspec": {
      "display_name": "Python [conda env:bio]",
      "language": "python",
      "name": "conda-env-bio-py"
    },
    "language_info": {
      "codemirror_mode": {
        "name": "ipython",
        "version": 3
      },
      "file_extension": ".py",
      "mimetype": "text/x-python",
      "name": "python",
      "nbconvert_exporter": "python",
      "pygments_lexer": "ipython3",
      "version": "3.8.10"
    },
    "colab": {
      "name": "VESPER_prototype.ipynb",
      "provenance": []
    },
    "accelerator": "GPU",
    "widgets": {
      "application/vnd.jupyter.widget-state+json": {
        "63cff532cbe94ad1b0e8f829507b74d3": {
          "model_module": "@jupyter-widgets/controls",
          "model_name": "HBoxModel",
          "state": {
            "_view_name": "HBoxView",
            "_dom_classes": [],
            "_model_name": "HBoxModel",
            "_view_module": "@jupyter-widgets/controls",
            "_model_module_version": "1.5.0",
            "_view_count": null,
            "_view_module_version": "1.5.0",
            "box_style": "",
            "layout": "IPY_MODEL_8ffef9861c024c2b944d75eeb9a11dd5",
            "_model_module": "@jupyter-widgets/controls",
            "children": [
              "IPY_MODEL_5f7283d1f8374f988d7c07596eb12bbe",
              "IPY_MODEL_a7630cad52a54475b66ed8f3858bccf4"
            ]
          }
        },
        "8ffef9861c024c2b944d75eeb9a11dd5": {
          "model_module": "@jupyter-widgets/base",
          "model_name": "LayoutModel",
          "state": {
            "_view_name": "LayoutView",
            "grid_template_rows": null,
            "right": null,
            "justify_content": null,
            "_view_module": "@jupyter-widgets/base",
            "overflow": null,
            "_model_module_version": "1.2.0",
            "_view_count": null,
            "flex_flow": null,
            "width": null,
            "min_width": null,
            "border": null,
            "align_items": null,
            "bottom": null,
            "_model_module": "@jupyter-widgets/base",
            "top": null,
            "grid_column": null,
            "overflow_y": null,
            "overflow_x": null,
            "grid_auto_flow": null,
            "grid_area": null,
            "grid_template_columns": null,
            "flex": null,
            "_model_name": "LayoutModel",
            "justify_items": null,
            "grid_row": null,
            "max_height": null,
            "align_content": null,
            "visibility": null,
            "align_self": null,
            "height": null,
            "min_height": null,
            "padding": null,
            "grid_auto_rows": null,
            "grid_gap": null,
            "max_width": null,
            "order": null,
            "_view_module_version": "1.2.0",
            "grid_template_areas": null,
            "object_position": null,
            "object_fit": null,
            "grid_auto_columns": null,
            "margin": null,
            "display": null,
            "left": null
          }
        },
        "5f7283d1f8374f988d7c07596eb12bbe": {
          "model_module": "@jupyter-widgets/controls",
          "model_name": "FloatProgressModel",
          "state": {
            "_view_name": "ProgressView",
            "style": "IPY_MODEL_d460ce1f7e25479195c47e7085c077d9",
            "_dom_classes": [],
            "description": "100%",
            "_model_name": "FloatProgressModel",
            "bar_style": "success",
            "max": 48,
            "_view_module": "@jupyter-widgets/controls",
            "_model_module_version": "1.5.0",
            "value": 48,
            "_view_count": null,
            "_view_module_version": "1.5.0",
            "orientation": "horizontal",
            "min": 0,
            "description_tooltip": null,
            "_model_module": "@jupyter-widgets/controls",
            "layout": "IPY_MODEL_34be7026fe354298bcb61a37290d0f94"
          }
        },
        "a7630cad52a54475b66ed8f3858bccf4": {
          "model_module": "@jupyter-widgets/controls",
          "model_name": "HTMLModel",
          "state": {
            "_view_name": "HTMLView",
            "style": "IPY_MODEL_de560ce089de4a799244f268955480de",
            "_dom_classes": [],
            "description": "",
            "_model_name": "HTMLModel",
            "placeholder": "​",
            "_view_module": "@jupyter-widgets/controls",
            "_model_module_version": "1.5.0",
            "value": " 48/48 [01:03&lt;00:00,  1.32s/it]",
            "_view_count": null,
            "_view_module_version": "1.5.0",
            "description_tooltip": null,
            "_model_module": "@jupyter-widgets/controls",
            "layout": "IPY_MODEL_3b77e3a9b51f4847b9fbf3ac744c9a5a"
          }
        },
        "d460ce1f7e25479195c47e7085c077d9": {
          "model_module": "@jupyter-widgets/controls",
          "model_name": "ProgressStyleModel",
          "state": {
            "_view_name": "StyleView",
            "_model_name": "ProgressStyleModel",
            "description_width": "initial",
            "_view_module": "@jupyter-widgets/base",
            "_model_module_version": "1.5.0",
            "_view_count": null,
            "_view_module_version": "1.2.0",
            "bar_color": null,
            "_model_module": "@jupyter-widgets/controls"
          }
        },
        "34be7026fe354298bcb61a37290d0f94": {
          "model_module": "@jupyter-widgets/base",
          "model_name": "LayoutModel",
          "state": {
            "_view_name": "LayoutView",
            "grid_template_rows": null,
            "right": null,
            "justify_content": null,
            "_view_module": "@jupyter-widgets/base",
            "overflow": null,
            "_model_module_version": "1.2.0",
            "_view_count": null,
            "flex_flow": null,
            "width": null,
            "min_width": null,
            "border": null,
            "align_items": null,
            "bottom": null,
            "_model_module": "@jupyter-widgets/base",
            "top": null,
            "grid_column": null,
            "overflow_y": null,
            "overflow_x": null,
            "grid_auto_flow": null,
            "grid_area": null,
            "grid_template_columns": null,
            "flex": null,
            "_model_name": "LayoutModel",
            "justify_items": null,
            "grid_row": null,
            "max_height": null,
            "align_content": null,
            "visibility": null,
            "align_self": null,
            "height": null,
            "min_height": null,
            "padding": null,
            "grid_auto_rows": null,
            "grid_gap": null,
            "max_width": null,
            "order": null,
            "_view_module_version": "1.2.0",
            "grid_template_areas": null,
            "object_position": null,
            "object_fit": null,
            "grid_auto_columns": null,
            "margin": null,
            "display": null,
            "left": null
          }
        },
        "de560ce089de4a799244f268955480de": {
          "model_module": "@jupyter-widgets/controls",
          "model_name": "DescriptionStyleModel",
          "state": {
            "_view_name": "StyleView",
            "_model_name": "DescriptionStyleModel",
            "description_width": "",
            "_view_module": "@jupyter-widgets/base",
            "_model_module_version": "1.5.0",
            "_view_count": null,
            "_view_module_version": "1.2.0",
            "_model_module": "@jupyter-widgets/controls"
          }
        },
        "3b77e3a9b51f4847b9fbf3ac744c9a5a": {
          "model_module": "@jupyter-widgets/base",
          "model_name": "LayoutModel",
          "state": {
            "_view_name": "LayoutView",
            "grid_template_rows": null,
            "right": null,
            "justify_content": null,
            "_view_module": "@jupyter-widgets/base",
            "overflow": null,
            "_model_module_version": "1.2.0",
            "_view_count": null,
            "flex_flow": null,
            "width": null,
            "min_width": null,
            "border": null,
            "align_items": null,
            "bottom": null,
            "_model_module": "@jupyter-widgets/base",
            "top": null,
            "grid_column": null,
            "overflow_y": null,
            "overflow_x": null,
            "grid_auto_flow": null,
            "grid_area": null,
            "grid_template_columns": null,
            "flex": null,
            "_model_name": "LayoutModel",
            "justify_items": null,
            "grid_row": null,
            "max_height": null,
            "align_content": null,
            "visibility": null,
            "align_self": null,
            "height": null,
            "min_height": null,
            "padding": null,
            "grid_auto_rows": null,
            "grid_gap": null,
            "max_width": null,
            "order": null,
            "_view_module_version": "1.2.0",
            "grid_template_areas": null,
            "object_position": null,
            "object_fit": null,
            "grid_auto_columns": null,
            "margin": null,
            "display": null,
            "left": null
          }
        },
        "c93a18c1b0854e22a377de622caac9df": {
          "model_module": "@jupyter-widgets/controls",
          "model_name": "HBoxModel",
          "state": {
            "_view_name": "HBoxView",
            "_dom_classes": [],
            "_model_name": "HBoxModel",
            "_view_module": "@jupyter-widgets/controls",
            "_model_module_version": "1.5.0",
            "_view_count": null,
            "_view_module_version": "1.5.0",
            "box_style": "",
            "layout": "IPY_MODEL_3f4675bc485a40698d0af39594c10ff7",
            "_model_module": "@jupyter-widgets/controls",
            "children": [
              "IPY_MODEL_90ffb9476de9473db8e49179f83dec44",
              "IPY_MODEL_e0f775244ed24175b90869c196e42f9b"
            ]
          }
        },
        "3f4675bc485a40698d0af39594c10ff7": {
          "model_module": "@jupyter-widgets/base",
          "model_name": "LayoutModel",
          "state": {
            "_view_name": "LayoutView",
            "grid_template_rows": null,
            "right": null,
            "justify_content": null,
            "_view_module": "@jupyter-widgets/base",
            "overflow": null,
            "_model_module_version": "1.2.0",
            "_view_count": null,
            "flex_flow": null,
            "width": null,
            "min_width": null,
            "border": null,
            "align_items": null,
            "bottom": null,
            "_model_module": "@jupyter-widgets/base",
            "top": null,
            "grid_column": null,
            "overflow_y": null,
            "overflow_x": null,
            "grid_auto_flow": null,
            "grid_area": null,
            "grid_template_columns": null,
            "flex": null,
            "_model_name": "LayoutModel",
            "justify_items": null,
            "grid_row": null,
            "max_height": null,
            "align_content": null,
            "visibility": null,
            "align_self": null,
            "height": null,
            "min_height": null,
            "padding": null,
            "grid_auto_rows": null,
            "grid_gap": null,
            "max_width": null,
            "order": null,
            "_view_module_version": "1.2.0",
            "grid_template_areas": null,
            "object_position": null,
            "object_fit": null,
            "grid_auto_columns": null,
            "margin": null,
            "display": null,
            "left": null
          }
        },
        "90ffb9476de9473db8e49179f83dec44": {
          "model_module": "@jupyter-widgets/controls",
          "model_name": "FloatProgressModel",
          "state": {
            "_view_name": "ProgressView",
            "style": "IPY_MODEL_22183fc06838440babbff3b443855f87",
            "_dom_classes": [],
            "description": "100%",
            "_model_name": "FloatProgressModel",
            "bar_style": "success",
            "max": 48,
            "_view_module": "@jupyter-widgets/controls",
            "_model_module_version": "1.5.0",
            "value": 48,
            "_view_count": null,
            "_view_module_version": "1.5.0",
            "orientation": "horizontal",
            "min": 0,
            "description_tooltip": null,
            "_model_module": "@jupyter-widgets/controls",
            "layout": "IPY_MODEL_bed4b30aeb8b4fd2888d597e1ff4810c"
          }
        },
        "e0f775244ed24175b90869c196e42f9b": {
          "model_module": "@jupyter-widgets/controls",
          "model_name": "HTMLModel",
          "state": {
            "_view_name": "HTMLView",
            "style": "IPY_MODEL_0dcb97f75d81464d817ba518633c3cee",
            "_dom_classes": [],
            "description": "",
            "_model_name": "HTMLModel",
            "placeholder": "​",
            "_view_module": "@jupyter-widgets/controls",
            "_model_module_version": "1.5.0",
            "value": " 48/48 [00:05&lt;00:00,  9.25it/s]",
            "_view_count": null,
            "_view_module_version": "1.5.0",
            "description_tooltip": null,
            "_model_module": "@jupyter-widgets/controls",
            "layout": "IPY_MODEL_3e675524a6db4d58a6547ce1b9fa11c8"
          }
        },
        "22183fc06838440babbff3b443855f87": {
          "model_module": "@jupyter-widgets/controls",
          "model_name": "ProgressStyleModel",
          "state": {
            "_view_name": "StyleView",
            "_model_name": "ProgressStyleModel",
            "description_width": "initial",
            "_view_module": "@jupyter-widgets/base",
            "_model_module_version": "1.5.0",
            "_view_count": null,
            "_view_module_version": "1.2.0",
            "bar_color": null,
            "_model_module": "@jupyter-widgets/controls"
          }
        },
        "bed4b30aeb8b4fd2888d597e1ff4810c": {
          "model_module": "@jupyter-widgets/base",
          "model_name": "LayoutModel",
          "state": {
            "_view_name": "LayoutView",
            "grid_template_rows": null,
            "right": null,
            "justify_content": null,
            "_view_module": "@jupyter-widgets/base",
            "overflow": null,
            "_model_module_version": "1.2.0",
            "_view_count": null,
            "flex_flow": null,
            "width": null,
            "min_width": null,
            "border": null,
            "align_items": null,
            "bottom": null,
            "_model_module": "@jupyter-widgets/base",
            "top": null,
            "grid_column": null,
            "overflow_y": null,
            "overflow_x": null,
            "grid_auto_flow": null,
            "grid_area": null,
            "grid_template_columns": null,
            "flex": null,
            "_model_name": "LayoutModel",
            "justify_items": null,
            "grid_row": null,
            "max_height": null,
            "align_content": null,
            "visibility": null,
            "align_self": null,
            "height": null,
            "min_height": null,
            "padding": null,
            "grid_auto_rows": null,
            "grid_gap": null,
            "max_width": null,
            "order": null,
            "_view_module_version": "1.2.0",
            "grid_template_areas": null,
            "object_position": null,
            "object_fit": null,
            "grid_auto_columns": null,
            "margin": null,
            "display": null,
            "left": null
          }
        },
        "0dcb97f75d81464d817ba518633c3cee": {
          "model_module": "@jupyter-widgets/controls",
          "model_name": "DescriptionStyleModel",
          "state": {
            "_view_name": "StyleView",
            "_model_name": "DescriptionStyleModel",
            "description_width": "",
            "_view_module": "@jupyter-widgets/base",
            "_model_module_version": "1.5.0",
            "_view_count": null,
            "_view_module_version": "1.2.0",
            "_model_module": "@jupyter-widgets/controls"
          }
        },
        "3e675524a6db4d58a6547ce1b9fa11c8": {
          "model_module": "@jupyter-widgets/base",
          "model_name": "LayoutModel",
          "state": {
            "_view_name": "LayoutView",
            "grid_template_rows": null,
            "right": null,
            "justify_content": null,
            "_view_module": "@jupyter-widgets/base",
            "overflow": null,
            "_model_module_version": "1.2.0",
            "_view_count": null,
            "flex_flow": null,
            "width": null,
            "min_width": null,
            "border": null,
            "align_items": null,
            "bottom": null,
            "_model_module": "@jupyter-widgets/base",
            "top": null,
            "grid_column": null,
            "overflow_y": null,
            "overflow_x": null,
            "grid_auto_flow": null,
            "grid_area": null,
            "grid_template_columns": null,
            "flex": null,
            "_model_name": "LayoutModel",
            "justify_items": null,
            "grid_row": null,
            "max_height": null,
            "align_content": null,
            "visibility": null,
            "align_self": null,
            "height": null,
            "min_height": null,
            "padding": null,
            "grid_auto_rows": null,
            "grid_gap": null,
            "max_width": null,
            "order": null,
            "_view_module_version": "1.2.0",
            "grid_template_areas": null,
            "object_position": null,
            "object_fit": null,
            "grid_auto_columns": null,
            "margin": null,
            "display": null,
            "left": null
          }
        },
        "9d5b05c086024048be0109588912bc21": {
          "model_module": "@jupyter-widgets/controls",
          "model_name": "HBoxModel",
          "state": {
            "_view_name": "HBoxView",
            "_dom_classes": [],
            "_model_name": "HBoxModel",
            "_view_module": "@jupyter-widgets/controls",
            "_model_module_version": "1.5.0",
            "_view_count": null,
            "_view_module_version": "1.5.0",
            "box_style": "",
            "layout": "IPY_MODEL_7cb9e44c31a94b8b927d652b1eed7de0",
            "_model_module": "@jupyter-widgets/controls",
            "children": [
              "IPY_MODEL_310bb8a09a0e4c67945fb5a39d0f305c",
              "IPY_MODEL_f12c08cd6aea444484d33769738c7569"
            ]
          }
        },
        "7cb9e44c31a94b8b927d652b1eed7de0": {
          "model_module": "@jupyter-widgets/base",
          "model_name": "LayoutModel",
          "state": {
            "_view_name": "LayoutView",
            "grid_template_rows": null,
            "right": null,
            "justify_content": null,
            "_view_module": "@jupyter-widgets/base",
            "overflow": null,
            "_model_module_version": "1.2.0",
            "_view_count": null,
            "flex_flow": null,
            "width": null,
            "min_width": null,
            "border": null,
            "align_items": null,
            "bottom": null,
            "_model_module": "@jupyter-widgets/base",
            "top": null,
            "grid_column": null,
            "overflow_y": null,
            "overflow_x": null,
            "grid_auto_flow": null,
            "grid_area": null,
            "grid_template_columns": null,
            "flex": null,
            "_model_name": "LayoutModel",
            "justify_items": null,
            "grid_row": null,
            "max_height": null,
            "align_content": null,
            "visibility": null,
            "align_self": null,
            "height": null,
            "min_height": null,
            "padding": null,
            "grid_auto_rows": null,
            "grid_gap": null,
            "max_width": null,
            "order": null,
            "_view_module_version": "1.2.0",
            "grid_template_areas": null,
            "object_position": null,
            "object_fit": null,
            "grid_auto_columns": null,
            "margin": null,
            "display": null,
            "left": null
          }
        },
        "310bb8a09a0e4c67945fb5a39d0f305c": {
          "model_module": "@jupyter-widgets/controls",
          "model_name": "FloatProgressModel",
          "state": {
            "_view_name": "ProgressView",
            "style": "IPY_MODEL_0af8ad7da18d4194a56c00ca2d935cde",
            "_dom_classes": [],
            "description": "FFT: 100%",
            "_model_name": "FloatProgressModel",
            "bar_style": "success",
            "max": 1008,
            "_view_module": "@jupyter-widgets/controls",
            "_model_module_version": "1.5.0",
            "value": 1008,
            "_view_count": null,
            "_view_module_version": "1.5.0",
            "orientation": "horizontal",
            "min": 0,
            "description_tooltip": null,
            "_model_module": "@jupyter-widgets/controls",
            "layout": "IPY_MODEL_70b6b79c5aec47658de182a7945493df"
          }
        },
        "f12c08cd6aea444484d33769738c7569": {
          "model_module": "@jupyter-widgets/controls",
          "model_name": "HTMLModel",
          "state": {
            "_view_name": "HTMLView",
            "style": "IPY_MODEL_6a90f0cd59564b02b006a9bf2a45dfc1",
            "_dom_classes": [],
            "description": "",
            "_model_name": "HTMLModel",
            "placeholder": "​",
            "_view_module": "@jupyter-widgets/controls",
            "_model_module_version": "1.5.0",
            "value": " 1008/1008 [00:10&lt;00:00, 97.46it/s]",
            "_view_count": null,
            "_view_module_version": "1.5.0",
            "description_tooltip": null,
            "_model_module": "@jupyter-widgets/controls",
            "layout": "IPY_MODEL_775bb53070704369bba3116fb41f8e1d"
          }
        },
        "0af8ad7da18d4194a56c00ca2d935cde": {
          "model_module": "@jupyter-widgets/controls",
          "model_name": "ProgressStyleModel",
          "state": {
            "_view_name": "StyleView",
            "_model_name": "ProgressStyleModel",
            "description_width": "initial",
            "_view_module": "@jupyter-widgets/base",
            "_model_module_version": "1.5.0",
            "_view_count": null,
            "_view_module_version": "1.2.0",
            "bar_color": null,
            "_model_module": "@jupyter-widgets/controls"
          }
        },
        "70b6b79c5aec47658de182a7945493df": {
          "model_module": "@jupyter-widgets/base",
          "model_name": "LayoutModel",
          "state": {
            "_view_name": "LayoutView",
            "grid_template_rows": null,
            "right": null,
            "justify_content": null,
            "_view_module": "@jupyter-widgets/base",
            "overflow": null,
            "_model_module_version": "1.2.0",
            "_view_count": null,
            "flex_flow": null,
            "width": null,
            "min_width": null,
            "border": null,
            "align_items": null,
            "bottom": null,
            "_model_module": "@jupyter-widgets/base",
            "top": null,
            "grid_column": null,
            "overflow_y": null,
            "overflow_x": null,
            "grid_auto_flow": null,
            "grid_area": null,
            "grid_template_columns": null,
            "flex": null,
            "_model_name": "LayoutModel",
            "justify_items": null,
            "grid_row": null,
            "max_height": null,
            "align_content": null,
            "visibility": null,
            "align_self": null,
            "height": null,
            "min_height": null,
            "padding": null,
            "grid_auto_rows": null,
            "grid_gap": null,
            "max_width": null,
            "order": null,
            "_view_module_version": "1.2.0",
            "grid_template_areas": null,
            "object_position": null,
            "object_fit": null,
            "grid_auto_columns": null,
            "margin": null,
            "display": null,
            "left": null
          }
        },
        "6a90f0cd59564b02b006a9bf2a45dfc1": {
          "model_module": "@jupyter-widgets/controls",
          "model_name": "DescriptionStyleModel",
          "state": {
            "_view_name": "StyleView",
            "_model_name": "DescriptionStyleModel",
            "description_width": "",
            "_view_module": "@jupyter-widgets/base",
            "_model_module_version": "1.5.0",
            "_view_count": null,
            "_view_module_version": "1.2.0",
            "_model_module": "@jupyter-widgets/controls"
          }
        },
        "775bb53070704369bba3116fb41f8e1d": {
          "model_module": "@jupyter-widgets/base",
          "model_name": "LayoutModel",
          "state": {
            "_view_name": "LayoutView",
            "grid_template_rows": null,
            "right": null,
            "justify_content": null,
            "_view_module": "@jupyter-widgets/base",
            "overflow": null,
            "_model_module_version": "1.2.0",
            "_view_count": null,
            "flex_flow": null,
            "width": null,
            "min_width": null,
            "border": null,
            "align_items": null,
            "bottom": null,
            "_model_module": "@jupyter-widgets/base",
            "top": null,
            "grid_column": null,
            "overflow_y": null,
            "overflow_x": null,
            "grid_auto_flow": null,
            "grid_area": null,
            "grid_template_columns": null,
            "flex": null,
            "_model_name": "LayoutModel",
            "justify_items": null,
            "grid_row": null,
            "max_height": null,
            "align_content": null,
            "visibility": null,
            "align_self": null,
            "height": null,
            "min_height": null,
            "padding": null,
            "grid_auto_rows": null,
            "grid_gap": null,
            "max_width": null,
            "order": null,
            "_view_module_version": "1.2.0",
            "grid_template_areas": null,
            "object_position": null,
            "object_fit": null,
            "grid_auto_columns": null,
            "margin": null,
            "display": null,
            "left": null
          }
        },
        "96a63538aafd47cc894956d125c4d784": {
          "model_module": "@jupyter-widgets/controls",
          "model_name": "HBoxModel",
          "state": {
            "_view_name": "HBoxView",
            "_dom_classes": [],
            "_model_name": "HBoxModel",
            "_view_module": "@jupyter-widgets/controls",
            "_model_module_version": "1.5.0",
            "_view_count": null,
            "_view_module_version": "1.5.0",
            "box_style": "",
            "layout": "IPY_MODEL_05c72ece057244af822770b75496af40",
            "_model_module": "@jupyter-widgets/controls",
            "children": [
              "IPY_MODEL_46715a85b94a48b1b684dea629cd921f",
              "IPY_MODEL_485eea0d430740b28e81112868aec15f"
            ]
          }
        },
        "05c72ece057244af822770b75496af40": {
          "model_module": "@jupyter-widgets/base",
          "model_name": "LayoutModel",
          "state": {
            "_view_name": "LayoutView",
            "grid_template_rows": null,
            "right": null,
            "justify_content": null,
            "_view_module": "@jupyter-widgets/base",
            "overflow": null,
            "_model_module_version": "1.2.0",
            "_view_count": null,
            "flex_flow": null,
            "width": null,
            "min_width": null,
            "border": null,
            "align_items": null,
            "bottom": null,
            "_model_module": "@jupyter-widgets/base",
            "top": null,
            "grid_column": null,
            "overflow_y": null,
            "overflow_x": null,
            "grid_auto_flow": null,
            "grid_area": null,
            "grid_template_columns": null,
            "flex": null,
            "_model_name": "LayoutModel",
            "justify_items": null,
            "grid_row": null,
            "max_height": null,
            "align_content": null,
            "visibility": null,
            "align_self": null,
            "height": null,
            "min_height": null,
            "padding": null,
            "grid_auto_rows": null,
            "grid_gap": null,
            "max_width": null,
            "order": null,
            "_view_module_version": "1.2.0",
            "grid_template_areas": null,
            "object_position": null,
            "object_fit": null,
            "grid_auto_columns": null,
            "margin": null,
            "display": null,
            "left": null
          }
        },
        "46715a85b94a48b1b684dea629cd921f": {
          "model_module": "@jupyter-widgets/controls",
          "model_name": "FloatProgressModel",
          "state": {
            "_view_name": "ProgressView",
            "style": "IPY_MODEL_67f70a7fca454e899455125c27daa4e0",
            "_dom_classes": [],
            "description": "FFT: 100%",
            "_model_name": "FloatProgressModel",
            "bar_style": "success",
            "max": 1008,
            "_view_module": "@jupyter-widgets/controls",
            "_model_module_version": "1.5.0",
            "value": 1008,
            "_view_count": null,
            "_view_module_version": "1.5.0",
            "orientation": "horizontal",
            "min": 0,
            "description_tooltip": null,
            "_model_module": "@jupyter-widgets/controls",
            "layout": "IPY_MODEL_045bcc46bbff4044bda99c68993ce2a4"
          }
        },
        "485eea0d430740b28e81112868aec15f": {
          "model_module": "@jupyter-widgets/controls",
          "model_name": "HTMLModel",
          "state": {
            "_view_name": "HTMLView",
            "style": "IPY_MODEL_811e48c0412b4cf8bea1fab60afdd8cc",
            "_dom_classes": [],
            "description": "",
            "_model_name": "HTMLModel",
            "placeholder": "​",
            "_view_module": "@jupyter-widgets/controls",
            "_model_module_version": "1.5.0",
            "value": " 1008/1008 [00:08&lt;00:00, 117.39it/s]",
            "_view_count": null,
            "_view_module_version": "1.5.0",
            "description_tooltip": null,
            "_model_module": "@jupyter-widgets/controls",
            "layout": "IPY_MODEL_7e424104088c41ad8645b929e40d427b"
          }
        },
        "67f70a7fca454e899455125c27daa4e0": {
          "model_module": "@jupyter-widgets/controls",
          "model_name": "ProgressStyleModel",
          "state": {
            "_view_name": "StyleView",
            "_model_name": "ProgressStyleModel",
            "description_width": "initial",
            "_view_module": "@jupyter-widgets/base",
            "_model_module_version": "1.5.0",
            "_view_count": null,
            "_view_module_version": "1.2.0",
            "bar_color": null,
            "_model_module": "@jupyter-widgets/controls"
          }
        },
        "045bcc46bbff4044bda99c68993ce2a4": {
          "model_module": "@jupyter-widgets/base",
          "model_name": "LayoutModel",
          "state": {
            "_view_name": "LayoutView",
            "grid_template_rows": null,
            "right": null,
            "justify_content": null,
            "_view_module": "@jupyter-widgets/base",
            "overflow": null,
            "_model_module_version": "1.2.0",
            "_view_count": null,
            "flex_flow": null,
            "width": null,
            "min_width": null,
            "border": null,
            "align_items": null,
            "bottom": null,
            "_model_module": "@jupyter-widgets/base",
            "top": null,
            "grid_column": null,
            "overflow_y": null,
            "overflow_x": null,
            "grid_auto_flow": null,
            "grid_area": null,
            "grid_template_columns": null,
            "flex": null,
            "_model_name": "LayoutModel",
            "justify_items": null,
            "grid_row": null,
            "max_height": null,
            "align_content": null,
            "visibility": null,
            "align_self": null,
            "height": null,
            "min_height": null,
            "padding": null,
            "grid_auto_rows": null,
            "grid_gap": null,
            "max_width": null,
            "order": null,
            "_view_module_version": "1.2.0",
            "grid_template_areas": null,
            "object_position": null,
            "object_fit": null,
            "grid_auto_columns": null,
            "margin": null,
            "display": null,
            "left": null
          }
        },
        "811e48c0412b4cf8bea1fab60afdd8cc": {
          "model_module": "@jupyter-widgets/controls",
          "model_name": "DescriptionStyleModel",
          "state": {
            "_view_name": "StyleView",
            "_model_name": "DescriptionStyleModel",
            "description_width": "",
            "_view_module": "@jupyter-widgets/base",
            "_model_module_version": "1.5.0",
            "_view_count": null,
            "_view_module_version": "1.2.0",
            "_model_module": "@jupyter-widgets/controls"
          }
        },
        "7e424104088c41ad8645b929e40d427b": {
          "model_module": "@jupyter-widgets/base",
          "model_name": "LayoutModel",
          "state": {
            "_view_name": "LayoutView",
            "grid_template_rows": null,
            "right": null,
            "justify_content": null,
            "_view_module": "@jupyter-widgets/base",
            "overflow": null,
            "_model_module_version": "1.2.0",
            "_view_count": null,
            "flex_flow": null,
            "width": null,
            "min_width": null,
            "border": null,
            "align_items": null,
            "bottom": null,
            "_model_module": "@jupyter-widgets/base",
            "top": null,
            "grid_column": null,
            "overflow_y": null,
            "overflow_x": null,
            "grid_auto_flow": null,
            "grid_area": null,
            "grid_template_columns": null,
            "flex": null,
            "_model_name": "LayoutModel",
            "justify_items": null,
            "grid_row": null,
            "max_height": null,
            "align_content": null,
            "visibility": null,
            "align_self": null,
            "height": null,
            "min_height": null,
            "padding": null,
            "grid_auto_rows": null,
            "grid_gap": null,
            "max_width": null,
            "order": null,
            "_view_module_version": "1.2.0",
            "grid_template_areas": null,
            "object_position": null,
            "object_fit": null,
            "grid_auto_columns": null,
            "margin": null,
            "display": null,
            "left": null
          }
        },
        "bcb9944d55d543b2bee82ce5e8afcd87": {
          "model_module": "@jupyter-widgets/controls",
          "model_name": "HBoxModel",
          "state": {
            "_view_name": "HBoxView",
            "_dom_classes": [],
            "_model_name": "HBoxModel",
            "_view_module": "@jupyter-widgets/controls",
            "_model_module_version": "1.5.0",
            "_view_count": null,
            "_view_module_version": "1.5.0",
            "box_style": "",
            "layout": "IPY_MODEL_c3bbfd13499c442a86bb08687e1a952d",
            "_model_module": "@jupyter-widgets/controls",
            "children": [
              "IPY_MODEL_65859b1b481441e884517a4ef723b28c",
              "IPY_MODEL_9b579d45103d4c72a2eef73f672d3f9c"
            ]
          }
        },
        "c3bbfd13499c442a86bb08687e1a952d": {
          "model_module": "@jupyter-widgets/base",
          "model_name": "LayoutModel",
          "state": {
            "_view_name": "LayoutView",
            "grid_template_rows": null,
            "right": null,
            "justify_content": null,
            "_view_module": "@jupyter-widgets/base",
            "overflow": null,
            "_model_module_version": "1.2.0",
            "_view_count": null,
            "flex_flow": null,
            "width": null,
            "min_width": null,
            "border": null,
            "align_items": null,
            "bottom": null,
            "_model_module": "@jupyter-widgets/base",
            "top": null,
            "grid_column": null,
            "overflow_y": null,
            "overflow_x": null,
            "grid_auto_flow": null,
            "grid_area": null,
            "grid_template_columns": null,
            "flex": null,
            "_model_name": "LayoutModel",
            "justify_items": null,
            "grid_row": null,
            "max_height": null,
            "align_content": null,
            "visibility": null,
            "align_self": null,
            "height": null,
            "min_height": null,
            "padding": null,
            "grid_auto_rows": null,
            "grid_gap": null,
            "max_width": null,
            "order": null,
            "_view_module_version": "1.2.0",
            "grid_template_areas": null,
            "object_position": null,
            "object_fit": null,
            "grid_auto_columns": null,
            "margin": null,
            "display": null,
            "left": null
          }
        },
        "65859b1b481441e884517a4ef723b28c": {
          "model_module": "@jupyter-widgets/controls",
          "model_name": "FloatProgressModel",
          "state": {
            "_view_name": "ProgressView",
            "style": "IPY_MODEL_4456fee712864f0e8b399fb00a1c002b",
            "_dom_classes": [],
            "description": "FFT: 100%",
            "_model_name": "FloatProgressModel",
            "bar_style": "success",
            "max": 1008,
            "_view_module": "@jupyter-widgets/controls",
            "_model_module_version": "1.5.0",
            "value": 1008,
            "_view_count": null,
            "_view_module_version": "1.5.0",
            "orientation": "horizontal",
            "min": 0,
            "description_tooltip": null,
            "_model_module": "@jupyter-widgets/controls",
            "layout": "IPY_MODEL_947d6f5e79344fe4a8a553079cf8a6df"
          }
        },
        "9b579d45103d4c72a2eef73f672d3f9c": {
          "model_module": "@jupyter-widgets/controls",
          "model_name": "HTMLModel",
          "state": {
            "_view_name": "HTMLView",
            "style": "IPY_MODEL_b34996ff17ec4790ae885dfc4b4b5166",
            "_dom_classes": [],
            "description": "",
            "_model_name": "HTMLModel",
            "placeholder": "​",
            "_view_module": "@jupyter-widgets/controls",
            "_model_module_version": "1.5.0",
            "value": " 1008/1008 [00:13&lt;00:00, 74.92it/s]",
            "_view_count": null,
            "_view_module_version": "1.5.0",
            "description_tooltip": null,
            "_model_module": "@jupyter-widgets/controls",
            "layout": "IPY_MODEL_e67b7404a6074b5c97e07f4e32eb7725"
          }
        },
        "4456fee712864f0e8b399fb00a1c002b": {
          "model_module": "@jupyter-widgets/controls",
          "model_name": "ProgressStyleModel",
          "state": {
            "_view_name": "StyleView",
            "_model_name": "ProgressStyleModel",
            "description_width": "initial",
            "_view_module": "@jupyter-widgets/base",
            "_model_module_version": "1.5.0",
            "_view_count": null,
            "_view_module_version": "1.2.0",
            "bar_color": null,
            "_model_module": "@jupyter-widgets/controls"
          }
        },
        "947d6f5e79344fe4a8a553079cf8a6df": {
          "model_module": "@jupyter-widgets/base",
          "model_name": "LayoutModel",
          "state": {
            "_view_name": "LayoutView",
            "grid_template_rows": null,
            "right": null,
            "justify_content": null,
            "_view_module": "@jupyter-widgets/base",
            "overflow": null,
            "_model_module_version": "1.2.0",
            "_view_count": null,
            "flex_flow": null,
            "width": null,
            "min_width": null,
            "border": null,
            "align_items": null,
            "bottom": null,
            "_model_module": "@jupyter-widgets/base",
            "top": null,
            "grid_column": null,
            "overflow_y": null,
            "overflow_x": null,
            "grid_auto_flow": null,
            "grid_area": null,
            "grid_template_columns": null,
            "flex": null,
            "_model_name": "LayoutModel",
            "justify_items": null,
            "grid_row": null,
            "max_height": null,
            "align_content": null,
            "visibility": null,
            "align_self": null,
            "height": null,
            "min_height": null,
            "padding": null,
            "grid_auto_rows": null,
            "grid_gap": null,
            "max_width": null,
            "order": null,
            "_view_module_version": "1.2.0",
            "grid_template_areas": null,
            "object_position": null,
            "object_fit": null,
            "grid_auto_columns": null,
            "margin": null,
            "display": null,
            "left": null
          }
        },
        "b34996ff17ec4790ae885dfc4b4b5166": {
          "model_module": "@jupyter-widgets/controls",
          "model_name": "DescriptionStyleModel",
          "state": {
            "_view_name": "StyleView",
            "_model_name": "DescriptionStyleModel",
            "description_width": "",
            "_view_module": "@jupyter-widgets/base",
            "_model_module_version": "1.5.0",
            "_view_count": null,
            "_view_module_version": "1.2.0",
            "_model_module": "@jupyter-widgets/controls"
          }
        },
        "e67b7404a6074b5c97e07f4e32eb7725": {
          "model_module": "@jupyter-widgets/base",
          "model_name": "LayoutModel",
          "state": {
            "_view_name": "LayoutView",
            "grid_template_rows": null,
            "right": null,
            "justify_content": null,
            "_view_module": "@jupyter-widgets/base",
            "overflow": null,
            "_model_module_version": "1.2.0",
            "_view_count": null,
            "flex_flow": null,
            "width": null,
            "min_width": null,
            "border": null,
            "align_items": null,
            "bottom": null,
            "_model_module": "@jupyter-widgets/base",
            "top": null,
            "grid_column": null,
            "overflow_y": null,
            "overflow_x": null,
            "grid_auto_flow": null,
            "grid_area": null,
            "grid_template_columns": null,
            "flex": null,
            "_model_name": "LayoutModel",
            "justify_items": null,
            "grid_row": null,
            "max_height": null,
            "align_content": null,
            "visibility": null,
            "align_self": null,
            "height": null,
            "min_height": null,
            "padding": null,
            "grid_auto_rows": null,
            "grid_gap": null,
            "max_width": null,
            "order": null,
            "_view_module_version": "1.2.0",
            "grid_template_areas": null,
            "object_position": null,
            "object_fit": null,
            "grid_auto_columns": null,
            "margin": null,
            "display": null,
            "left": null
          }
        }
      }
    }
  },
  "cells": [
    {
      "cell_type": "code",
      "execution_count": 1,
      "source": [
        "!pip3 install pyfftw\r\n",
        "!pip install mrcfile\r\n",
        "!pip install line-profiler\r\n"
      ],
      "outputs": [
        {
          "output_type": "stream",
          "name": "stdout",
          "text": [
            "Requirement already satisfied: pyfftw in d:\\ana\\lib\\site-packages (0.12.0)\n",
            "Requirement already satisfied: numpy<2.0,>=1.10 in d:\\ana\\lib\\site-packages (from pyfftw) (1.21.0)\n",
            "Requirement already satisfied: mrcfile in d:\\ana\\lib\\site-packages (1.3.0)\n",
            "Requirement already satisfied: numpy>=1.12.0 in d:\\ana\\lib\\site-packages (from mrcfile) (1.21.0)\n",
            "Requirement already satisfied: line-profiler in d:\\ana\\lib\\site-packages (3.3.0)\n",
            "Requirement already satisfied: IPython>=0.13 in d:\\ana\\lib\\site-packages (from line-profiler) (7.22.0)\n",
            "Requirement already satisfied: decorator in d:\\ana\\lib\\site-packages (from IPython>=0.13->line-profiler) (5.0.9)\n",
            "Requirement already satisfied: pickleshare in d:\\ana\\lib\\site-packages (from IPython>=0.13->line-profiler) (0.7.5)\n",
            "Requirement already satisfied: prompt-toolkit!=3.0.0,!=3.0.1,<3.1.0,>=2.0.0 in d:\\ana\\lib\\site-packages (from IPython>=0.13->line-profiler) (3.0.17)\n",
            "Requirement already satisfied: setuptools>=18.5 in d:\\ana\\lib\\site-packages (from IPython>=0.13->line-profiler) (52.0.0.post20210125)\n",
            "Requirement already satisfied: backcall in d:\\ana\\lib\\site-packages (from IPython>=0.13->line-profiler) (0.2.0)\n",
            "Requirement already satisfied: traitlets>=4.2 in d:\\ana\\lib\\site-packages (from IPython>=0.13->line-profiler) (5.0.5)\n",
            "Requirement already satisfied: jedi>=0.16 in d:\\ana\\lib\\site-packages (from IPython>=0.13->line-profiler) (0.17.0)\n",
            "Requirement already satisfied: pygments in d:\\ana\\lib\\site-packages (from IPython>=0.13->line-profiler) (2.9.0)\n",
            "Requirement already satisfied: colorama in d:\\ana\\lib\\site-packages (from IPython>=0.13->line-profiler) (0.4.4)\n",
            "Requirement already satisfied: parso>=0.7.0 in d:\\ana\\lib\\site-packages (from jedi>=0.16->IPython>=0.13->line-profiler) (0.8.2)\n",
            "Requirement already satisfied: wcwidth in d:\\ana\\lib\\site-packages (from prompt-toolkit!=3.0.0,!=3.0.1,<3.1.0,>=2.0.0->IPython>=0.13->line-profiler) (0.2.5)\n",
            "Requirement already satisfied: ipython-genutils in d:\\ana\\lib\\site-packages (from traitlets>=4.2->IPython>=0.13->line-profiler) (0.2.0)\n"
          ]
        }
      ],
      "metadata": {
        "id": "gdkyWqd2jg1e",
        "outputId": "d678801c-3b5f-4481-8484-ae5c942931fc",
        "colab": {
          "base_uri": "https://localhost:8080/"
        }
      }
    },
    {
      "cell_type": "code",
      "execution_count": 3,
      "source": [
        "from google.colab import drive\r\n",
        "drive.mount('/content/drive')"
      ],
      "outputs": [
        {
          "output_type": "stream",
          "name": "stdout",
          "text": [
            "Drive already mounted at /content/drive; to attempt to forcibly remount, call drive.mount(\"/content/drive\", force_remount=True).\n"
          ]
        }
      ],
      "metadata": {
        "id": "Q7LYWlAyjjg2",
        "outputId": "8810bda8-ca15-4127-fa7a-71519aa83a6f",
        "colab": {
          "base_uri": "https://localhost:8080/"
        }
      }
    },
    {
      "cell_type": "code",
      "execution_count": 2,
      "source": [
        "import concurrent.futures\r\n",
        "import copy\r\n",
        "import math\r\n",
        "import multiprocessing\r\n",
        "import os\r\n",
        "\r\n",
        "import mrcfile\r\n",
        "import numba\r\n",
        "import numpy as np\r\n",
        "import pyfftw\r\n",
        "import scipy.fft\r\n",
        "from numba.typed import List\r\n",
        "from scipy.spatial.transform import Rotation as R\r\n",
        "from tqdm.notebook import tqdm\r\n",
        "\r\n",
        "# from Bio.PDB import *\r\n",
        "# import numba as nb"
      ],
      "outputs": [],
      "metadata": {
        "id": "Iln4VvY3jH04"
      }
    },
    {
      "cell_type": "code",
      "execution_count": 1,
      "source": [
        "import cupy as cp"
      ],
      "outputs": [],
      "metadata": {}
    },
    {
      "cell_type": "code",
      "execution_count": 3,
      "source": [
        "pyfftw.config.PLANNER_EFFORT = \"FFTW_MEASURE\"\r\n",
        "pyfftw.config.NUM_THREADS = multiprocessing.cpu_count()"
      ],
      "outputs": [],
      "metadata": {
        "id": "vFErBDCQjH07"
      }
    },
    {
      "cell_type": "code",
      "execution_count": 4,
      "source": [
        "class mrc_obj:\r\n",
        "    def __init__(self, path):\r\n",
        "        mrc = mrcfile.open(path)\r\n",
        "        data = mrc.data\r\n",
        "        header = mrc.header\r\n",
        "        self.xdim = int(header.nx)\r\n",
        "        self.ydim = int(header.ny)\r\n",
        "        self.zdim = int(header.nz)\r\n",
        "        self.xwidth = mrc.voxel_size.x\r\n",
        "        self.ywidth = mrc.voxel_size.y\r\n",
        "        self.zwidth = mrc.voxel_size.z\r\n",
        "        self.cent = [\r\n",
        "            self.xdim * 0.5,\r\n",
        "            self.ydim * 0.5,\r\n",
        "            self.zdim * 0.5,\r\n",
        "        ]\r\n",
        "        self.orig = {\"x\": header.origin.x, \"y\": header.origin.y, \"z\": header.origin.z}\r\n",
        "        self.data = np.swapaxes(copy.deepcopy(data), 0, 2)\r\n",
        "        self.dens = data.flatten()\r\n",
        "        self.vec = np.zeros((self.xdim, self.ydim, self.zdim, 3), dtype=\"float32\")\r\n",
        "        self.dsum = None\r\n",
        "        self.Nact = None\r\n",
        "        self.ave = None\r\n",
        "        self.std_norm_ave = None\r\n",
        "        self.std = None"
      ],
      "outputs": [],
      "metadata": {
        "id": "utG5Smm3jH08"
      }
    },
    {
      "cell_type": "code",
      "execution_count": 5,
      "source": [
        "def mrc_set_vox_size(mrc, th=0.01, voxel_size=7.0):\r\n",
        "\r\n",
        "    # set shape and size\r\n",
        "    size = mrc.xdim * mrc.ydim * mrc.zdim\r\n",
        "    shape = (mrc.xdim, mrc.ydim, mrc.zdim)\r\n",
        "\r\n",
        "    # if th < 0 add th to all value\r\n",
        "    if th < 0:\r\n",
        "        mrc.dens = mrc.dens - th\r\n",
        "        th = 0.0\r\n",
        "\r\n",
        "    # Trim all the values less than threshold\r\n",
        "    mrc.dens[mrc.dens < th] = 0.0\r\n",
        "    mrc.data[mrc.data < th] = 0.0\r\n",
        "\r\n",
        "    # calculate dmax distance for non-zero entries\r\n",
        "    non_zero_index_list = np.array(np.nonzero(mrc.data)).T\r\n",
        "    #non_zero_index_list[:, [2, 0]] = non_zero_index_list[:, [0, 2]]\r\n",
        "    cent_arr = np.array(mrc.cent)\r\n",
        "    d2_list = np.linalg.norm(non_zero_index_list - cent_arr, axis=1)\r\n",
        "    dmax = max(d2_list)\r\n",
        "\r\n",
        "    # dmax = math.sqrt(mrc.cent[0] ** 2 + mrc.cent[1] ** 2 + mrc.cent[2] ** 2)\r\n",
        "\r\n",
        "    print(\"#dmax=\" + str(dmax / mrc.xwidth))\r\n",
        "    dmax = dmax * mrc.xwidth\r\n",
        "\r\n",
        "    # set new center\r\n",
        "    new_cent = [\r\n",
        "        mrc.cent[0] * mrc.xwidth + mrc.orig[\"x\"],\r\n",
        "        mrc.cent[1] * mrc.xwidth + mrc.orig[\"y\"],\r\n",
        "        mrc.cent[2] * mrc.xwidth + mrc.orig[\"z\"],\r\n",
        "    ]\r\n",
        "\r\n",
        "    tmp_size = 2 * dmax / voxel_size\r\n",
        "\r\n",
        "    # find the minimum size of the map\r\n",
        "    b = y = 2 ** math.ceil(math.log2(tmp_size))\r\n",
        "    while 1:\r\n",
        "        while y < tmp_size:\r\n",
        "            y = y * 3\r\n",
        "            continue\r\n",
        "        if y < b:\r\n",
        "            b = y\r\n",
        "        if y % 2 != 0:\r\n",
        "            break\r\n",
        "        y = y / 2\r\n",
        "\r\n",
        "    new_xdim = int(b)\r\n",
        "\r\n",
        "    # set new origins\r\n",
        "    new_orig = {\r\n",
        "        \"x\": new_cent[0] - 0.5 * new_xdim * voxel_size,\r\n",
        "        \"y\": new_cent[1] - 0.5 * new_xdim * voxel_size,\r\n",
        "        \"z\": new_cent[2] - 0.5 * new_xdim * voxel_size,\r\n",
        "    }\r\n",
        "\r\n",
        "    # create new mrc object\r\n",
        "    mrc_set = copy.deepcopy(mrc)\r\n",
        "    mrc_set.orig = new_orig\r\n",
        "    mrc_set.xdim = mrc_set.ydim = mrc_set.zdim = new_xdim\r\n",
        "    mrc_set.cent = new_cent\r\n",
        "    mrc_set.xwidth = mrc_set.ywidth = mrc_set.zwidth = voxel_size\r\n",
        "    mrc_set.dens = np.zeros((mrc_set.xdim ** 3, 1))\r\n",
        "    mrc_set.vec = np.zeros((new_xdim, new_xdim, new_xdim, 3), dtype=\"float32\")\r\n",
        "    mrc_set.data = np.zeros((new_xdim, new_xdim, new_xdim))\r\n",
        "\r\n",
        "    print(\r\n",
        "        \"Nvox= \"\r\n",
        "        + str(mrc_set.xdim)\r\n",
        "        + \", \"\r\n",
        "        + str(mrc_set.ydim)\r\n",
        "        + \", \"\r\n",
        "        + str(mrc_set.zdim)\r\n",
        "    )\r\n",
        "    print(\r\n",
        "        \"cent= \" + str(new_cent[0]) + \", \" + str(new_cent[1]) + \", \" + str(new_cent[2])\r\n",
        "    )\r\n",
        "    print(\r\n",
        "        \"ori= \"\r\n",
        "        + str(new_orig[\"x\"])\r\n",
        "        + \", \"\r\n",
        "        + str(new_orig[\"y\"])\r\n",
        "        + \", \"\r\n",
        "        + str(new_orig[\"z\"])\r\n",
        "    )\r\n",
        "\r\n",
        "    return mrc, mrc_set"
      ],
      "outputs": [],
      "metadata": {
        "tags": [],
        "id": "QYV-AOE6jH09"
      }
    },
    {
      "cell_type": "code",
      "execution_count": 6,
      "source": [
        "@numba.jit(nopython=True)\r\n",
        "def calc(stp, endp, pos, mrc1_data, fsiv):\r\n",
        "    dtotal = 0\r\n",
        "    pos2 = [0.0] * 3\r\n",
        "\r\n",
        "    for xp in range(stp[0], endp[0]):\r\n",
        "        rx = float(xp) - pos[0]\r\n",
        "        rx = rx ** 2\r\n",
        "        for yp in range(stp[1], endp[1]):\r\n",
        "            ry = float(yp) - pos[1]\r\n",
        "            ry = ry ** 2\r\n",
        "            for zp in range(stp[2], endp[2]):\r\n",
        "                rz = float(zp) - pos[2]\r\n",
        "                rz = rz ** 2\r\n",
        "                d2 = rx + ry + rz\r\n",
        "                v = mrc1_data[xp][yp][zp] * math.exp(-1.5 * d2 * fsiv)\r\n",
        "                dtotal += v\r\n",
        "                pos2[0] += v * float(xp)\r\n",
        "                pos2[1] += v * float(yp)\r\n",
        "                pos2[2] += v * float(zp)\r\n",
        "    return dtotal, pos2"
      ],
      "outputs": [],
      "metadata": {
        "tags": [],
        "id": "kHDauODCjH0_"
      }
    },
    {
      "cell_type": "code",
      "execution_count": 7,
      "source": [
        "def fastVEC(mrc1, mrc2, dreso=16.0):\r\n",
        "\r\n",
        "    xydim = mrc1.xdim * mrc1.ydim\r\n",
        "    Ndata = mrc2.xdim * mrc2.ydim * mrc2.zdim\r\n",
        "\r\n",
        "    print(len(mrc2.dens))\r\n",
        "\r\n",
        "    print(\"#Start VEC\")\r\n",
        "    gstep = mrc1.xwidth\r\n",
        "    fs = (dreso / gstep) * 0.5\r\n",
        "    fs = fs ** 2\r\n",
        "    fsiv = 1.0 / fs\r\n",
        "    fmaxd = (dreso / gstep) * 2.0\r\n",
        "    print(\"#maxd= {fmaxd}\".format(fmaxd=fmaxd))\r\n",
        "    print(\"#fsiv= \" + str(fsiv))\r\n",
        "\r\n",
        "    dsum = 0.0\r\n",
        "    Nact = 0\r\n",
        "\r\n",
        "    list_d = []\r\n",
        "\r\n",
        "    for x in tqdm(range(mrc2.xdim)):\r\n",
        "        for y in range(mrc2.ydim):\r\n",
        "            for z in range(mrc2.zdim):\r\n",
        "                stp = [0] * 3\r\n",
        "                endp = [0] * 3\r\n",
        "                ind2 = 0\r\n",
        "                ind = 0\r\n",
        "\r\n",
        "                pos = [0.0] * 3\r\n",
        "                pos2 = [0.0] * 3\r\n",
        "                ori = [0.0] * 3\r\n",
        "\r\n",
        "                tmpcd = [0.0] * 3\r\n",
        "\r\n",
        "                v, dtotal, rd = 0.0, 0.0, 0.0\r\n",
        "\r\n",
        "                pos[0] = (\r\n",
        "                    x * mrc2.xwidth + mrc2.orig[\"x\"] - mrc1.orig[\"x\"]\r\n",
        "                ) / mrc1.xwidth\r\n",
        "                pos[1] = (\r\n",
        "                    y * mrc2.xwidth + mrc2.orig[\"y\"] - mrc1.orig[\"y\"]\r\n",
        "                ) / mrc1.xwidth\r\n",
        "                pos[2] = (\r\n",
        "                    z * mrc2.xwidth + mrc2.orig[\"z\"] - mrc1.orig[\"z\"]\r\n",
        "                ) / mrc1.xwidth\r\n",
        "\r\n",
        "                ind = mrc2.xdim * mrc2.ydim * z + mrc2.xdim * y + x\r\n",
        "\r\n",
        "                # check density\r\n",
        "\r\n",
        "                if (\r\n",
        "                    pos[0] < 0\r\n",
        "                    or pos[1] < 0\r\n",
        "                    or pos[2] < 0\r\n",
        "                    or pos[0] >= mrc1.xdim\r\n",
        "                    or pos[1] >= mrc1.ydim\r\n",
        "                    or pos[2] >= mrc1.zdim\r\n",
        "                ):\r\n",
        "                    mrc2.dens[ind] = 0.0\r\n",
        "                    mrc2.vec[x][y][z][0] = 0.0\r\n",
        "                    mrc2.vec[x][y][z][1] = 0.0\r\n",
        "                    mrc2.vec[x][y][z][2] = 0.0\r\n",
        "                    continue\r\n",
        "\r\n",
        "                if mrc1.data[int(pos[0])][int(pos[1])][int(pos[2])] == 0:\r\n",
        "                    mrc2.dens[ind] = 0.0\r\n",
        "                    mrc2.vec[x][y][z][0] = 0.0\r\n",
        "                    mrc2.vec[x][y][z][1] = 0.0\r\n",
        "                    mrc2.vec[x][y][z][2] = 0.0\r\n",
        "                    continue\r\n",
        "\r\n",
        "                ori[0] = pos[0]\r\n",
        "                ori[1] = pos[1]\r\n",
        "                ori[2] = pos[2]\r\n",
        "\r\n",
        "                # Start Point\r\n",
        "                stp[0] = int(pos[0] - fmaxd)\r\n",
        "                stp[1] = int(pos[1] - fmaxd)\r\n",
        "                stp[2] = int(pos[2] - fmaxd)\r\n",
        "\r\n",
        "                # set start and end point\r\n",
        "                if stp[0] < 0:\r\n",
        "                    stp[0] = 0\r\n",
        "                if stp[1] < 0:\r\n",
        "                    stp[1] = 0\r\n",
        "                if stp[2] < 0:\r\n",
        "                    stp[2] = 0\r\n",
        "\r\n",
        "                endp[0] = int(pos[0] + fmaxd + 1)\r\n",
        "                endp[1] = int(pos[1] + fmaxd + 1)\r\n",
        "                endp[2] = int(pos[2] + fmaxd + 1)\r\n",
        "\r\n",
        "                if endp[0] >= mrc1.xdim:\r\n",
        "                    endp[0] = mrc1.xdim\r\n",
        "                if endp[1] >= mrc1.ydim:\r\n",
        "                    endp[1] = mrc1.ydim\r\n",
        "                if endp[2] >= mrc1.zdim:\r\n",
        "                    endp[2] = mrc1.zdim\r\n",
        "\r\n",
        "                # setup for numba acc\r\n",
        "                stp_t = List()\r\n",
        "                endp_t = List()\r\n",
        "                pos_t = List()\r\n",
        "                [stp_t.append(x) for x in stp]\r\n",
        "                [endp_t.append(x) for x in endp]\r\n",
        "                [pos_t.append(x) for x in pos]\r\n",
        "\r\n",
        "                # compute the total density\r\n",
        "                dtotal, pos2 = calc(stp_t, endp_t, pos_t, mrc1.data, fsiv)\r\n",
        "\r\n",
        "                mrc2.dens[ind] = dtotal\r\n",
        "                mrc2.data[x][y][z] = dtotal\r\n",
        "\r\n",
        "                if dtotal == 0:\r\n",
        "                    mrc2.vec[x][y][z][0] = 0.0\r\n",
        "                    mrc2.vec[x][y][z][1] = 0.0\r\n",
        "                    mrc2.vec[x][y][z][2] = 0.0\r\n",
        "                    continue\r\n",
        "\r\n",
        "                rd = 1.0 / dtotal\r\n",
        "\r\n",
        "                pos2[0] *= rd\r\n",
        "                pos2[1] *= rd\r\n",
        "                pos2[2] *= rd\r\n",
        "\r\n",
        "                tmpcd[0] = pos2[0] - pos[0]\r\n",
        "                tmpcd[1] = pos2[1] - pos[1]\r\n",
        "                tmpcd[2] = pos2[2] - pos[2]\r\n",
        "\r\n",
        "                dvec = math.sqrt(tmpcd[0] ** 2 + tmpcd[1] ** 2 + tmpcd[2] ** 2)\r\n",
        "\r\n",
        "                if dvec == 0:\r\n",
        "                    dvec = 1.0\r\n",
        "\r\n",
        "                rdvec = 1.0 / dvec\r\n",
        "\r\n",
        "                mrc2.vec[x][y][z][0] = tmpcd[0] * rdvec\r\n",
        "                mrc2.vec[x][y][z][1] = tmpcd[1] * rdvec\r\n",
        "                mrc2.vec[x][y][z][2] = tmpcd[2] * rdvec\r\n",
        "\r\n",
        "                dsum += dtotal\r\n",
        "                Nact += 1\r\n",
        "\r\n",
        "    print(\"#End LDP\")\r\n",
        "    print(dsum)\r\n",
        "    print(Nact)\r\n",
        "\r\n",
        "    mrc2.dsum = dsum\r\n",
        "    mrc2.Nact = Nact\r\n",
        "    mrc2.ave = dsum / float(Nact)\r\n",
        "    mrc2.std = np.linalg.norm(mrc2.dens[mrc2.dens > 0])\r\n",
        "    mrc2.std_norm_ave = np.linalg.norm(mrc2.dens[mrc2.dens > 0] - mrc2.ave)\r\n",
        "\r\n",
        "    print(\r\n",
        "        \"#MAP AVE={ave} STD={std} STD_norm={std_norm}\".format(\r\n",
        "            ave=mrc2.ave, std=mrc2.std, std_norm=mrc2.std_norm_ave\r\n",
        "        )\r\n",
        "    )\r\n",
        "    # return False\r\n",
        "    return mrc2"
      ],
      "outputs": [],
      "metadata": {
        "tags": [],
        "id": "D1e05l6FjH1A"
      }
    },
    {
      "cell_type": "code",
      "execution_count": 8,
      "source": [
        "def rot_pos(vec, angle, inv=False):\r\n",
        "    r = R.from_euler(\"zyx\", angle, degrees=True)\r\n",
        "    if inv:\r\n",
        "        r = r.inv()\r\n",
        "    rotated_vec = r.apply(vec)\r\n",
        "    return rotated_vec"
      ],
      "outputs": [],
      "metadata": {
        "tags": [],
        "id": "9PUFhTTjjH1E"
      }
    },
    {
      "cell_type": "code",
      "execution_count": 9,
      "source": [
        "@numba.jit(nopython=True)\r\n",
        "def rot_pos_mtx(mtx, vec):\r\n",
        "    mtx = mtx.astype(np.float64)\r\n",
        "    vec = vec.astype(np.float64)\r\n",
        "    return vec @ mtx"
      ],
      "outputs": [],
      "metadata": {
        "tags": [],
        "id": "DVKOJ0izjH1G"
      }
    },
    {
      "cell_type": "code",
      "execution_count": 10,
      "source": [
        "@numba.jit(nopython=True)\r\n",
        "def rot_mrc_combine(old_pos, new_pos, new_vec_shape):\r\n",
        "    # combined_arr = np.hstack((old_pos,new_pos))\r\n",
        "    combined_arr = np.concatenate((old_pos, new_pos), axis=1)\r\n",
        "\r\n",
        "    combined_arr = combined_arr[\r\n",
        "        (combined_arr[:, 0] >= 0)\r\n",
        "        & (combined_arr[:, 1] >= 0)\r\n",
        "        & (combined_arr[:, 2] >= 0)\r\n",
        "        & (combined_arr[:, 0] < new_vec_shape[0])\r\n",
        "        & (combined_arr[:, 1] < new_vec_shape[0])\r\n",
        "        & (combined_arr[:, 2] < new_vec_shape[0])\r\n",
        "    ]\r\n",
        "\r\n",
        "    return combined_arr"
      ],
      "outputs": [],
      "metadata": {
        "tags": [],
        "id": "ff3XuFu7jH1G"
      }
    },
    {
      "cell_type": "code",
      "execution_count": 11,
      "source": [
        "def rot_mrc(orig_mrc_data, orig_mrc_vec, new_vec_shape, angle):\r\n",
        "    new_pos = np.array(\r\n",
        "        np.meshgrid(\r\n",
        "            np.arange(new_vec_shape[0]),\r\n",
        "            np.arange(new_vec_shape[1]),\r\n",
        "            np.arange(new_vec_shape[2]),\r\n",
        "        )\r\n",
        "    ).T.reshape(-1, 3)\r\n",
        "\r\n",
        "    # set the center\r\n",
        "    cent = int(new_vec_shape[0] / 2.0)\r\n",
        "\r\n",
        "    # get relative positions from center\r\n",
        "    new_pos = new_pos - cent\r\n",
        "    #print(new_pos)\r\n",
        "\r\n",
        "    # init the rotation by euler angle\r\n",
        "    r = R.from_euler(\"ZYX\", angle, degrees=True)\r\n",
        "    mtx = r.as_matrix()\r\n",
        "    \r\n",
        "    #print(mtx)\r\n",
        "\r\n",
        "    old_pos = rot_pos_mtx(np.flip(mtx.T), new_pos) + cent\r\n",
        "\r\n",
        "    combined_arr = np.hstack((old_pos, new_pos))\r\n",
        "\r\n",
        "    combined_arr = combined_arr[\r\n",
        "        (combined_arr[:, 0] >= 0)\r\n",
        "        & (combined_arr[:, 1] >= 0)\r\n",
        "        & (combined_arr[:, 2] >= 0)\r\n",
        "        & (combined_arr[:, 0] < new_vec_shape[0])\r\n",
        "        & (combined_arr[:, 1] < new_vec_shape[0])\r\n",
        "        & (combined_arr[:, 2] < new_vec_shape[0])\r\n",
        "    ]\r\n",
        "\r\n",
        "    combined_arr = combined_arr.astype(np.int32)\r\n",
        "\r\n",
        "    #print(combined_arr)\r\n",
        "    #print(combined_arr.shape)\r\n",
        "\r\n",
        "    # combined_arr = rot_mrc_combine(old_pos, new_pos, new_vec_shape)\r\n",
        "\r\n",
        "    index_arr = combined_arr[:, 0:3]\r\n",
        "\r\n",
        "    # print(index_arr)\r\n",
        "\r\n",
        "    # print(np.count_nonzero(orig_mrc_data))\r\n",
        "    dens_mask = orig_mrc_data[index_arr[:, 0], index_arr[:, 1], index_arr[:, 2]] != 0.0\r\n",
        "\r\n",
        "    # print(dens_mask.shape)\r\n",
        "    # print(dens_mask)\r\n",
        "\r\n",
        "    non_zero_rot_list = combined_arr[dens_mask]\r\n",
        "\r\n",
        "    #print(non_zero_rot_list.shape)\r\n",
        "    #     with np.printoptions(threshold=np.inf):\r\n",
        "    #         print(non_zero_rot_list[:, 0:3])\r\n",
        "\r\n",
        "    non_zero_dens = orig_mrc_vec[\r\n",
        "        non_zero_rot_list[:, 0], non_zero_rot_list[:, 1], non_zero_rot_list[:, 2]\r\n",
        "    ]\r\n",
        "\r\n",
        "    # print(non_zero_dens)\r\n",
        "\r\n",
        "    #non_zero_dens[:, [2, 0]] = non_zero_dens[:, [0, 2]]\r\n",
        "    new_vec = rot_pos_mtx(np.flip(mtx), non_zero_dens[:, 0:3])\r\n",
        "\r\n",
        "    # print(new_vec)\r\n",
        "\r\n",
        "    # init new vec array\r\n",
        "    new_vec_array = np.zeros((new_vec_shape[0], new_vec_shape[1], new_vec_shape[2], 3))\r\n",
        "\r\n",
        "    # print(new)\r\n",
        "\r\n",
        "    # fill in the new data\r\n",
        "    for vec, ind in zip(new_vec, (non_zero_rot_list[:, 3:6] + cent).astype(int)):\r\n",
        "        new_vec_array[ind[0]][ind[1]][ind[2]][0] = vec[0]\r\n",
        "        new_vec_array[ind[0]][ind[1]][ind[2]][1] = vec[1]\r\n",
        "        new_vec_array[ind[0]][ind[1]][ind[2]][2] = vec[2]\r\n",
        "\r\n",
        "    return new_vec_array"
      ],
      "outputs": [],
      "metadata": {
        "tags": [],
        "id": "N1eUEjIDjH1d"
      }
    },
    {
      "cell_type": "code",
      "execution_count": 12,
      "source": [
        "def rot_mrc_CUDA(orig_mrc_data, orig_mrc_vec, new_vec_shape, angle):\r\n",
        "    new_pos = cp.array(\r\n",
        "        cp.meshgrid(\r\n",
        "            cp.arange(new_vec_shape[0]),\r\n",
        "            cp.arange(new_vec_shape[1]),\r\n",
        "            cp.arange(new_vec_shape[2]),\r\n",
        "        )\r\n",
        "    ).T.reshape(-1, 3).get()\r\n",
        "\r\n",
        "    # set the center\r\n",
        "    cent = int(new_vec_shape[0] / 2.0)\r\n",
        "\r\n",
        "    # get relative positions from center\r\n",
        "    new_pos = new_pos - cent\r\n",
        "    #print(new_pos)\r\n",
        "\r\n",
        "    # init the rotation by euler angle\r\n",
        "    r = R.from_euler(\"ZYX\", angle, degrees=True)\r\n",
        "    mtx = r.as_matrix()\r\n",
        "    \r\n",
        "    #print(mtx)\r\n",
        "\r\n",
        "    old_pos = rot_pos_mtx(np.flip(mtx.T), new_pos) + cent\r\n",
        "\r\n",
        "    combined_arr = np.hstack((old_pos, new_pos))\r\n",
        "\r\n",
        "    combined_arr = combined_arr[\r\n",
        "        (combined_arr[:, 0] >= 0)\r\n",
        "        & (combined_arr[:, 1] >= 0)\r\n",
        "        & (combined_arr[:, 2] >= 0)\r\n",
        "        & (combined_arr[:, 0] < new_vec_shape[0])\r\n",
        "        & (combined_arr[:, 1] < new_vec_shape[0])\r\n",
        "        & (combined_arr[:, 2] < new_vec_shape[0])\r\n",
        "    ]\r\n",
        "\r\n",
        "    combined_arr = combined_arr.astype(np.int32)\r\n",
        "\r\n",
        "    #print(combined_arr)\r\n",
        "    #print(combined_arr.shape)\r\n",
        "\r\n",
        "    # combined_arr = rot_mrc_combine(old_pos, new_pos, new_vec_shape)\r\n",
        "\r\n",
        "    index_arr = combined_arr[:, 0:3]\r\n",
        "\r\n",
        "    # print(index_arr)\r\n",
        "\r\n",
        "    # print(np.count_nonzero(orig_mrc_data))\r\n",
        "    dens_mask = orig_mrc_data[index_arr[:, 0], index_arr[:, 1], index_arr[:, 2]] != 0.0\r\n",
        "\r\n",
        "    # print(dens_mask.shape)\r\n",
        "    # print(dens_mask)\r\n",
        "\r\n",
        "    non_zero_rot_list = combined_arr[dens_mask]\r\n",
        "\r\n",
        "    #print(non_zero_rot_list.shape)\r\n",
        "    #     with np.printoptions(threshold=np.inf):\r\n",
        "    #         print(non_zero_rot_list[:, 0:3])\r\n",
        "\r\n",
        "    non_zero_dens = orig_mrc_vec[\r\n",
        "        non_zero_rot_list[:, 0], non_zero_rot_list[:, 1], non_zero_rot_list[:, 2]\r\n",
        "    ]\r\n",
        "\r\n",
        "    # print(non_zero_dens)\r\n",
        "\r\n",
        "    #non_zero_dens[:, [2, 0]] = non_zero_dens[:, [0, 2]]\r\n",
        "    new_vec = rot_pos_mtx(np.flip(mtx), non_zero_dens[:, 0:3])\r\n",
        "\r\n",
        "    # print(new_vec)\r\n",
        "\r\n",
        "    # init new vec array\r\n",
        "    new_vec_array = np.zeros((new_vec_shape[0], new_vec_shape[1], new_vec_shape[2], 3))\r\n",
        "\r\n",
        "    # print(new)\r\n",
        "\r\n",
        "    # fill in the new data\r\n",
        "    for vec, ind in zip(new_vec, (non_zero_rot_list[:, 3:6] + cent).astype(int)):\r\n",
        "        new_vec_array[ind[0]][ind[1]][ind[2]][0] = vec[0]\r\n",
        "        new_vec_array[ind[0]][ind[1]][ind[2]][1] = vec[1]\r\n",
        "        new_vec_array[ind[0]][ind[1]][ind[2]][2] = vec[2]\r\n",
        "\r\n",
        "    return new_vec_array"
      ],
      "outputs": [],
      "metadata": {
        "id": "xCQ-_yT048db"
      }
    },
    {
      "cell_type": "code",
      "execution_count": 13,
      "source": [
        "def find_best_trans(x, y, z):\r\n",
        "\r\n",
        "    xyz_arr = x + y + z\r\n",
        "    best = np.amax(xyz_arr)\r\n",
        "    trans = np.unravel_index(xyz_arr.argmax(), xyz_arr.shape)\r\n",
        "\r\n",
        "    return best, trans"
      ],
      "outputs": [],
      "metadata": {
        "tags": [],
        "id": "s5-7F8StjH1l"
      }
    },
    {
      "cell_type": "code",
      "execution_count": 14,
      "source": [
        "def search_map_fft_CUDA(mrc_target, mrc_search, TopN=10, ang=30, is_eval_mode=False):\r\n",
        "\r\n",
        "    if is_eval_mode:\r\n",
        "        print(\"#For Evaluation Mode\")\r\n",
        "        print(\"#Please use the same coordinate system and map size for map1 and map2.\")\r\n",
        "        print(\"#Example:\")\r\n",
        "        print(\"#In Chimera command line: open map1 and map2 as #0 and #1, then type\")\r\n",
        "        print(\"#> open map1.mrc\")\r\n",
        "        print(\"#> open map2.mrc\")\r\n",
        "        print(\"#> vop #1 resample onGrid #0\")\r\n",
        "        print(\"#> volume #2 save new.mrc\")\r\n",
        "        print(\"#Chimera will generate the resampled map2.mrc as new.mrc\")\r\n",
        "        return\r\n",
        "\r\n",
        "    x1 = cp.array(copy.deepcopy(mrc_target.vec[:, :, :, 0]))\r\n",
        "    y1 = cp.array(copy.deepcopy(mrc_target.vec[:, :, :, 1]))\r\n",
        "    z1 = cp.array(copy.deepcopy(mrc_target.vec[:, :, :, 2]))\r\n",
        "\r\n",
        "    #     x1 = np.swapaxes(x1 , 0, 2)\r\n",
        "    #     y1 = np.swapaxes(y1 , 0, 2)\r\n",
        "    #     z1 = np.swapaxes(z1 , 0, 2)\r\n",
        "\r\n",
        "    #     x2 = copy.deepcopy(mrc_search.vec[:, :, :, 0])\r\n",
        "\r\n",
        "    d3 = mrc_target.xdim ** 3\r\n",
        "\r\n",
        "    rd3 = 1.0 / d3\r\n",
        "\r\n",
        "    # print(f'{rd3:.20f}')\r\n",
        "\r\n",
        "    X1 = cp.fft.rfftn(x1)\r\n",
        "    X1 = cp.conj(X1)\r\n",
        "    Y1 = cp.fft.rfftn(y1)\r\n",
        "    Y1 = cp.conj(Y1)\r\n",
        "    Z1 = cp.fft.rfftn(z1)\r\n",
        "    Z1 = cp.conj(Z1)\r\n",
        "    #     X2 = np.fft.rfftn(x2)\r\n",
        "\r\n",
        "    #     X12 = np.multiply(X1,X2)\r\n",
        "\r\n",
        "    x_angle = []\r\n",
        "    y_angle = []\r\n",
        "    z_angle = []\r\n",
        "\r\n",
        "    i = 0\r\n",
        "    while i < 360:\r\n",
        "        x_angle.append(i)\r\n",
        "        y_angle.append(i)\r\n",
        "        i += ang\r\n",
        "\r\n",
        "    i = 0\r\n",
        "    while i <= 180:\r\n",
        "        z_angle.append(i)\r\n",
        "        i += ang\r\n",
        "\r\n",
        "    angle_comb = cp.array(np.meshgrid(x_angle, y_angle, z_angle)).T.reshape(-1, 3).get()\r\n",
        "\r\n",
        "    mrc_angle_dict = {}\r\n",
        "\r\n",
        "    with concurrent.futures.ThreadPoolExecutor(\r\n",
        "        max_workers=os.cpu_count() + 4\r\n",
        "    ) as executor:\r\n",
        "        trans_vec = {\r\n",
        "            executor.submit(\r\n",
        "                rot_mrc_CUDA,\r\n",
        "                mrc_search.data,\r\n",
        "                mrc_search.vec,\r\n",
        "                (mrc_search.xdim, mrc_search.ydim, mrc_search.zdim),\r\n",
        "                angle,\r\n",
        "            ): angle\r\n",
        "            for angle in angle_comb\r\n",
        "        }\r\n",
        "        for future in concurrent.futures.as_completed(trans_vec):\r\n",
        "            angle = trans_vec[future]\r\n",
        "            mrc_angle_dict[tuple(angle)] = future.result()\r\n",
        "\r\n",
        "    #     for angle in tqdm(angle_comb, desc=\"Rotation\"):\r\n",
        "    #         rot_result = rot_mrc(\r\n",
        "    #             mrc_search.data,\r\n",
        "    #             mrc_search.vec,\r\n",
        "    #             (mrc_search.xdim, mrc_search.ydim, mrc_search.zdim),\r\n",
        "    #             angle,\r\n",
        "    #         )\r\n",
        "    #         mrc_angle_dict[tuple(angle)] = rot_result\r\n",
        "\r\n",
        "    # fftw plans\r\n",
        "    a = pyfftw.empty_aligned((x1.shape), dtype=\"float32\")\r\n",
        "    b = pyfftw.empty_aligned(\r\n",
        "        (a.shape[0], a.shape[1], a.shape[2] // 2 + 1), dtype=\"complex64\"\r\n",
        "    )\r\n",
        "    c = pyfftw.empty_aligned((x1.shape), dtype=\"float32\")\r\n",
        "\r\n",
        "    fft_object = pyfftw.FFTW(a, b, axes=(0, 1, 2))\r\n",
        "    ifft_object = pyfftw.FFTW(\r\n",
        "        b, c, direction=\"FFTW_BACKWARD\", axes=(0, 1, 2), normalise_idft=False\r\n",
        "    )\r\n",
        "\r\n",
        "    angle_score = []\r\n",
        "\r\n",
        "    XX = []\r\n",
        "\r\n",
        "    for angle in tqdm(angle_comb, desc=\"FFT\"):\r\n",
        "        rot_mrc_vec = mrc_angle_dict[tuple(angle)]\r\n",
        "\r\n",
        "        x2 = cp.array(copy.deepcopy(rot_mrc_vec[..., 0]))\r\n",
        "        y2 = cp.array(copy.deepcopy(rot_mrc_vec[..., 1]))\r\n",
        "        z2 = cp.array(copy.deepcopy(rot_mrc_vec[..., 2]))\r\n",
        "\r\n",
        "        #         x2 = np.swapaxes(x2 , 0, 2)\r\n",
        "        #         y2 = np.swapaxes(y2 , 0, 2)\r\n",
        "        #         z2 = np.swapaxes(z2 , 0, 2)\r\n",
        "\r\n",
        "        X2 = cp.zeros_like(X1)\r\n",
        "        cp.copyto(cp.array(a), x2)\r\n",
        "        cp.copyto(X2, cp.array(fft_object(a)))\r\n",
        "        X12 = X1 * X2\r\n",
        "        cp.copyto(cp.array(b), X12)\r\n",
        "        x12 = cp.zeros_like(x1)\r\n",
        "        cp.copyto(x12, cp.array(ifft_object(b)))\r\n",
        "\r\n",
        "        Y2 = cp.zeros_like(Y1)\r\n",
        "        cp.copyto(cp.array(a), y2)\r\n",
        "        cp.copyto(Y2, cp.array(fft_object(a)))\r\n",
        "        Y12 = Y1 * Y2\r\n",
        "        cp.copyto(cp.array(b), Y12)\r\n",
        "        y12 = cp.zeros_like(y1)\r\n",
        "        cp.copyto(y12, cp.array(ifft_object(b)))\r\n",
        "\r\n",
        "        Z2 = cp.zeros_like(Z1)\r\n",
        "        cp.copyto(cp.array(a), z2)\r\n",
        "        cp.copyto(Z2, cp.array(fft_object(a)))\r\n",
        "        Z12 = Z1 * Z2\r\n",
        "        cp.copyto(cp.array(b), Z12)\r\n",
        "        z12 = cp.zeros_like(z1)\r\n",
        "        cp.copyto(z12, cp.array(ifft_object(b)))\r\n",
        "\r\n",
        "        if tuple(angle) == (0, 0, 30):\r\n",
        "            XX = [x12, y12, z12]\r\n",
        "\r\n",
        "        #         X2 = np.fft.rfftn(x2)\r\n",
        "        #         X12 = X1 * X2\r\n",
        "        #         x12 = np.fft.irfftn(X12, norm=\"forward\")\r\n",
        "\r\n",
        "        # #         if (tuple(angle) == (0,0,30)):\r\n",
        "        # #             XX = [X12,x12]\r\n",
        "\r\n",
        "        #         Y2 = np.fft.rfftn(y2)\r\n",
        "        #         Y12 = Y1 * Y2\r\n",
        "        #         y12 = np.fft.irfftn(Y12, norm=\"forward\")\r\n",
        "\r\n",
        "        #         Z2 = np.fft.rfftn(z2)\r\n",
        "        #         Z12 = Z1 * Z2\r\n",
        "        #         z12 = np.fft.irfftn(Z12, norm=\"forward\")\r\n",
        "\r\n",
        "        best, trans = find_best_trans(x12, y12, z12)\r\n",
        "\r\n",
        "        angle_score.append([tuple(angle), best * rd3, trans])\r\n",
        "\r\n",
        "    #     num_jobs = math.ceil(360 / ang) * math.ceil(360 / ang) * (180 // ang + 1)\r\n",
        "\r\n",
        "    return angle_score"
      ],
      "outputs": [],
      "metadata": {
        "id": "dwhbEikO6UKc"
      }
    },
    {
      "cell_type": "code",
      "execution_count": 15,
      "source": [
        "def search_map_fft(mrc_target, mrc_search, TopN=10, ang=30, is_eval_mode=False):\r\n",
        "\r\n",
        "    if is_eval_mode:\r\n",
        "        print(\"#For Evaluation Mode\")\r\n",
        "        print(\"#Please use the same coordinate system and map size for map1 and map2.\")\r\n",
        "        print(\"#Example:\")\r\n",
        "        print(\"#In Chimera command line: open map1 and map2 as #0 and #1, then type\")\r\n",
        "        print(\"#> open map1.mrc\")\r\n",
        "        print(\"#> open map2.mrc\")\r\n",
        "        print(\"#> vop #1 resample onGrid #0\")\r\n",
        "        print(\"#> volume #2 save new.mrc\")\r\n",
        "        print(\"#Chimera will generate the resampled map2.mrc as new.mrc\")\r\n",
        "        return\r\n",
        "\r\n",
        "    x1 = copy.deepcopy(mrc_target.vec[:, :, :, 0])\r\n",
        "    y1 = copy.deepcopy(mrc_target.vec[:, :, :, 1])\r\n",
        "    z1 = copy.deepcopy(mrc_target.vec[:, :, :, 2])\r\n",
        "\r\n",
        "    #     x1 = np.swapaxes(x1 , 0, 2)\r\n",
        "    #     y1 = np.swapaxes(y1 , 0, 2)\r\n",
        "    #     z1 = np.swapaxes(z1 , 0, 2)\r\n",
        "\r\n",
        "    #     x2 = copy.deepcopy(mrc_search.vec[:, :, :, 0])\r\n",
        "\r\n",
        "    d3 = mrc_target.xdim ** 3\r\n",
        "\r\n",
        "    rd3 = 1.0 / d3\r\n",
        "\r\n",
        "    # print(f'{rd3:.20f}')\r\n",
        "\r\n",
        "    X1 = np.fft.rfftn(x1)\r\n",
        "    X1 = np.conj(X1)\r\n",
        "    Y1 = np.fft.rfftn(y1)\r\n",
        "    Y1 = np.conj(Y1)\r\n",
        "    Z1 = np.fft.rfftn(z1)\r\n",
        "    Z1 = np.conj(Z1)\r\n",
        "    #     X2 = np.fft.rfftn(x2)\r\n",
        "\r\n",
        "    #     X12 = np.multiply(X1,X2)\r\n",
        "\r\n",
        "    x_angle = []\r\n",
        "    y_angle = []\r\n",
        "    z_angle = []\r\n",
        "\r\n",
        "    i = 0\r\n",
        "    while i < 360:\r\n",
        "        x_angle.append(i)\r\n",
        "        y_angle.append(i)\r\n",
        "        i += ang\r\n",
        "\r\n",
        "    i = 0\r\n",
        "    while i <= 180:\r\n",
        "        z_angle.append(i)\r\n",
        "        i += ang\r\n",
        "\r\n",
        "    angle_comb = np.array(np.meshgrid(x_angle, y_angle, z_angle)).T.reshape(-1, 3)\r\n",
        "\r\n",
        "    mrc_angle_dict = {}\r\n",
        "\r\n",
        "    with concurrent.futures.ThreadPoolExecutor(\r\n",
        "        max_workers=os.cpu_count() + 4\r\n",
        "    ) as executor:\r\n",
        "        trans_vec = {\r\n",
        "            executor.submit(\r\n",
        "                rot_mrc,\r\n",
        "                mrc_search.data,\r\n",
        "                mrc_search.vec,\r\n",
        "                (mrc_search.xdim, mrc_search.ydim, mrc_search.zdim),\r\n",
        "                angle,\r\n",
        "            ): angle\r\n",
        "            for angle in angle_comb\r\n",
        "        }\r\n",
        "        for future in concurrent.futures.as_completed(trans_vec):\r\n",
        "            angle = trans_vec[future]\r\n",
        "            mrc_angle_dict[tuple(angle)] = future.result()\r\n",
        "\r\n",
        "    #     for angle in tqdm(angle_comb, desc=\"Rotation\"):\r\n",
        "    #         rot_result = rot_mrc(\r\n",
        "    #             mrc_search.data,\r\n",
        "    #             mrc_search.vec,\r\n",
        "    #             (mrc_search.xdim, mrc_search.ydim, mrc_search.zdim),\r\n",
        "    #             angle,\r\n",
        "    #         )\r\n",
        "    #         mrc_angle_dict[tuple(angle)] = rot_result\r\n",
        "\r\n",
        "    # fftw plans\r\n",
        "    a = pyfftw.empty_aligned((x1.shape), dtype=\"float32\")\r\n",
        "    b = pyfftw.empty_aligned(\r\n",
        "        (a.shape[0], a.shape[1], a.shape[2] // 2 + 1), dtype=\"complex64\"\r\n",
        "    )\r\n",
        "    c = pyfftw.empty_aligned((x1.shape), dtype=\"float32\")\r\n",
        "\r\n",
        "    fft_object = pyfftw.FFTW(a, b, axes=(0, 1, 2))\r\n",
        "    ifft_object = pyfftw.FFTW(\r\n",
        "        b, c, direction=\"FFTW_BACKWARD\", axes=(0, 1, 2), normalise_idft=False\r\n",
        "    )\r\n",
        "\r\n",
        "    angle_score = []\r\n",
        "\r\n",
        "    XX = []\r\n",
        "\r\n",
        "    for angle in tqdm(angle_comb, desc=\"FFT\"):\r\n",
        "        rot_mrc_vec = mrc_angle_dict[tuple(angle)]\r\n",
        "\r\n",
        "        x2 = copy.deepcopy(rot_mrc_vec[..., 0])\r\n",
        "        y2 = copy.deepcopy(rot_mrc_vec[..., 1])\r\n",
        "        z2 = copy.deepcopy(rot_mrc_vec[..., 2])\r\n",
        "\r\n",
        "        #         x2 = np.swapaxes(x2 , 0, 2)\r\n",
        "        #         y2 = np.swapaxes(y2 , 0, 2)\r\n",
        "        #         z2 = np.swapaxes(z2 , 0, 2)\r\n",
        "\r\n",
        "        X2 = np.zeros_like(X1)\r\n",
        "        np.copyto(a, x2)\r\n",
        "        np.copyto(X2, fft_object(a))\r\n",
        "        X12 = X1 * X2\r\n",
        "        np.copyto(b, X12)\r\n",
        "        x12 = np.zeros_like(x1)\r\n",
        "        np.copyto(x12, ifft_object(b))\r\n",
        "\r\n",
        "        Y2 = np.zeros_like(Y1)\r\n",
        "        np.copyto(a, y2)\r\n",
        "        np.copyto(Y2, fft_object(a))\r\n",
        "        Y12 = Y1 * Y2\r\n",
        "        np.copyto(b, Y12)\r\n",
        "        y12 = np.zeros_like(y1)\r\n",
        "        np.copyto(y12, ifft_object(b))\r\n",
        "\r\n",
        "        Z2 = np.zeros_like(Z1)\r\n",
        "        np.copyto(a, z2)\r\n",
        "        np.copyto(Z2, fft_object(a))\r\n",
        "        Z12 = Z1 * Z2\r\n",
        "        np.copyto(b, Z12)\r\n",
        "        z12 = np.zeros_like(z1)\r\n",
        "        np.copyto(z12, ifft_object(b))\r\n",
        "\r\n",
        "        if tuple(angle) == (0, 0, 30):\r\n",
        "            XX = [x12, y12, z12]\r\n",
        "\r\n",
        "        #         X2 = np.fft.rfftn(x2)\r\n",
        "        #         X12 = X1 * X2\r\n",
        "        #         x12 = np.fft.irfftn(X12, norm=\"forward\")\r\n",
        "\r\n",
        "        # #         if (tuple(angle) == (0,0,30)):\r\n",
        "        # #             XX = [X12,x12]\r\n",
        "\r\n",
        "        #         Y2 = np.fft.rfftn(y2)\r\n",
        "        #         Y12 = Y1 * Y2\r\n",
        "        #         y12 = np.fft.irfftn(Y12, norm=\"forward\")\r\n",
        "\r\n",
        "        #         Z2 = np.fft.rfftn(z2)\r\n",
        "        #         Z12 = Z1 * Z2\r\n",
        "        #         z12 = np.fft.irfftn(Z12, norm=\"forward\")\r\n",
        "\r\n",
        "        best, trans = find_best_trans(x12, y12, z12)\r\n",
        "\r\n",
        "        angle_score.append([tuple(angle), best * rd3, trans])\r\n",
        "\r\n",
        "    #     num_jobs = math.ceil(360 / ang) * math.ceil(360 / ang) * (180 // ang + 1)\r\n",
        "\r\n",
        "    return angle_score"
      ],
      "outputs": [],
      "metadata": {
        "tags": [],
        "id": "6SoTKtmEjH1l"
      }
    },
    {
      "cell_type": "code",
      "execution_count": 16,
      "source": [
        "mrc1 = mrc_obj(\"./data/emd_8097.mrc\")\r\n",
        "mrc2 = mrc_obj(\"./data/ChainA_simulated_resample.mrc\")\r\n",
        "\r\n",
        "mrc1, mrc_N1 = mrc_set_vox_size(mrc1)\r\n",
        "mrc2, mrc_N2 = mrc_set_vox_size(mrc2)\r\n",
        "\r\n",
        "if mrc_N1.xdim > mrc_N2.xdim:\r\n",
        "    mrc_N2.xdim = mrc_N2.ydim = mrc_N2.zdim = mrc_N1.xdim\r\n",
        "\r\n",
        "    mrc_N2.orig[\"x\"] = mrc_N2.cent[0] - 0.5 * 7 * mrc_N2.xdim\r\n",
        "    mrc_N2.orig[\"y\"] = mrc_N2.cent[1] - 0.5 * 7 * mrc_N2.xdim\r\n",
        "    mrc_N2.orig[\"z\"] = mrc_N2.cent[2] - 0.5 * 7 * mrc_N2.xdim\r\n",
        "\r\n",
        "else:\r\n",
        "    mrc_N1.xdim = mrc_N1.ydim = mrc_N1.zdim = mrc_N2.xdim\r\n",
        "\r\n",
        "    mrc_N1.orig[\"x\"] = mrc_N1.cent[0] - 0.5 * 7 * mrc_N1.xdim\r\n",
        "    mrc_N1.orig[\"y\"] = mrc_N1.cent[1] - 0.5 * 7 * mrc_N1.xdim\r\n",
        "    mrc_N1.orig[\"z\"] = mrc_N1.cent[2] - 0.5 * 7 * mrc_N1.xdim"
      ],
      "outputs": [
        {
          "output_type": "stream",
          "name": "stdout",
          "text": [
            "#dmax=141.34333822979175\n",
            "Nvox= 48, 48, 48\n",
            "cent= 118.23501896858215, 107.53501725196838, 102.1850163936615\n",
            "ori= -49.76498103141785, -60.464982748031616, -65.8149836063385\n",
            "#dmax=128.68973561744724\n",
            "Nvox= 48, 48, 48\n",
            "cent= 118.23501896858215, 107.53501725196838, 102.1850163936615\n",
            "ori= -49.76498103141785, -60.464982748031616, -65.8149836063385\n"
          ]
        }
      ],
      "metadata": {
        "tags": [],
        "id": "PzHPPpB9jH1r",
        "outputId": "7c7a912c-fee3-4d26-d48c-e580bf7cf4cd",
        "colab": {
          "base_uri": "https://localhost:8080/"
        }
      }
    },
    {
      "cell_type": "code",
      "execution_count": 17,
      "source": [
        "%%time\r\n",
        "mrc_N1 = fastVEC(mrc1, mrc_N1)\r\n",
        "mrc_N2 = fastVEC(mrc2, mrc_N2)"
      ],
      "outputs": [
        {
          "output_type": "stream",
          "name": "stdout",
          "text": [
            "110592\n",
            "#Start VEC\n",
            "#maxd= 29.9065372581333\n",
            "#fsiv= 0.017889068239927756\n"
          ]
        },
        {
          "output_type": "display_data",
          "data": {
            "text/plain": [
              "  0%|          | 0/48 [00:00<?, ?it/s]"
            ],
            "application/vnd.jupyter.widget-view+json": {
              "version_major": 2,
              "version_minor": 0,
              "model_id": "903a0aecbdf84e819ce2392133331fec"
            }
          },
          "metadata": {}
        },
        {
          "output_type": "stream",
          "name": "stdout",
          "text": [
            "#End LDP\n",
            "32939.518123120644\n",
            "2257\n",
            "#MAP AVE=14.594381091325053 STD=773.4275314049189 STD_norm=342.7218491454483\n",
            "110592\n",
            "#Start VEC\n",
            "#maxd= 29.9065372581333\n",
            "#fsiv= 0.017889068239927756\n"
          ]
        },
        {
          "output_type": "display_data",
          "data": {
            "text/plain": [
              "  0%|          | 0/48 [00:00<?, ?it/s]"
            ],
            "application/vnd.jupyter.widget-view+json": {
              "version_major": 2,
              "version_minor": 0,
              "model_id": "aa9ecb25a0f2442e99264805d2c2d60c"
            }
          },
          "metadata": {}
        },
        {
          "output_type": "stream",
          "name": "stdout",
          "text": [
            "#End LDP\n",
            "77063.58651876262\n",
            "557\n",
            "#MAP AVE=138.35473342686288 STD=3523.852023949401 STD_norm=1324.923060774057\n",
            "Wall time: 30.2 s\n"
          ]
        }
      ],
      "metadata": {
        "tags": [],
        "id": "K0QsXTnnjH1v",
        "outputId": "8bc153c8-faea-47b7-ada9-14c6324e3778",
        "colab": {
          "base_uri": "https://localhost:8080/",
          "height": 445,
          "referenced_widgets": [
            "63cff532cbe94ad1b0e8f829507b74d3",
            "8ffef9861c024c2b944d75eeb9a11dd5",
            "5f7283d1f8374f988d7c07596eb12bbe",
            "a7630cad52a54475b66ed8f3858bccf4",
            "d460ce1f7e25479195c47e7085c077d9",
            "34be7026fe354298bcb61a37290d0f94",
            "de560ce089de4a799244f268955480de",
            "3b77e3a9b51f4847b9fbf3ac744c9a5a",
            "c93a18c1b0854e22a377de622caac9df",
            "3f4675bc485a40698d0af39594c10ff7",
            "90ffb9476de9473db8e49179f83dec44",
            "e0f775244ed24175b90869c196e42f9b",
            "22183fc06838440babbff3b443855f87",
            "bed4b30aeb8b4fd2888d597e1ff4810c",
            "0dcb97f75d81464d817ba518633c3cee",
            "3e675524a6db4d58a6547ce1b9fa11c8"
          ]
        }
      }
    },
    {
      "cell_type": "code",
      "execution_count": 20,
      "source": [
        "%%time\r\n",
        "mrc = rot_mrc(mrc_N2.data, mrc_N2.vec, (48, 48, 48), [0, 0, 30])"
      ],
      "outputs": [
        {
          "output_type": "stream",
          "name": "stdout",
          "text": [
            "CPU times: user 591 ms, sys: 116 ms, total: 707 ms\n",
            "Wall time: 596 ms\n"
          ]
        }
      ],
      "metadata": {
        "tags": [],
        "id": "VWPdo9KEjH1v",
        "outputId": "c30739ed-fa5c-4223-ece4-df32b3761ea3",
        "colab": {
          "base_uri": "https://localhost:8080/"
        }
      }
    },
    {
      "cell_type": "code",
      "execution_count": 21,
      "source": [
        "%%time\r\n",
        "score_list = search_map_fft(mrc_N1, mrc_N2, ang=30)"
      ],
      "outputs": [
        {
          "output_type": "display_data",
          "data": {
            "text/plain": [
              "HBox(children=(FloatProgress(value=0.0, description='FFT', max=1008.0, style=ProgressStyle(description_width='…"
            ],
            "application/vnd.jupyter.widget-view+json": {
              "model_id": "9d5b05c086024048be0109588912bc21",
              "version_minor": 0,
              "version_major": 2
            }
          },
          "metadata": {
            "tags": []
          }
        },
        {
          "output_type": "stream",
          "name": "stdout",
          "text": [
            "\n",
            "CPU times: user 35.9 s, sys: 8.85 s, total: 44.7 s\n",
            "Wall time: 27.3 s\n"
          ]
        }
      ],
      "metadata": {
        "tags": [],
        "id": "8xWc1ZpTjH1w",
        "outputId": "3ade6a19-0383-4bd0-c83f-58a502386683",
        "colab": {
          "base_uri": "https://localhost:8080/",
          "height": 104,
          "referenced_widgets": [
            "9d5b05c086024048be0109588912bc21",
            "7cb9e44c31a94b8b927d652b1eed7de0",
            "310bb8a09a0e4c67945fb5a39d0f305c",
            "f12c08cd6aea444484d33769738c7569",
            "0af8ad7da18d4194a56c00ca2d935cde",
            "70b6b79c5aec47658de182a7945493df",
            "6a90f0cd59564b02b006a9bf2a45dfc1",
            "775bb53070704369bba3116fb41f8e1d"
          ]
        }
      }
    },
    {
      "cell_type": "code",
      "execution_count": 22,
      "source": [
        "[score for score in score_list if score[0] == (0, 0, 30)]"
      ],
      "outputs": [
        {
          "output_type": "execute_result",
          "data": {
            "text/plain": [
              "[[(0, 0, 30), 67.83423755787037, (9, 9, 45)]]"
            ]
          },
          "metadata": {
            "tags": []
          },
          "execution_count": 22
        }
      ],
      "metadata": {
        "id": "sBOwTKn1jH1x",
        "outputId": "3ec7e9cb-db78-4d53-faa9-06362ad1d004",
        "colab": {
          "base_uri": "https://localhost:8080/"
        }
      }
    },
    {
      "cell_type": "code",
      "execution_count": 23,
      "source": [
        "sorted(score_list, key=lambda x: x[1], reverse=True)[:10]"
      ],
      "outputs": [
        {
          "output_type": "execute_result",
          "data": {
            "text/plain": [
              "[[(90, 30, 150), 146.59449146412035, (37, 11, 44)],\n",
              " [(270, 150, 150), 130.95534939236111, (12, 37, 44)],\n",
              " [(270, 150, 0), 114.3447536892361, (33, 7, 45)],\n",
              " [(90, 30, 0), 111.62222403067129, (15, 40, 45)],\n",
              " [(120, 0, 90), 108.7585720486111, (9, 8, 47)],\n",
              " [(300, 150, 0), 108.50299298321758, (34, 6, 42)],\n",
              " [(120, 30, 180), 108.50299298321758, (34, 6, 42)],\n",
              " [(270, 150, 180), 105.15455005787037, (15, 39, 44)],\n",
              " [(300, 180, 0), 104.73917643229166, (41, 5, 47)],\n",
              " [(300, 210, 30), 104.46724898726852, (38, 45, 6)]]"
            ]
          },
          "metadata": {
            "tags": []
          },
          "execution_count": 23
        }
      ],
      "metadata": {
        "id": "RW5znSDsjH1z",
        "outputId": "67adf208-72e8-4093-a24f-74c3ec5ff660",
        "colab": {
          "base_uri": "https://localhost:8080/"
        }
      }
    },
    {
      "cell_type": "code",
      "execution_count": 24,
      "source": [
        "# xx12 = np.fft.irfftn(XX12, norm=\"forward\")"
      ],
      "outputs": [
        {
          "output_type": "error",
          "ename": "NameError",
          "evalue": "ignored",
          "traceback": [
            "\u001b[0;31m---------------------------------------------------------------------------\u001b[0m",
            "\u001b[0;31mNameError\u001b[0m                                 Traceback (most recent call last)",
            "\u001b[0;32m<ipython-input-24-55fa53ff5a6b>\u001b[0m in \u001b[0;36m<module>\u001b[0;34m()\u001b[0m\n\u001b[0;32m----> 1\u001b[0;31m \u001b[0mxx12\u001b[0m \u001b[0;34m=\u001b[0m \u001b[0mnp\u001b[0m\u001b[0;34m.\u001b[0m\u001b[0mfft\u001b[0m\u001b[0;34m.\u001b[0m\u001b[0mirfftn\u001b[0m\u001b[0;34m(\u001b[0m\u001b[0mXX12\u001b[0m\u001b[0;34m,\u001b[0m \u001b[0mnorm\u001b[0m\u001b[0;34m=\u001b[0m\u001b[0;34m\"forward\"\u001b[0m\u001b[0;34m)\u001b[0m\u001b[0;34m\u001b[0m\u001b[0;34m\u001b[0m\u001b[0m\n\u001b[0m",
            "\u001b[0;31mNameError\u001b[0m: name 'XX12' is not defined"
          ]
        }
      ],
      "metadata": {
        "id": "exC3H8vyjH10",
        "outputId": "ae47c6dc-6a7e-48b4-e7c5-975d29c2bcde",
        "colab": {
          "base_uri": "https://localhost:8080/",
          "height": 171
        }
      }
    },
    {
      "cell_type": "code",
      "execution_count": null,
      "source": [
        "xx12[0][0][1]"
      ],
      "outputs": [],
      "metadata": {
        "id": "15EiSYtojH10"
      }
    },
    {
      "cell_type": "code",
      "execution_count": 18,
      "source": [
        "%load_ext line_profiler"
      ],
      "outputs": [],
      "metadata": {
        "id": "m1rNfo7ZjH11"
      }
    },
    {
      "cell_type": "code",
      "execution_count": 26,
      "source": [
        "cp.get_default_memory_pool().free_all_blocks()\r\n",
        "cp.get_default_pinned_memory_pool().free_all_blocks()\r\n",
        "# %lprun -f rot_mrc_CUDA rot_mrc_CUDA(mrc_N2.data, mrc_N2.vec, (48,48,48), [270,90,30])"
      ],
      "outputs": [],
      "metadata": {
        "id": "63RsHl94jH11"
      }
    },
    {
      "cell_type": "code",
      "execution_count": null,
      "source": [
        "%lprun -f rot_mrc rot_mrc(mrc_N2.data, mrc_N2.vec, (48,48,48), [270,90,30])"
      ],
      "outputs": [],
      "metadata": {
        "id": "uuo-qIlP5zgw"
      }
    },
    {
      "cell_type": "code",
      "execution_count": 28,
      "source": [
        "\r\n",
        "\r\n",
        "cp.get_default_memory_pool().free_all_blocks()\r\n",
        "cp.get_default_pinned_memory_pool().free_all_blocks()"
      ],
      "outputs": [],
      "metadata": {}
    },
    {
      "cell_type": "code",
      "execution_count": 29,
      "source": [
        "\r\n",
        "%lprun -f search_map_fft_CUDA search_map_fft_CUDA(mrc_N1, mrc_N2, ang=60)\r\n",
        "# search_map_fft_CUDA(mrc_N1, mrc_N2, ang=30)"
      ],
      "outputs": [],
      "metadata": {
        "id": "gHwgIeJPjH11",
        "outputId": "94e18c51-4549-4ea1-a800-b44c2c33c0f4",
        "colab": {
          "base_uri": "https://localhost:8080/",
          "height": 67,
          "referenced_widgets": [
            "96a63538aafd47cc894956d125c4d784",
            "05c72ece057244af822770b75496af40",
            "46715a85b94a48b1b684dea629cd921f",
            "485eea0d430740b28e81112868aec15f",
            "67f70a7fca454e899455125c27daa4e0",
            "045bcc46bbff4044bda99c68993ce2a4",
            "811e48c0412b4cf8bea1fab60afdd8cc",
            "7e424104088c41ad8645b929e40d427b"
          ]
        }
      }
    },
    {
      "cell_type": "code",
      "execution_count": 106,
      "source": [
        "%lprun -f search_map_fft search_map_fft(mrc_N1, mrc_N2, ang=30)"
      ],
      "outputs": [
        {
          "output_type": "display_data",
          "data": {
            "text/plain": [
              "HBox(children=(FloatProgress(value=0.0, description='FFT', max=1008.0, style=ProgressStyle(description_width='…"
            ],
            "application/vnd.jupyter.widget-view+json": {
              "model_id": "bcb9944d55d543b2bee82ce5e8afcd87",
              "version_minor": 0,
              "version_major": 2
            }
          },
          "metadata": {
            "tags": []
          }
        },
        {
          "output_type": "stream",
          "name": "stdout",
          "text": [
            "\n"
          ]
        }
      ],
      "metadata": {
        "id": "HS_hPTdS6OeN",
        "outputId": "9bbbf89f-1c15-4824-c1a8-2ec30d89a9ef",
        "colab": {
          "base_uri": "https://localhost:8080/",
          "height": 67,
          "referenced_widgets": [
            "bcb9944d55d543b2bee82ce5e8afcd87",
            "c3bbfd13499c442a86bb08687e1a952d",
            "65859b1b481441e884517a4ef723b28c",
            "9b579d45103d4c72a2eef73f672d3f9c",
            "4456fee712864f0e8b399fb00a1c002b",
            "947d6f5e79344fe4a8a553079cf8a6df",
            "b34996ff17ec4790ae885dfc4b4b5166",
            "e67b7404a6074b5c97e07f4e32eb7725"
          ]
        }
      }
    },
    {
      "cell_type": "code",
      "execution_count": null,
      "source": [
        "%lprun -f fastVEC fastVEC(mrc1, mrc_N1)"
      ],
      "outputs": [],
      "metadata": {
        "id": "0Z8YFszPr6Pd"
      }
    },
    {
      "cell_type": "code",
      "execution_count": null,
      "source": [
        "%lprun -f calc calc(stp_t, endp_t, pos_t, mrc1.data, fsiv)"
      ],
      "outputs": [],
      "metadata": {
        "id": "5SXmvPhikUJp"
      }
    },
    {
      "cell_type": "code",
      "execution_count": null,
      "source": [
        "# x1 = copy.deepcopy(mrc_N1.vec[:, :, :, 0])\r\n",
        "# y1 = copy.deepcopy(mrc_N1.vec[:, :, :, 1])\r\n",
        "\r\n",
        "# a = pyfftw.empty_aligned((x1.shape), dtype=\"float32\")\r\n",
        "# b = pyfftw.empty_aligned(\r\n",
        "#     (a.shape[0], a.shape[1], a.shape[2] // 2 + 1), dtype=\"complex64\"\r\n",
        "# )\r\n",
        "# a = x1\r\n",
        "# b = np.zeros(b.shape, dtype=\"complex64\")\r\n",
        "\r\n",
        "# fft_object = pyfftw.FFTW(a, b, axes=(0, 1, 2))\r\n",
        "\r\n",
        "# fft_object(a)\r\n",
        "\r\n",
        "# a = y1\r\n",
        "# fft_object(a)"
      ],
      "outputs": [],
      "metadata": {
        "id": "Ugb1StkyjH12"
      }
    },
    {
      "cell_type": "code",
      "execution_count": null,
      "source": [
        "!curl https://colab.chainer.org/install | sh -\n"
      ],
      "outputs": [],
      "metadata": {
        "id": "Pu1snXbGv92I"
      }
    },
    {
      "cell_type": "code",
      "execution_count": 27,
      "source": [
        "import cupy as cp\n",
        "import numpy as np"
      ],
      "outputs": [],
      "metadata": {
        "id": "_EQwoBXDwzZt"
      }
    },
    {
      "cell_type": "code",
      "execution_count": 62,
      "source": [
        "def heya():\n",
        "  b=range(1000)\n",
        "  a = np.array([b,b,b])\n",
        "  return np.flip(a)"
      ],
      "outputs": [],
      "metadata": {
        "id": "TZ4QTWqEufs3"
      }
    },
    {
      "cell_type": "code",
      "execution_count": 65,
      "source": [
        "def heyaCP():\n",
        "  b = range(1000)\n",
        "  a = cp.array([b,b,b])\n",
        "  return cp.flip(a)"
      ],
      "outputs": [],
      "metadata": {
        "id": "_smTzPPEvGlE"
      }
    },
    {
      "cell_type": "code",
      "execution_count": 66,
      "source": [
        "%%time\n",
        "cp.get_default_memory_pool().free_all_blocks()\n",
        "cp.get_default_pinned_memory_pool().free_all_blocks()\n",
        "a = heyaCP()\n",
        "# print(type(a))"
      ],
      "outputs": [
        {
          "output_type": "stream",
          "name": "stdout",
          "text": [
            "CPU times: user 1.07 ms, sys: 14 µs, total: 1.08 ms\n",
            "Wall time: 1.09 ms\n"
          ]
        }
      ],
      "metadata": {
        "id": "TjyHJuxux75q",
        "outputId": "85d56b9f-29e2-4217-ec36-ca545a216219",
        "colab": {
          "base_uri": "https://localhost:8080/"
        }
      }
    },
    {
      "cell_type": "code",
      "execution_count": 67,
      "source": [
        "%%time\n",
        "a = heya()"
      ],
      "outputs": [
        {
          "output_type": "stream",
          "name": "stdout",
          "text": [
            "CPU times: user 376 µs, sys: 0 ns, total: 376 µs\n",
            "Wall time: 380 µs\n"
          ]
        }
      ],
      "metadata": {
        "id": "RXqwun_iyRiB",
        "outputId": "de93b374-7c3d-4f84-c347-c24c71363886",
        "colab": {
          "base_uri": "https://localhost:8080/"
        }
      }
    },
    {
      "cell_type": "code",
      "execution_count": null,
      "source": [],
      "outputs": [],
      "metadata": {
        "id": "c_-4zPcA-vse"
      }
    }
  ]
}